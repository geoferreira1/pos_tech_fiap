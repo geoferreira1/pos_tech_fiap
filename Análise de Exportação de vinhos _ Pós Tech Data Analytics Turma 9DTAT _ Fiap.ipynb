{
 "cells": [
  {
   "cell_type": "markdown",
   "metadata": {
    "application/vnd.databricks.v1+cell": {
     "cellMetadata": {},
     "inputWidgets": {},
     "nuid": "68ed967e-c68e-4508-ab52-fc54b8811461",
     "showTitle": false,
     "tableResultSettingsMap": {},
     "title": ""
    }
   },
   "source": [
    "## Configura tabelas e importa libs"
   ]
  },
  {
   "cell_type": "code",
   "execution_count": 0,
   "metadata": {
    "application/vnd.databricks.v1+cell": {
     "cellMetadata": {},
     "inputWidgets": {},
     "nuid": "daa5c5a4-30ca-42c0-9158-e0fb223c1489",
     "showTitle": true,
     "tableResultSettingsMap": {},
     "title": "Cria tabelas que serão utilizadas para análise"
    },
    "jupyter": {
     "source_hidden": true
    }
   },
   "outputs": [],
   "source": [
    "%python\n",
    "# Lista de arquivos e tabelas\n",
    "tabelas = [\n",
    "    (\"df_comercio\", \"/FileStore/tables/df_comercio-4.csv\"),\n",
    "    (\"df_exportacao\", \"/FileStore/tables/df_exportacao-6.csv\"),\n",
    "    (\"df_importacao\", \"/FileStore/tables/df_importacao-2.csv\"),\n",
    "    (\"df_processamento\", \"/FileStore/tables/df_processamento-3.csv\"),\n",
    "    (\"df_producao\", \"/FileStore/tables/df_producao-3.csv\")\n",
    "]\n",
    "\n",
    "# Parâmetros comuns de leitura\n",
    "file_type = 'csv'\n",
    "infer_schema = 'true'\n",
    "first_row_is_header = 'true'\n",
    "delimiter = ','\n",
    "thousands = '.'\n",
    "decimal = ','\n",
    "\n",
    "\n",
    "# Loop para processar cada tabela\n",
    "for table_name, file_location in tabelas:\n",
    "    # Remove a tabela do metastore (se existir)\n",
    "    spark.sql(f\"DROP TABLE IF EXISTS default.{table_name}\")\n",
    "    \n",
    "    # Remove o diretório físico da tabela (se existir)\n",
    "    dbutils.fs.rm(f\"dbfs:/user/hive/warehouse/{table_name}\", recurse=True)\n",
    "\n",
    "# Loop para processar cada tabela\n",
    "for table_name, file_location in tabelas:\n",
    "    df = spark.read.format(file_type) \\\n",
    "        .option('inferSchema', infer_schema) \\\n",
    "        .option('header', first_row_is_header) \\\n",
    "        .option('sep', delimiter) \\\n",
    "        .option('multiLine', 'true') \\\n",
    "        .option('quote', '\"') \\\n",
    "        .option('escape', '\"') \\\n",
    "        .option('thousands', thousands) \\\n",
    "        .option('decimal', decimal) \\\n",
    "        .load(file_location)\n",
    "\n",
    "    # Salva como tabela no metastore do Databricks\n",
    "    df.write.mode(\"overwrite\").format(\"parquet\").saveAsTable(f\"default.{table_name}\")\n"
   ]
  },
  {
   "cell_type": "code",
   "execution_count": 0,
   "metadata": {
    "application/vnd.databricks.v1+cell": {
     "cellMetadata": {
      "byteLimit": 2048000,
      "rowLimit": 10000
     },
     "inputWidgets": {},
     "nuid": "cbde60ff-2005-40d9-a36a-eea86236e542",
     "showTitle": false,
     "tableResultSettingsMap": {},
     "title": ""
    },
    "jupyter": {
     "outputs_hidden": true
    }
   },
   "outputs": [
    {
     "output_type": "stream",
     "name": "stdout",
     "output_type": "stream",
     "text": [
      "Requirement already satisfied: openpyxl in /local_disk0/.ephemeral_nfs/envs/pythonEnv-9b450bcf-a208-4660-9802-5fe064f2eaa4/lib/python3.11/site-packages (3.1.5)\nRequirement already satisfied: et-xmlfile in /local_disk0/.ephemeral_nfs/envs/pythonEnv-9b450bcf-a208-4660-9802-5fe064f2eaa4/lib/python3.11/site-packages (from openpyxl) (2.0.0)\n\u001B[43mNote: you may need to restart the kernel using %restart_python or dbutils.library.restartPython() to use updated packages.\u001B[0m\n"
     ]
    }
   ],
   "source": [
    "%python\n",
    "pip install openpyxl"
   ]
  },
  {
   "cell_type": "code",
   "execution_count": 0,
   "metadata": {
    "application/vnd.databricks.v1+cell": {
     "cellMetadata": {
      "byteLimit": 2048000,
      "rowLimit": 10000
     },
     "inputWidgets": {},
     "nuid": "26c72f15-d986-4d77-b565-9085aacf5c27",
     "showTitle": false,
     "tableResultSettingsMap": {},
     "title": ""
    },
    "jupyter": {
     "outputs_hidden": true
    }
   },
   "outputs": [
    {
     "output_type": "stream",
     "name": "stdout",
     "output_type": "stream",
     "text": [
      "Requirement already satisfied: lxml in /local_disk0/.ephemeral_nfs/envs/pythonEnv-9b450bcf-a208-4660-9802-5fe064f2eaa4/lib/python3.11/site-packages (5.4.0)\n\u001B[43mNote: you may need to restart the kernel using %restart_python or dbutils.library.restartPython() to use updated packages.\u001B[0m\n"
     ]
    }
   ],
   "source": [
    "%python\n",
    "pip install lxml"
   ]
  },
  {
   "cell_type": "code",
   "execution_count": 0,
   "metadata": {
    "application/vnd.databricks.v1+cell": {
     "cellMetadata": {
      "byteLimit": 2048000,
      "rowLimit": 10000
     },
     "inputWidgets": {},
     "nuid": "13867b4c-074f-4cdb-85ff-48ac3d21f8dc",
     "showTitle": true,
     "tableResultSettingsMap": {},
     "title": "libs"
    },
    "jupyter": {
     "source_hidden": true
    }
   },
   "outputs": [],
   "source": [
    "%python\n",
    "# Bibliotecas padrão\n",
    "import pandas as pd\n",
    "import numpy as np\n",
    "import matplotlib.pyplot as plt\n",
    "import seaborn as sns\n",
    "import matplotlib.ticker as ticker\n",
    "import requests\n",
    "from pyspark.sql import functions as F\n",
    "from sklearn.preprocessing import MinMaxScaler\n",
    "\n",
    "import warnings\n",
    "\n",
    "# Desabilitar todos os warnings\n",
    "warnings.filterwarnings(\"ignore\")\n"
   ]
  },
  {
   "cell_type": "code",
   "execution_count": 0,
   "metadata": {
    "application/vnd.databricks.v1+cell": {
     "cellMetadata": {
      "byteLimit": 2048000,
      "rowLimit": 10000
     },
     "inputWidgets": {},
     "nuid": "6ce0f4d5-b7c7-4bab-86c5-ab7ff1d1db67",
     "showTitle": true,
     "tableResultSettingsMap": {},
     "title": "Importa mercado"
    },
    "jupyter": {
     "source_hidden": true
    }
   },
   "outputs": [],
   "source": [
    "%python\n",
    "# importando a base de dados de mercado\n",
    "mercado = pd.read_excel('https://github.com/victorcbarros/Analise-Exportacao-de-Vinhos/raw/main/data-dados/raw-iniciais/dadosvinhos.xlsx')"
   ]
  },
  {
   "cell_type": "code",
   "execution_count": 0,
   "metadata": {
    "application/vnd.databricks.v1+cell": {
     "cellMetadata": {
      "byteLimit": 2048000,
      "rowLimit": 10000
     },
     "inputWidgets": {},
     "nuid": "4e3eda47-bc31-43f9-9336-efec30497702",
     "showTitle": true,
     "tableResultSettingsMap": {},
     "title": "Importa população"
    },
    "jupyter": {
     "source_hidden": true
    }
   },
   "outputs": [],
   "source": [
    "%python\n",
    "# importando a base de dados de população\n",
    "# extraindo a url\n",
    "url = 'https://pt.wikipedia.org/wiki/Lista_de_pa%C3%ADses_por_popula%C3%A7%C3%A3o'\n",
    "\n",
    "# Fazendo a requisição usando requests\n",
    "response = requests.get(url)\n",
    "\n",
    "# Verifica se a requisição foi bem sucedida\n",
    "if response.status_code == 200:\n",
    "    # Lendo o HTML para um DataFrame\n",
    "    populacao = pd.read_html(response.text)[0]\n",
    "    populacao.head()\n",
    "else:\n",
    "    print(\"Falha ao acessar o site. Status code:\", response.status_code)"
   ]
  },
  {
   "cell_type": "code",
   "execution_count": 0,
   "metadata": {
    "application/vnd.databricks.v1+cell": {
     "cellMetadata": {
      "byteLimit": 2048000,
      "rowLimit": 10000
     },
     "inputWidgets": {},
     "nuid": "b7063d17-acc6-4ea2-bcbf-0d5c817a9ac7",
     "showTitle": true,
     "tableResultSettingsMap": {},
     "title": "Configura visualizaçoes de gráficos verticais"
    },
    "jupyter": {
     "source_hidden": true
    }
   },
   "outputs": [],
   "source": [
    "%python\n",
    "# criando um função de costumização para usar nos graficos verticais\n",
    "def grafico_vertical(ax,valor,titulo):\n",
    "    # Removendo a caixa ao redor do gráfico\n",
    "    ax.spines['top'].set_visible(False)\n",
    "    ax.spines['right'].set_visible(False)\n",
    "    ax.spines['left'].set_visible(False)\n",
    "    ax.spines['bottom'].set_visible(False)\n",
    "    # Ajustando a altura do eixo y\n",
    "    ax.set_ylim(0, valor.max() * 1.1)  # aumenta o limite superior e inferior em 10%\n",
    "    #removendo o tick do eixo x\n",
    "    ax.xaxis.set_ticks_position('none')\n",
    "    # Removendo o label do eixo y\n",
    "    ax.set_ylabel('',fontsize=10)\n",
    "    # Removendo o label do eixo x\n",
    "    ax.set_xlabel('',fontsize=10)\n",
    "    # Removendo os valores do eixo y\n",
    "    ax.yaxis.set_ticks([])  # Remove as marcações do eixo y\n",
    "    ax.yaxis.set_ticklabels([])  # Remove os rótulos do eixo y\n",
    "    # Ajustando o tamanho das fontes dos ticks\n",
    "    ax.tick_params(axis='both', which='major', labelsize=10)\n",
    "    # Definindo o título do gráfico em negrito e tamanho 12\n",
    "    ax.set_title(titulo, fontweight='bold', fontsize=12)\n",
    "    # ajustando as porporções\n",
    "    plt.tight_layout()"
   ]
  },
  {
   "cell_type": "code",
   "execution_count": 0,
   "metadata": {
    "application/vnd.databricks.v1+cell": {
     "cellMetadata": {
      "byteLimit": 2048000,
      "rowLimit": 10000
     },
     "inputWidgets": {},
     "nuid": "958aa0ab-3346-4e6c-acb1-548da32c7660",
     "showTitle": true,
     "tableResultSettingsMap": {},
     "title": "Configura visualizaçoes de gráficos horizontais"
    },
    "jupyter": {
     "source_hidden": true
    }
   },
   "outputs": [],
   "source": [
    "%python\n",
    "# criando um função de costumização para usar nos graficos horizontais\n",
    "def grafico_horizontal(ax,valor,titulo):\n",
    "    # Removendo a caixa ao redor do gráfico\n",
    "    ax.spines['top'].set_visible(False)\n",
    "    ax.spines['right'].set_visible(False)\n",
    "    ax.spines['left'].set_visible(False)\n",
    "    ax.spines['bottom'].set_visible(False)\n",
    "    # Ajustando a altura do eixo y\n",
    "    ax.set_xlim(0, valor.max() * 1.1)  # aumenta o limite superior em 10%\n",
    "    #removendo o tick do eixo y\n",
    "    ax.yaxis.set_ticks_position('none')\n",
    "    # Removendo o label do eixo y\n",
    "    ax.set_ylabel('',fontsize=10)\n",
    "    # Removendo o label do eixo x\n",
    "    ax.set_xlabel('',fontsize=10)\n",
    "    # Removendo os valores do eixo y\n",
    "    ax.xaxis.set_ticks([])  # Remove as marcações do eixo x\n",
    "    ax.xaxis.set_ticklabels([])  # Remove os rótulos do eixo x\n",
    "    # Ajustando o tamanho das fontes dos ticks\n",
    "    ax.tick_params(axis='both', which='major', labelsize=10)\n",
    "    # Definindo o título do gráfico em negrito e tamanho 12\n",
    "    ax.set_title(titulo, fontweight='bold', fontsize=12)\n",
    "    # ajustando as porporções\n",
    "    plt.tight_layout()"
   ]
  },
  {
   "cell_type": "markdown",
   "metadata": {
    "application/vnd.databricks.v1+cell": {
     "cellMetadata": {},
     "inputWidgets": {},
     "nuid": "da818199-d6bc-410d-88a1-6f6e51e2242c",
     "showTitle": false,
     "tableResultSettingsMap": {},
     "title": ""
    }
   },
   "source": [
    "## Análises"
   ]
  },
  {
   "cell_type": "code",
   "execution_count": 0,
   "metadata": {
    "application/vnd.databricks.v1+cell": {
     "cellMetadata": {
      "byteLimit": 2048000,
      "rowLimit": 10000
     },
     "inputWidgets": {},
     "nuid": "2851d992-6ad4-43f1-aa84-7dfc813e7a10",
     "showTitle": false,
     "tableResultSettingsMap": {},
     "title": ""
    }
   },
   "outputs": [],
   "source": [
    "%python\n",
    "\n",
    "# Consulta Spark SQL\n",
    "df_producao = spark.sql(\"SELECT * FROM workspace.pos_fiap.producao\")\n",
    "\n",
    "\n",
    "# Aplica o filtro corretamente em PySpark\n",
    "df_filtrado = df_producao.filter(\n",
    "    (~df_producao.produto.isin('VINHO FINO DE MESA (VINIFERA)', 'VINHO DE MESA', 'SUCO', 'DERIVADOS')) &\n",
    "    (F.lower(df_producao.categoria_produto).startswith('vinho'))\n",
    ")\n"
   ]
  },
  {
   "cell_type": "code",
   "execution_count": 0,
   "metadata": {
    "application/vnd.databricks.v1+cell": {
     "cellMetadata": {
      "byteLimit": 2048000,
      "rowLimit": 10000
     },
     "inputWidgets": {},
     "nuid": "19e471ea-e1b8-4bb9-a43b-a8a105523bdc",
     "showTitle": false,
     "tableResultSettingsMap": {},
     "title": ""
    }
   },
   "outputs": [],
   "source": [
    "%python\n",
    "\n",
    "# Converte Spark DataFrame para Pandas\n",
    "df_filtrado_pd = df_filtrado.toPandas()\n",
    "\n",
    "# calculando a quantidade de vinhos produzidas \n",
    "quantidade_produzida = df_filtrado_pd.groupby('categoria_produto')['quantidade_produzida'].sum()\n",
    "# ordenando os valores em ordem decrescente\n",
    "quantidade_produzida.sort_values(ascending=False,inplace = True)\n",
    "# dividindo os valores por bilhão para ficar melhor a visualização\n",
    "quantidade_produzida = quantidade_produzida / 1_000_000_000"
   ]
  },
  {
   "cell_type": "code",
   "execution_count": 0,
   "metadata": {
    "application/vnd.databricks.v1+cell": {
     "cellMetadata": {
      "byteLimit": 2048000,
      "rowLimit": 10000
     },
     "inputWidgets": {},
     "nuid": "9ea211c1-7bd0-4038-bbaa-c01422e6d5ec",
     "showTitle": false,
     "tableResultSettingsMap": {},
     "title": ""
    }
   },
   "outputs": [
    {
     "output_type": "display_data",
     "data": {
      "image/png": "[encoded data removed]",
      "text/plain": [
       "<Figure size 800x600 with 1 Axes>"
      ]
     },
     "metadata": {},
     "output_type": "display_data"
    }
   ],
   "source": [
    "%python\n",
    "# definindo o tamanho da figura\n",
    "plt.figure(figsize=(8,6))\n",
    "# criando o grafico de quantidade de vinhos produzida\n",
    "ax = sns.barplot(x = quantidade_produzida.index,y = quantidade_produzida.values, color = 'tan')\n",
    "# criando rotulo de dados no grafico \n",
    "for p in ax.patches:\n",
    "    ax.annotate(f'{p.get_height():.2f} Bi',\n",
    "                (p.get_x() + p.get_width() / 2., p.get_height()),\n",
    "                ha='center', va='center', xytext=(0, 10),\n",
    "                textcoords='offset points')\n",
    "# adicionando o titulo no grafico \n",
    "grafico_vertical(ax,quantidade_produzida,'Categorias de vinhos mais produzidas (Litros)')"
   ]
  },
  {
   "cell_type": "code",
   "execution_count": 0,
   "metadata": {
    "application/vnd.databricks.v1+cell": {
     "cellMetadata": {
      "byteLimit": 2048000,
      "rowLimit": 10000
     },
     "inputWidgets": {},
     "nuid": "41129668-efa3-48dc-9613-3915100c7c6e",
     "showTitle": false,
     "tableResultSettingsMap": {},
     "title": ""
    }
   },
   "outputs": [],
   "source": [
    "%python\n",
    "\n",
    "# Converte Spark DataFrame para Pandas\n",
    "df_filtrado_pd = df_filtrado.toPandas()\n",
    "\n",
    "\n",
    "# criando uma variavel para analisar a produção de vinhos por ano \n",
    "producao_por_ano = df_filtrado_pd.groupby('ano')['quantidade_produzida'].sum()\n",
    "# dividindo o valor por milhão para facilitar a vizualização \n",
    "producao_por_ano = producao_por_ano / 1_000_000\n",
    "#criando um dataframe \n",
    "producao_por_ano = producao_por_ano.reset_index()\n",
    "# criando uma coluna com a Média\n",
    "producao_por_ano['Média'] = producao_por_ano['quantidade_produzida'].mean()\n",
    "# Arredondando os valores\n",
    "producao_por_ano = producao_por_ano.round(0)\n"
   ]
  },
  {
   "cell_type": "code",
   "execution_count": 0,
   "metadata": {
    "application/vnd.databricks.v1+cell": {
     "cellMetadata": {
      "byteLimit": 2048000,
      "rowLimit": 10000
     },
     "inputWidgets": {},
     "nuid": "01838eb6-031e-4758-a849-d7e49ee5a3ed",
     "showTitle": false,
     "tableResultSettingsMap": {},
     "title": ""
    }
   },
   "outputs": [
    {
     "output_type": "display_data",
     "data": {
      "image/png": "[encoded data removed]",
      "text/plain": [
       "<Figure size 1500x500 with 1 Axes>"
      ]
     },
     "metadata": {},
     "output_type": "display_data"
    }
   ],
   "source": [
    "%python\n",
    "\n",
    "#Ajusta type da coluna de ano\n",
    "producao_por_ano['ano'] = producao_por_ano['ano'].astype(str)\n",
    "\n",
    "#criando o grafico 1 \n",
    "plt.figure(figsize=(15,5))\n",
    "ax = sns.barplot(data = producao_por_ano, x =  'ano', y = 'quantidade_produzida' ,color = 'tan' )\n",
    "# criando rotulo de dados no grafico \n",
    "for p in ax.patches:\n",
    "    ax.annotate(f'{p.get_height():.0f} Mi',\n",
    "                (p.get_x() + p.get_width() / 2., p.get_height()),\n",
    "                ha='center', va='center', xytext=(0, 10),\n",
    "                textcoords='offset points')\n",
    "\n",
    "# criando o grafico 2 \n",
    "sns.lineplot(data = producao_por_ano, x =  'ano', y = 'Média' ,color = 'sienna', marker = 'o',linestyle = '--')\n",
    "\n",
    "\n",
    "# Adicionando legendas para cada gráfico\n",
    "line = plt.Line2D([], [], color='sienna', marker='o', linestyle='--', label='Media Produção')\n",
    "bar = plt.Rectangle((0, 0), 1, 1, fc='tan', edgecolor='none', label='Produção')\n",
    "plt.legend(handles=[bar, line], loc='upper right')\n",
    "# chamando nossa função de grafico \n",
    "grafico_vertical(ax,producao_por_ano['quantidade_produzida'],'Produção por ano (Litros)')\n",
    "plt.show()"
   ]
  },
  {
   "cell_type": "code",
   "execution_count": 0,
   "metadata": {
    "application/vnd.databricks.v1+cell": {
     "cellMetadata": {
      "byteLimit": 2048000,
      "rowLimit": 10000
     },
     "inputWidgets": {},
     "nuid": "9f008aa2-1f5e-473b-bc5a-c94b70b9232f",
     "showTitle": false,
     "tableResultSettingsMap": {},
     "title": ""
    }
   },
   "outputs": [],
   "source": [
    "%python\n",
    "# Converte Spark DataFrame para Pandas\n",
    "df_filtrado_pd = df_filtrado.toPandas()\n",
    "# calculando a produção entre 2008 e 2015\n",
    "producao_2008_2015 =  (df_filtrado_pd.groupby('ano')['quantidade_produzida'].sum()[:8].sum() / 1_000_000_000).round(1)\n",
    "# calculando a produção entre 2016 e 2022\n",
    "producao_2016_2023 =  (df_filtrado_pd.groupby('ano')['quantidade_produzida'].sum()[8:].sum() / 1_000_000_000).round(1)\n",
    "# criando um dataframe com esse intervalo \n",
    "intervalo = {'2008 - 2015': producao_2008_2015, '2016 - 2023': producao_2016_2023} \n",
    "df_intervalo = pd.DataFrame(list(intervalo.items()),columns =['Periodo','Valor'])"
   ]
  },
  {
   "cell_type": "code",
   "execution_count": 0,
   "metadata": {
    "application/vnd.databricks.v1+cell": {
     "cellMetadata": {
      "byteLimit": 2048000,
      "rowLimit": 10000
     },
     "inputWidgets": {},
     "nuid": "c4c36d49-cdd4-40dc-b48f-fe91ca3a473f",
     "showTitle": false,
     "tableResultSettingsMap": {},
     "title": ""
    }
   },
   "outputs": [
    {
     "output_type": "display_data",
     "data": {
      "image/png": "[encoded data removed]",
      "text/plain": [
       "<Figure size 1000x800 with 1 Axes>"
      ]
     },
     "metadata": {},
     "output_type": "display_data"
    }
   ],
   "source": [
    "%python\n",
    "# definindo o tamanho da figura\n",
    "plt.figure(figsize=(10,8))\n",
    "# criando o grafico do período\n",
    "grafico_periodo = sns.barplot(data = df_intervalo , x = 'Periodo', y = 'Valor',color = 'tan')\n",
    "# adicionando o rotulo de dados\n",
    "for p in grafico_periodo.patches:\n",
    "    grafico_periodo.annotate(f'{p.get_height():.1f} Bi',\n",
    "                (p.get_x() + p.get_width() / 2., p.get_height()),\n",
    "                ha='center', va='center', xytext=(0, 10),\n",
    "                textcoords='offset points')\n",
    "# chamando a função que costumiza o gráfico\n",
    "grafico_vertical(grafico_periodo,df_intervalo['Valor'],'Produção por ano')\n",
    "# exibindo o gráfico \n",
    "plt.show()"
   ]
  },
  {
   "cell_type": "code",
   "execution_count": 0,
   "metadata": {
    "application/vnd.databricks.v1+cell": {
     "cellMetadata": {
      "byteLimit": 2048000,
      "rowLimit": 10000
     },
     "inputWidgets": {},
     "nuid": "d0adabf4-70d0-4a7b-9356-26028ba90f80",
     "showTitle": false,
     "tableResultSettingsMap": {},
     "title": ""
    }
   },
   "outputs": [],
   "source": [
    "%python\n",
    "estados = {\n",
    "    'Rio Grande do Sul': 46.97,\n",
    "    'São Paulo': 8.44,\n",
    "    'Pernambuco': 8.26,\n",
    "    'Paraná': 4.00,\n",
    "    'Bahia': 2.07,\n",
    "    'Minas Gerais': 1.35,\n",
    "    'Espírito Santo': 0.20,\n",
    "    'Paraíba': 0.11,\n",
    "    'Goiás': 0.11,\n",
    "    'Distrito Federal': 0.06\n",
    "}\n",
    "\n",
    "area = pd.DataFrame(list(estados.items()), columns=['Estado', 'Area'])"
   ]
  },
  {
   "cell_type": "code",
   "execution_count": 0,
   "metadata": {
    "application/vnd.databricks.v1+cell": {
     "cellMetadata": {
      "byteLimit": 2048000,
      "rowLimit": 10000
     },
     "inputWidgets": {},
     "nuid": "251e243c-7152-4714-93ef-3a48b8048d99",
     "showTitle": false,
     "tableResultSettingsMap": {},
     "title": ""
    }
   },
   "outputs": [
    {
     "output_type": "display_data",
     "data": {
      "image/png": "[encoded data removed]",
      "text/plain": [
       "<Figure size 1200x500 with 1 Axes>"
      ]
     },
     "metadata": {},
     "output_type": "display_data"
    }
   ],
   "source": [
    "%python\n",
    "# modificando o tamanho da figura\n",
    "plt.figure(figsize=(12,5))\n",
    "# criando o gráfico\n",
    "grafico_area = sns.barplot(data = area , x = 'Estado' , y = 'Area', color = 'sienna')\n",
    "# adicionando o rotulo de dados\n",
    "for p in grafico_area.patches:\n",
    "    grafico_area.annotate(f'{p.get_height():.2f} Mil',\n",
    "                (p.get_x() + p.get_width() / 2., p.get_height()),\n",
    "                ha='center', va='center', xytext=(0, 10),\n",
    "                textcoords='offset points')\n",
    "# chamando a função que costumiza o gráfico\n",
    "grafico_vertical(grafico_area,area['Area'],'Área por Estado (Hectares)')\n",
    "# exibindo o grafico\n",
    "plt.show()"
   ]
  },
  {
   "cell_type": "code",
   "execution_count": 0,
   "metadata": {
    "application/vnd.databricks.v1+cell": {
     "cellMetadata": {
      "byteLimit": 2048000,
      "rowLimit": 10000
     },
     "inputWidgets": {},
     "nuid": "f0acf904-d8e7-4f39-8c6f-ddeda05a279d",
     "showTitle": false,
     "tableResultSettingsMap": {},
     "title": ""
    }
   },
   "outputs": [],
   "source": [
    "%python\n",
    "\n",
    "# Consulta Spark SQL\n",
    "df_comercio = spark.sql(\"SELECT * FROM workspace.pos_fiap.comercio\")"
   ]
  },
  {
   "cell_type": "code",
   "execution_count": 0,
   "metadata": {
    "application/vnd.databricks.v1+cell": {
     "cellMetadata": {
      "byteLimit": 2048000,
      "rowLimit": 10000
     },
     "inputWidgets": {},
     "nuid": "a6be83ab-bc6d-4da0-b337-62648a35d476",
     "showTitle": false,
     "tableResultSettingsMap": {},
     "title": ""
    }
   },
   "outputs": [],
   "source": [
    "%python\n",
    "# Converte Spark DataFrame para Pandas\n",
    "df_comercio = df_comercio.toPandas()\n",
    "comercio_vinhos  = df_comercio[(df_comercio['categoria_produto'] == 'vinho de mesa') | (df_comercio['categoria_produto'] == 'vinho fino vinífera')]\n"
   ]
  },
  {
   "cell_type": "code",
   "execution_count": 0,
   "metadata": {
    "application/vnd.databricks.v1+cell": {
     "cellMetadata": {
      "byteLimit": 2048000,
      "rowLimit": 10000
     },
     "inputWidgets": {},
     "nuid": "2f4123ed-30c4-42c0-b37c-f5578e5fb367",
     "showTitle": false,
     "tableResultSettingsMap": {},
     "title": ""
    }
   },
   "outputs": [],
   "source": [
    "%python\n",
    "# calculando o total comercializado de vinhos por tipo\n",
    "quantidade_comercializada = comercio_vinhos.groupby('categoria_produto')['quantidade_comercializada'].sum()\n",
    "# ordenando os valores em ordem decrescente\n",
    "quantidade_comercializada.sort_values(ascending=False,inplace = True)\n",
    "# dividindo os valores por bilhão para ficar melhor a visualização\n",
    "quantidade_comercializada = quantidade_comercializada / 1_000_000_000"
   ]
  },
  {
   "cell_type": "code",
   "execution_count": 0,
   "metadata": {
    "application/vnd.databricks.v1+cell": {
     "cellMetadata": {
      "byteLimit": 2048000,
      "rowLimit": 10000
     },
     "inputWidgets": {},
     "nuid": "1acc4c42-e1bd-4cbc-ab1e-4fa9571c38a4",
     "showTitle": false,
     "tableResultSettingsMap": {},
     "title": ""
    }
   },
   "outputs": [
    {
     "output_type": "display_data",
     "data": {
      "image/png": "[encoded data removed]",
      "text/plain": [
       "<Figure size 1000x800 with 1 Axes>"
      ]
     },
     "metadata": {},
     "output_type": "display_data"
    }
   ],
   "source": [
    "%python\n",
    "# definindo o tamanho da figura\n",
    "plt.figure(figsize=(10,8))\n",
    "# criando o grafico de quantidade de vinhos produzida\n",
    "ax = sns.barplot(x = quantidade_comercializada.index,y = quantidade_comercializada.values, color = 'tan')\n",
    "# criando rotulo de dados no grafico \n",
    "for p in ax.patches:\n",
    "    ax.annotate(f'{p.get_height():.2f} Bi',\n",
    "                (p.get_x() + p.get_width() / 2., p.get_height()),\n",
    "                ha='center', va='center', xytext=(0, 10),\n",
    "                textcoords='offset points')\n",
    "# chamando a função de modificar o grafico\n",
    "grafico_vertical(ax,quantidade_comercializada,'Vinhos mais Comercializados')\n",
    "plt.show()"
   ]
  },
  {
   "cell_type": "code",
   "execution_count": 0,
   "metadata": {
    "application/vnd.databricks.v1+cell": {
     "cellMetadata": {
      "byteLimit": 2048000,
      "rowLimit": 10000
     },
     "inputWidgets": {},
     "nuid": "b474ab43-9807-4569-941f-ab7d6d0e69e2",
     "showTitle": false,
     "tableResultSettingsMap": {},
     "title": ""
    }
   },
   "outputs": [],
   "source": [
    "%python\n",
    "# criando uma variavel para analisar a comercialização de vinhos por ano \n",
    "comercializacao_por_ano = comercio_vinhos.groupby('ano')['quantidade_comercializada'].sum()\n",
    "# dividindo o valor por milhão para facilitar a vizualização \n",
    "comercializacao_por_ano = comercializacao_por_ano / 1_000_000\n",
    "#criando um dataframe \n",
    "comercializacao_por_ano = comercializacao_por_ano.reset_index()\n",
    "# criando uma coluna com a Média\n",
    "comercializacao_por_ano['Média'] = comercializacao_por_ano['quantidade_comercializada'].mean()\n",
    "# Arredondando os valores\n",
    "comercializacao_por_ano = comercializacao_por_ano.round(0)"
   ]
  },
  {
   "cell_type": "code",
   "execution_count": 0,
   "metadata": {
    "application/vnd.databricks.v1+cell": {
     "cellMetadata": {
      "byteLimit": 2048000,
      "rowLimit": 10000
     },
     "inputWidgets": {},
     "nuid": "224f80af-d192-45b3-9cbd-8259a421dd35",
     "showTitle": false,
     "tableResultSettingsMap": {},
     "title": ""
    }
   },
   "outputs": [
    {
     "output_type": "display_data",
     "data": {
      "image/png": "[encoded data removed]",
      "text/plain": [
       "<Figure size 1500x500 with 1 Axes>"
      ]
     },
     "metadata": {},
     "output_type": "display_data"
    }
   ],
   "source": [
    "%python\n",
    "\n",
    "#Ajusta type da coluna de ano\n",
    "comercializacao_por_ano['ano'] = comercializacao_por_ano['ano'].astype(str)\n",
    "\n",
    "#criando o grafico 1 \n",
    "plt.figure(figsize=(15,5))\n",
    "ax = sns.barplot(data = comercializacao_por_ano, x =  'ano', y = 'quantidade_comercializada' ,color = 'tan' )\n",
    "# criando rotulo de dados no grafico \n",
    "for p in ax.patches:\n",
    "    ax.annotate(f'{p.get_height():.0f} Mi',\n",
    "                (p.get_x() + p.get_width() / 2., p.get_height()),\n",
    "                ha='center', va='center', xytext=(0, 10),\n",
    "                textcoords='offset points')\n",
    "\n",
    "# criando o grafico 2 \n",
    "sns.lineplot(data = comercializacao_por_ano, x =  'ano', y = 'Média' ,color = 'sienna', marker = 'o',linestyle = '--')\n",
    "\n",
    "\n",
    "# Adicionando legendas para cada gráfico\n",
    "line = plt.Line2D([], [], color='sienna', marker='o', linestyle='--', label='Media Comercialização')\n",
    "bar = plt.Rectangle((0, 0), 1, 1, fc='tan', edgecolor='none', label='Comercialização')\n",
    "plt.legend(handles=[bar, line], loc='upper right')\n",
    "# chamando nossa função de grafico \n",
    "grafico_vertical(ax,comercializacao_por_ano['quantidade_comercializada'],'Comercialização por ano (Litros)')\n",
    "plt.show()"
   ]
  },
  {
   "cell_type": "code",
   "execution_count": 0,
   "metadata": {
    "application/vnd.databricks.v1+cell": {
     "cellMetadata": {
      "byteLimit": 2048000,
      "rowLimit": 10000
     },
     "inputWidgets": {},
     "nuid": "5ed8f132-2ecc-4285-b788-834370df1344",
     "showTitle": false,
     "tableResultSettingsMap": {},
     "title": ""
    }
   },
   "outputs": [],
   "source": [
    "%python\n",
    "# calculando a produção entre 2008 e 2015\n",
    "comercio_2008_2015 =  (comercio_vinhos.groupby('ano')['quantidade_comercializada'].sum()[:8].sum() / 1_000_000_000).round(1)\n",
    "# calculando a produção entre 2016 e 2022\n",
    "comercio_2016_2023 =  (comercio_vinhos.groupby('ano')['quantidade_comercializada'].sum()[8:].sum() / 1_000_000_000).round(1)\n",
    "# criando um dataframe com esse intervalo \n",
    "intervalo = {'2008 - 2015': comercio_2008_2015, '2016 - 2023': comercio_2016_2023} \n",
    "df_intervalo_comercio = pd.DataFrame(list(intervalo.items()),columns =['Periodo','Valor'])"
   ]
  },
  {
   "cell_type": "code",
   "execution_count": 0,
   "metadata": {
    "application/vnd.databricks.v1+cell": {
     "cellMetadata": {
      "byteLimit": 2048000,
      "rowLimit": 10000
     },
     "inputWidgets": {},
     "nuid": "782ce262-5a4d-43d3-8ccd-160604acd498",
     "showTitle": false,
     "tableResultSettingsMap": {},
     "title": ""
    }
   },
   "outputs": [
    {
     "output_type": "display_data",
     "data": {
      "image/png": "[encoded data removed]",
      "text/plain": [
       "<Figure size 1000x800 with 1 Axes>"
      ]
     },
     "metadata": {},
     "output_type": "display_data"
    }
   ],
   "source": [
    "%python\n",
    "# definindo o tamanho da figura\n",
    "plt.figure(figsize=(10,8))\n",
    "# criando o grafico do período\n",
    "grafico_periodo = sns.barplot(data = df_intervalo_comercio , x = 'Periodo', y = 'Valor',color = 'tan')\n",
    "# adicionando o rotulo de dados\n",
    "for p in grafico_periodo.patches:\n",
    "    grafico_periodo.annotate(f'{p.get_height():.1f} Bi',\n",
    "                (p.get_x() + p.get_width() / 2., p.get_height()),\n",
    "                ha='center', va='center', xytext=(0, 10),\n",
    "                textcoords='offset points')\n",
    "# chamando a função que costumiza o gráfico\n",
    "grafico_vertical(grafico_periodo,df_intervalo_comercio['Valor'],'Comercialização por ano')\n",
    "# exibindo o gráfico \n",
    "plt.show()"
   ]
  },
  {
   "cell_type": "code",
   "execution_count": 0,
   "metadata": {
    "application/vnd.databricks.v1+cell": {
     "cellMetadata": {
      "byteLimit": 2048000,
      "rowLimit": 10000
     },
     "inputWidgets": {},
     "nuid": "57b23e29-68f8-4181-a4ae-7d9660896be6",
     "showTitle": false,
     "tableResultSettingsMap": {},
     "title": ""
    }
   },
   "outputs": [],
   "source": [
    "%python\n",
    "\n",
    "# Consulta Spark SQL\n",
    "df_importacao = spark.sql(\"SELECT * FROM workspace.pos_fiap.importacao\")\n",
    "# Converte Spark DataFrame para Pandas\n",
    "df_importacao = df_importacao.toPandas()"
   ]
  },
  {
   "cell_type": "code",
   "execution_count": 0,
   "metadata": {
    "application/vnd.databricks.v1+cell": {
     "cellMetadata": {
      "byteLimit": 2048000,
      "rowLimit": 10000
     },
     "inputWidgets": {},
     "nuid": "0225b5cc-1ead-41f5-b9fa-8a8562414037",
     "showTitle": false,
     "tableResultSettingsMap": {},
     "title": ""
    }
   },
   "outputs": [],
   "source": [
    "%python\n",
    "df_importacao_filtrado  = df_importacao[(df_importacao['tipo_importacao'] == 'Vinhos')]\n"
   ]
  },
  {
   "cell_type": "code",
   "execution_count": 0,
   "metadata": {
    "application/vnd.databricks.v1+cell": {
     "cellMetadata": {
      "byteLimit": 2048000,
      "rowLimit": 10000
     },
     "inputWidgets": {},
     "nuid": "36422018-60b9-458b-be67-3035fb4f1a94",
     "showTitle": false,
     "tableResultSettingsMap": {},
     "title": ""
    }
   },
   "outputs": [
    {
     "output_type": "stream",
     "name": "stdout",
     "output_type": "stream",
     "text": [
      "Total Importado em Dolares (US$) : 5.21 Bilhões\nTotal Importado em Litros : 1.67 Bilhões\n"
     ]
    }
   ],
   "source": [
    "%python\n",
    "\n",
    "# Calculando a quantidade total importada\n",
    "total_importado = df_importacao_filtrado['quantidade_importada'].sum() / 1_000_000_000\n",
    "# Calculando o valor total importado\n",
    "total_importado_valor = df_importacao_filtrado['valor'].sum() / 1_000_000_000\n",
    "# imprimindo o valor total importado\n",
    "print(f'Total Importado em Dolares (US$) : {total_importado_valor.round(2)} Bilhões')\n",
    "# imprimindo a quantidade total importada\n",
    "print(f'Total Importado em Litros : {total_importado.round(2)} Bilhões')"
   ]
  },
  {
   "cell_type": "code",
   "execution_count": 0,
   "metadata": {
    "application/vnd.databricks.v1+cell": {
     "cellMetadata": {
      "byteLimit": 2048000,
      "rowLimit": 10000
     },
     "inputWidgets": {},
     "nuid": "956cfe09-17d4-4b94-b4c8-cca494126c76",
     "showTitle": false,
     "tableResultSettingsMap": {},
     "title": ""
    }
   },
   "outputs": [],
   "source": [
    "%python\n",
    "# calculando as importações ao longo dos anos\n",
    "importacao_anos = df_importacao_filtrado.groupby('ano')[['quantidade_importada','valor']].sum()\n",
    "# dividindo tudo por 1 Milhão para facilitar a visualização no grafico \n",
    "importacao_anos = importacao_anos / 1_000_000\n",
    "# Redefinindo o índice para que 'Ano' se torne uma coluna novamente\n",
    "importacao_anos = importacao_anos.reset_index()"
   ]
  },
  {
   "cell_type": "code",
   "execution_count": 0,
   "metadata": {
    "application/vnd.databricks.v1+cell": {
     "cellMetadata": {
      "byteLimit": 2048000,
      "rowLimit": 10000
     },
     "inputWidgets": {},
     "nuid": "f370716c-86c6-4e6e-a182-e5ecf451cf24",
     "showTitle": false,
     "tableResultSettingsMap": {},
     "title": ""
    }
   },
   "outputs": [
    {
     "output_type": "display_data",
     "data": {
      "image/png": "[encoded data removed]",
      "text/plain": [
       "<Figure size 1200x400 with 1 Axes>"
      ]
     },
     "metadata": {},
     "output_type": "display_data"
    }
   ],
   "source": [
    "%python\n",
    "# definindo o tamanho da figura\n",
    "plt.figure(figsize=(12,4))\n",
    "# Criando o gráfico de linha de valor de importação por ano\n",
    "grafico_linha_importacao_valor = sns.lineplot(data=importacao_anos, x='ano', y='valor', marker='o', color='tan', linewidth=3)  # Ajustando a largura da linha\n",
    "\n",
    "# Criando rótulo de dados no gráfico de valor\n",
    "for index, row in importacao_anos.iterrows():\n",
    "    plt.text(row['ano'], row['valor'] + 15, f'{row[\"valor\"]:.0f} M', ha='center', va='bottom', fontsize=9)\n",
    "\n",
    "# Criando o gráfico de linha de quantidade de importação por ano \n",
    "grafico_linha_importacao_quantidade = sns.lineplot(data=importacao_anos, x='ano', y='quantidade_importada', marker='o', color='sienna', linewidth=3) \n",
    "\n",
    "# Criando rótulo de dados no gráfico de quantidade\n",
    "for index, row in importacao_anos.iterrows():\n",
    "    plt.text(row['ano'], row['quantidade_importada'] + 15, f'{row[\"quantidade_importada\"]:.0f} M', ha='center', va='bottom', fontsize=9) \n",
    "\n",
    "# Adicionando legendas para cada gráfico\n",
    "line1 = plt.Line2D([], [], color='tan', marker='o', linestyle='--', label='Valor Importado(US$)')\n",
    "line2 = plt.Line2D([], [], color='sienna', marker='o', linestyle='--', label='Quantidade Importada(Kg)')\n",
    "plt.legend(handles=[line1, line2], loc='upper left')\n",
    "\n",
    "grafico_vertical(grafico_linha_importacao_valor,importacao_anos['valor'],'Importação entre 2008 e 2024')\n",
    "plt.show()"
   ]
  },
  {
   "cell_type": "code",
   "execution_count": 0,
   "metadata": {
    "application/vnd.databricks.v1+cell": {
     "cellMetadata": {
      "byteLimit": 2048000,
      "rowLimit": 10000
     },
     "inputWidgets": {},
     "nuid": "96548d36-73e9-4876-bdbf-c5975b1cfef3",
     "showTitle": false,
     "tableResultSettingsMap": {},
     "title": ""
    }
   },
   "outputs": [],
   "source": [
    "%python\n",
    "# calculando a importacao por país\n",
    "importacao_por_pais = df_importacao_filtrado.groupby('origem')[['quantidade_importada','valor']].sum()\n",
    "# dividindo por 1 milhão \n",
    "importacao_por_pais = (importacao_por_pais / 1_000_000).round(1)\n",
    "#ordenando por quantidade e criando um dataframe por quantidade dos top 10 países\n",
    "importacao_por_pais.sort_values(by = 'quantidade_importada',ascending = False,inplace = True)\n",
    "importacao_por_pais_quantidade = importacao_por_pais.head(10)\n",
    "# transformando 'origem' de índice em coluna\n",
    "importacao_por_pais_quantidade = importacao_por_pais_quantidade.reset_index()\n",
    "\n",
    "#ordenando por valor e criando um dataframe por valor dos top 10 países\n",
    "importacao_por_pais.sort_values(by = 'valor',ascending = False,inplace = True)\n",
    "importacao_por_pais_valor = importacao_por_pais.head(10)\n",
    "# transformando 'origem' de índice em coluna\n",
    "importacao_por_pais_valor = importacao_por_pais_valor.reset_index()"
   ]
  },
  {
   "cell_type": "code",
   "execution_count": 0,
   "metadata": {
    "application/vnd.databricks.v1+cell": {
     "cellMetadata": {
      "byteLimit": 2048000,
      "rowLimit": 10000
     },
     "inputWidgets": {},
     "nuid": "e6bc09e2-e3cc-4259-b41d-e9cb26ed0c43",
     "showTitle": false,
     "tableResultSettingsMap": {},
     "title": ""
    }
   },
   "outputs": [
    {
     "output_type": "display_data",
     "data": {
      "image/png": "[encoded data removed]",
      "text/plain": [
       "<Figure size 1200x600 with 2 Axes>"
      ]
     },
     "metadata": {},
     "output_type": "display_data"
    }
   ],
   "source": [
    "%python\n",
    "# criando a figura com os dois graficos\n",
    "fig,(ax1,ax2) = plt.subplots(1,2,figsize=(12,6))\n",
    "\n",
    "#criando o grafico de valor importado\n",
    "ax1 = sns.barplot(data = importacao_por_pais_valor,x ='valor',y = 'origem',color = 'tan',ax=ax1)\n",
    "# adicionando o rotulo de dados no grafico de valor importado\n",
    "for p in ax1.patches:\n",
    "    width = p.get_width()\n",
    "    ax1.annotate(f'{width:.1f} Mi',\n",
    "                 (p.get_x() + width, p.get_y() + p.get_height() / 2),\n",
    "                 ha='center', va='center', xytext=(25, 0),\n",
    "                 textcoords='offset points')\n",
    "# chamando a função de costumização para graficos na horizontal\n",
    "grafico_horizontal(ax1,importacao_por_pais_valor['valor'],'Top 10 Países que mais importaram (US$)')\n",
    "\n",
    "\n",
    "#criando o grafico de quantidade importada\n",
    "ax2 = sns.barplot(data = importacao_por_pais_quantidade,x ='quantidade_importada',y = 'origem',color = 'sienna',ax=ax2)\n",
    "# adicionando o rotulo de dados no grafico de quantidade importada\n",
    "for p in ax2.patches:\n",
    "    width = p.get_width()\n",
    "    ax2.annotate(f'{width:.1f} Mi',\n",
    "                 (p.get_x() + width, p.get_y() + p.get_height() / 2),\n",
    "                 ha='center', va='center', xytext=(25, 0),\n",
    "                 textcoords='offset points')\n",
    "# chamando a função de costumização para graficos na horizontal\n",
    "grafico_horizontal(ax2,importacao_por_pais_quantidade['quantidade_importada'],'Top 10 Países que mais importaram (Litros)')"
   ]
  },
  {
   "cell_type": "code",
   "execution_count": 0,
   "metadata": {
    "application/vnd.databricks.v1+cell": {
     "cellMetadata": {
      "byteLimit": 2048000,
      "rowLimit": 10000
     },
     "inputWidgets": {},
     "nuid": "a740ca99-a08e-4def-8144-a7cc8626664f",
     "showTitle": false,
     "tableResultSettingsMap": {},
     "title": ""
    }
   },
   "outputs": [],
   "source": [
    "%python\n",
    "top_importacao_por_pais = importacao_por_pais.head(10)\n",
    "# criando a coluna de valor do litro importado\n",
    "top_importacao_por_pais['Valor do Litro Importado (US$)'] = top_importacao_por_pais['valor'] / top_importacao_por_pais['quantidade_importada']\n",
    "# substituindo os valores 'inf' e '-inf' por NaN\n",
    "top_importacao_por_pais.replace([np.inf, -np.inf], np.nan, inplace=True)\n",
    "# substituindo os valores NaN por 0\n",
    "top_importacao_por_pais.fillna(0,inplace=True)\n",
    "# ordenando os valores de forma decrescente pelo valor do litro\n",
    "top_importacao_por_pais.sort_values(by='Valor do Litro Importado (US$)',ascending=False,inplace=True)\n",
    "# criando um dataframe com o Top10 de valor do litro importado\n",
    "valor_por_litro_importado = top_importacao_por_pais.head(10)\n",
    "# transformando 'origem' de índice em coluna\n",
    "valor_por_litro_importado = valor_por_litro_importado.reset_index()\n",
    "\n"
   ]
  },
  {
   "cell_type": "code",
   "execution_count": 0,
   "metadata": {
    "application/vnd.databricks.v1+cell": {
     "cellMetadata": {
      "byteLimit": 2048000,
      "rowLimit": 10000
     },
     "inputWidgets": {},
     "nuid": "c8fb7c4b-f75e-435a-8d6d-a2c9d6f07fd7",
     "showTitle": false,
     "tableResultSettingsMap": {},
     "title": ""
    }
   },
   "outputs": [
    {
     "output_type": "display_data",
     "data": {
      "image/png": "[encoded data removed]",
      "text/plain": [
       "<Figure size 1200x600 with 1 Axes>"
      ]
     },
     "metadata": {},
     "output_type": "display_data"
    }
   ],
   "source": [
    "%python\n",
    "# definindo o tamanho da figura\n",
    "plt.figure(figsize=(12,6))\n",
    "# criando o grafico de valor por litro importado\n",
    "grafico_valor_por_litro_importado = sns.barplot(data = valor_por_litro_importado,x = 'Valor do Litro Importado (US$)',y= 'origem',color = 'tan')\n",
    "# adicionando o rotulo de dados no grafico de valor por litro\n",
    "for p in grafico_valor_por_litro_importado.patches:\n",
    "    width = p.get_width()\n",
    "    grafico_valor_por_litro_importado.annotate(f'$ {width:.1f}',\n",
    "                 (p.get_x() + width, p.get_y() + p.get_height() / 2),\n",
    "                 ha='center', va='center', xytext=(25, 0),\n",
    "                 textcoords='offset points')\n",
    "# chamando a função de costumização para graficos na horizontal\n",
    "grafico_horizontal(grafico_valor_por_litro_importado,valor_por_litro_importado['Valor do Litro Importado (US$)'],'Valor do Litro Importado (US$)')"
   ]
  },
  {
   "cell_type": "code",
   "execution_count": 0,
   "metadata": {
    "application/vnd.databricks.v1+cell": {
     "cellMetadata": {
      "byteLimit": 2048000,
      "rowLimit": 10000
     },
     "inputWidgets": {},
     "nuid": "0355c20c-8b17-443f-9e66-0cf2cff809da",
     "showTitle": false,
     "tableResultSettingsMap": {},
     "title": ""
    }
   },
   "outputs": [],
   "source": [
    "%python\n",
    "#criando o dataframe de quantidade de importacao por país e por ano\n",
    "quantidade_importacao = df_importacao_filtrado[['origem','ano','quantidade_importada']]\n",
    "# substituindo os valores NaN por 0\n",
    "quantidade_importacao.fillna(0,inplace=True)\n",
    "# abrindo o dataframe por ano com o pivot\n",
    "quantidade_importacao = quantidade_importacao.pivot(index='origem',columns='ano',values='quantidade_importada')\n"
   ]
  },
  {
   "cell_type": "code",
   "execution_count": 0,
   "metadata": {
    "application/vnd.databricks.v1+cell": {
     "cellMetadata": {
      "byteLimit": 2048000,
      "rowLimit": 10000
     },
     "inputWidgets": {},
     "nuid": "fcd7b8f9-a8fe-4e48-aff2-22c630aff311",
     "showTitle": false,
     "tableResultSettingsMap": {},
     "title": ""
    }
   },
   "outputs": [],
   "source": [
    "%python\n",
    "# calculando a taxa de crescimento anual composta de importacao de vinhos para cada país(CARG Importação)\n",
    "carg_quantidade_importacao = (quantidade_importacao.iloc[:, -1] / quantidade_importacao.iloc[:, 0]) ** (1 / (quantidade_importacao.shape[1] - 1)) - 1\n",
    "# substituindo os valores 'inf' e '-inf' por NaN\n",
    "carg_quantidade_importacao.replace([np.inf, -np.inf], np.nan, inplace=True)\n",
    "# substituindo os valores NaN por 0\n",
    "carg_quantidade_importacao.fillna(0,inplace=True)\n",
    "# ordenando os países com maior CARG Producao\n",
    "carg_quantidade_importacao = carg_quantidade_importacao.sort_values(ascending=False)\n",
    "# selecionando os top 10 com maior taxa de crescimento anual composta de importação de vinho \n",
    "top10_taxa_de_importacao_quantidade = carg_quantidade_importacao.head(10)\n",
    "# transformando o valor em porcentagem \n",
    "top10_taxa_de_importacao_quantidade = (top10_taxa_de_importacao_quantidade * 100).round(2)\n",
    "# criando o dataframe\n",
    "top10_taxa_de_importacao_quantidade = pd.DataFrame(top10_taxa_de_importacao_quantidade, columns=['Taxa de Crescimento anual de Quantidade de Vinho Importada'])\n",
    "# transformando 'origem' de índice em coluna\n",
    "top10_taxa_de_importacao_quantidade = top10_taxa_de_importacao_quantidade.reset_index()"
   ]
  },
  {
   "cell_type": "code",
   "execution_count": 0,
   "metadata": {
    "application/vnd.databricks.v1+cell": {
     "cellMetadata": {
      "byteLimit": 2048000,
      "rowLimit": 10000
     },
     "inputWidgets": {},
     "nuid": "c4bc6c66-b0c5-4734-9f4d-b12a7c780818",
     "showTitle": false,
     "tableResultSettingsMap": {},
     "title": ""
    }
   },
   "outputs": [],
   "source": [
    "%python\n",
    "#criando o dataframe de valor de importacao por país e por ano\n",
    "valor_importacao = df_importacao_filtrado[['origem','ano','valor']]\n",
    "# substituindo os valores NaN por 0\n",
    "valor_importacao.fillna(0,inplace=True)\n",
    "# abrindo o dataframe por ano com o pivot\n",
    "valor_importacao = valor_importacao.pivot(index='origem',columns='ano',values='valor')"
   ]
  },
  {
   "cell_type": "code",
   "execution_count": 0,
   "metadata": {
    "application/vnd.databricks.v1+cell": {
     "cellMetadata": {
      "byteLimit": 2048000,
      "rowLimit": 10000
     },
     "inputWidgets": {},
     "nuid": "8f6be3e9-ee3e-476d-b5ea-142ee39b5e13",
     "showTitle": false,
     "tableResultSettingsMap": {},
     "title": ""
    }
   },
   "outputs": [],
   "source": [
    "%python\n",
    "# calculando a taxa de crescimento anual composta de importacao de vinhos para cada país(CARG Importação)\n",
    "carg_valor_importacao = (valor_importacao.iloc[:, -1] / valor_importacao.iloc[:, 0]) ** (1 / (valor_importacao.shape[1] - 1)) - 1\n",
    "# substituindo os valores 'inf' e '-inf' por NaN\n",
    "carg_valor_importacao.replace([np.inf, -np.inf], np.nan, inplace=True)\n",
    "# substituindo os valores NaN por 0\n",
    "carg_valor_importacao.fillna(0,inplace=True)\n",
    "# ordenando os países com maior CARG Producao\n",
    "carg_valor_importacao = carg_valor_importacao.sort_values(ascending=False)\n",
    "# selecionando os top 10 com maior taxa de crescimento anual composta de importação de vinho \n",
    "top10_taxa_de_importacao_valor = carg_valor_importacao.head(10)\n",
    "# transformando o valor em porcentagem \n",
    "top10_taxa_de_importacao_valor = (top10_taxa_de_importacao_valor * 100).round(2)\n",
    "# criando o dataframe\n",
    "top10_taxa_de_importacao_valor = pd.DataFrame(top10_taxa_de_importacao_valor, columns=['Taxa de Crescimento anual de Valor de Vinho Importada'])\n",
    "# transformando 'origem' de índice em coluna\n",
    "top10_taxa_de_importacao_valor = top10_taxa_de_importacao_valor.reset_index()"
   ]
  },
  {
   "cell_type": "code",
   "execution_count": 0,
   "metadata": {
    "application/vnd.databricks.v1+cell": {
     "cellMetadata": {
      "byteLimit": 2048000,
      "rowLimit": 10000
     },
     "inputWidgets": {},
     "nuid": "8e1df508-c116-4edf-8093-00886ab715ab",
     "showTitle": false,
     "tableResultSettingsMap": {},
     "title": ""
    }
   },
   "outputs": [
    {
     "output_type": "display_data",
     "data": {
      "image/png": "[encoded data removed]",
      "text/plain": [
       "<Figure size 1600x500 with 2 Axes>"
      ]
     },
     "metadata": {},
     "output_type": "display_data"
    }
   ],
   "source": [
    "%python\n",
    "# criando a figura com os dois graficos\n",
    "fig,(ax1,ax2) = plt.subplots(1,2,figsize=(16,5))\n",
    "\n",
    "#criando o grafico do top 10 com maior crescimento de importação por quantidade importada\n",
    "ax1 = sns.barplot(data = top10_taxa_de_importacao_quantidade,x ='Taxa de Crescimento anual de Quantidade de Vinho Importada',y = 'origem',color = 'tan',ax=ax1)\n",
    "# adicionando o rotulo de dados no grafico de valor importado\n",
    "for p in ax1.patches:\n",
    "    width = p.get_width()\n",
    "    ax1.annotate(f'{width:.2f} %',\n",
    "                 (p.get_x() + width, p.get_y() + p.get_height() / 2),\n",
    "                 ha='center', va='center', xytext=(-25, 0),\n",
    "                 textcoords='offset points')\n",
    "# chamando a função de costumização para graficos na horizontal\n",
    "grafico_horizontal(ax1,top10_taxa_de_importacao_quantidade['Taxa de Crescimento anual de Quantidade de Vinho Importada'],'Países com Maior Crescimento em Quantidade (Litros) Importado \\n no Mercado Brasileiro entre 2008 e 2022')\n",
    "\n",
    "\n",
    "#criando o grafico de quantidade importada\n",
    "ax2 = sns.barplot(data = top10_taxa_de_importacao_valor,x ='Taxa de Crescimento anual de Valor de Vinho Importada',y = 'origem',color = 'sienna',ax=ax2)\n",
    "# adicionando o rotulo de dados no grafico de quantidade importada\n",
    "for p in ax2.patches:\n",
    "    width = p.get_width()\n",
    "    ax2.annotate(f'{width:.2f} %',\n",
    "                 (p.get_x() + width, p.get_y() + p.get_height() / 2),\n",
    "                 ha='center', va='center', xytext=(-25, 0),\n",
    "                 textcoords='offset points')\n",
    "# chamando a função de costumização para graficos na horizontal\n",
    "grafico_horizontal(ax2,top10_taxa_de_importacao_valor['Taxa de Crescimento anual de Valor de Vinho Importada'],'Países com Maior Crescimento em Valor (US$) Importado \\n no Mercado Brasileiro entre 2008 e 2022')\n"
   ]
  },
  {
   "cell_type": "code",
   "execution_count": 0,
   "metadata": {
    "application/vnd.databricks.v1+cell": {
     "cellMetadata": {
      "byteLimit": 2048000,
      "rowLimit": 10000
     },
     "inputWidgets": {},
     "nuid": "920bb5f2-baa2-455f-a070-6826847355d3",
     "showTitle": false,
     "tableResultSettingsMap": {},
     "title": ""
    }
   },
   "outputs": [],
   "source": [
    "%python\n",
    "\n",
    "# Consulta Spark SQL\n",
    "df_exportacao = spark.sql(\"SELECT * FROM workspace.pos_fiap.exportacao\")\n",
    "# Converte Spark DataFrame para Pandas\n",
    "df_exportacao = df_exportacao.toPandas()\n",
    "\n",
    "\n",
    "df_exportacao_filtrado  = df_exportacao[(df_exportacao['tipo_exportacao'] == 'Vinhos')]"
   ]
  },
  {
   "cell_type": "code",
   "execution_count": 0,
   "metadata": {
    "application/vnd.databricks.v1+cell": {
     "cellMetadata": {
      "byteLimit": 2048000,
      "rowLimit": 10000
     },
     "inputWidgets": {},
     "nuid": "30fb322f-22cd-4140-8add-44ceac8c97ef",
     "showTitle": false,
     "tableResultSettingsMap": {},
     "title": ""
    }
   },
   "outputs": [],
   "source": [
    "%python\n",
    "# definindo o index como país para filtrar as colunas de 2008 a 2022\n",
    "exportacao = df_exportacao_filtrado.set_index('destino')\n"
   ]
  },
  {
   "cell_type": "code",
   "execution_count": 0,
   "metadata": {
    "application/vnd.databricks.v1+cell": {
     "cellMetadata": {
      "byteLimit": 2048000,
      "rowLimit": 10000
     },
     "inputWidgets": {},
     "nuid": "41bfbc16-fb5f-41e0-ab18-01383cd38b98",
     "showTitle": false,
     "tableResultSettingsMap": {},
     "title": ""
    }
   },
   "outputs": [],
   "source": [
    "%python\n",
    "exportacao_total_anos = df_exportacao_filtrado.groupby('ano')[['quantidade_exportada','valor']].sum()\n",
    "exportacao_total_anos = exportacao_total_anos / 1_000_000\n",
    "exportacao_total_anos.reset_index(inplace=True)"
   ]
  },
  {
   "cell_type": "code",
   "execution_count": 0,
   "metadata": {
    "application/vnd.databricks.v1+cell": {
     "cellMetadata": {
      "byteLimit": 2048000,
      "rowLimit": 10000
     },
     "inputWidgets": {},
     "nuid": "10c294e6-f1a2-430d-a9b9-c900d5f0f4e2",
     "showTitle": false,
     "tableResultSettingsMap": {},
     "title": ""
    }
   },
   "outputs": [
    {
     "output_type": "display_data",
     "data": {
      "image/png": "[encoded data removed]",
      "text/plain": [
       "<Figure size 1200x400 with 2 Axes>"
      ]
     },
     "metadata": {},
     "output_type": "display_data"
    }
   ],
   "source": [
    "%python\n",
    "# criando a figura com os dois graficos\n",
    "fig,(ax1,ax2) = plt.subplots(2,1,figsize=(12,4))\n",
    "#criando Exportação por quantidade \n",
    "grafico_exportacao_linha_quantidade = sns.lineplot(data = exportacao_total_anos, x = 'ano',y ='quantidade_exportada',ax = ax1,color = 'tan',marker = 'o')\n",
    "# Criando rótulo de dados no gráfico de linha de quantidade\n",
    "for index, row in exportacao_total_anos.iterrows():\n",
    "    ax1.text(row['ano'], row['quantidade_exportada'] + 2, f'{row[\"quantidade_exportada\"]:.2f} M', \n",
    "             ha='center', va='bottom', fontsize=9)\n",
    "# chamando a função de costumização do grafico\n",
    "grafico_vertical(grafico_exportacao_linha_quantidade,exportacao_total_anos['quantidade_exportada'],'Quantidade Exportada 2009 - 2024')\n",
    "\n",
    "#criando Exportação por quantidade \n",
    "grafico_exportacao_linha_valor = sns.lineplot(data = exportacao_total_anos, x = 'ano',y ='valor',ax = ax2,color = 'sienna',marker = 'o')\n",
    "# Criando rótulo de dados no gráfico de linha de quantidade\n",
    "for index, row in exportacao_total_anos.iterrows():\n",
    "    ax2.text(row['ano'], row['valor'] + 1, f'$ {row[\"valor\"]:.2f} M', \n",
    "             ha='center', va='bottom', fontsize=9)\n",
    "# chamando a função de costumização do grafico\n",
    "grafico_vertical(grafico_exportacao_linha_valor,exportacao_total_anos['valor'],'Valor Exportada 2009 - 2024')\n"
   ]
  },
  {
   "cell_type": "code",
   "execution_count": 0,
   "metadata": {
    "application/vnd.databricks.v1+cell": {
     "cellMetadata": {
      "byteLimit": 2048000,
      "rowLimit": 10000
     },
     "inputWidgets": {},
     "nuid": "75cedfbd-cd53-4410-a861-04b9db189d15",
     "showTitle": false,
     "tableResultSettingsMap": {},
     "title": ""
    }
   },
   "outputs": [],
   "source": [
    "%python\n",
    "\n",
    "# juntando os dataframes\n",
    "importacao_exportacao = pd.merge(df_importacao_filtrado,df_exportacao_filtrado,on =['origem','ano'])"
   ]
  },
  {
   "cell_type": "code",
   "execution_count": 0,
   "metadata": {
    "application/vnd.databricks.v1+cell": {
     "cellMetadata": {
      "byteLimit": 2048000,
      "rowLimit": 10000
     },
     "inputWidgets": {},
     "nuid": "78fc0f28-19e9-4349-9e6f-be29ddbfeeba",
     "showTitle": false,
     "tableResultSettingsMap": {},
     "title": ""
    }
   },
   "outputs": [],
   "source": [
    "%python\n",
    "# criando o dataframe da exportação apenas da Rússia \n",
    "exportacao_russia = importacao_exportacao[importacao_exportacao['destino_y'] == 'Russia']\n",
    "# eliminando coluna de importação\n",
    "exportacao_russia.drop(['quantidade_importada','valor_x'],axis=1,inplace=True)\n",
    "# dividindo os valores por 1 milhão \n",
    "exportacao_russia['quantidade_exportada'] = exportacao_russia['quantidade_exportada'] / 1_000_000\n",
    "exportacao_russia['valor_y'] = exportacao_russia['valor_y'] / 1_000_000\n"
   ]
  },
  {
   "cell_type": "code",
   "execution_count": 0,
   "metadata": {
    "application/vnd.databricks.v1+cell": {
     "cellMetadata": {
      "byteLimit": 2048000,
      "rowLimit": 10000
     },
     "inputWidgets": {},
     "nuid": "a0b1ff39-ca09-4695-932f-3553e8aae8c5",
     "showTitle": false,
     "tableResultSettingsMap": {},
     "title": ""
    }
   },
   "outputs": [
    {
     "output_type": "stream",
     "name": "stdout",
     "output_type": "stream",
     "text": [
      "[]\n"
     ]
    }
   ],
   "source": [
    "%python\n",
    "print(exportacao_russia['ano'].unique())\n"
   ]
  },
  {
   "cell_type": "code",
   "execution_count": 0,
   "metadata": {
    "application/vnd.databricks.v1+cell": {
     "cellMetadata": {
      "byteLimit": 2048000,
      "rowLimit": 10000
     },
     "inputWidgets": {},
     "nuid": "63e72717-a8ee-4b63-a989-a18ef52afbe6",
     "showTitle": false,
     "tableResultSettingsMap": {},
     "title": ""
    }
   },
   "outputs": [
    {
     "output_type": "display_data",
     "data": {
      "image/png": "[encoded data removed]",
      "text/plain": [
       "<Figure size 1200x300 with 1 Axes>"
      ]
     },
     "metadata": {},
     "output_type": "display_data"
    }
   ],
   "source": [
    "%python\n",
    "# criando a figura\n",
    "plt.figure(figsize = (12,3))\n",
    "# criando o grafico de quantidade\n",
    "quantidade_russia = sns.lineplot(data = exportacao_russia, x = 'ano' ,y = 'quantidade_exportada', color= '#F1B951',marker='o')\n",
    "\n",
    "# Criando rótulo de dados no gráfico de quantidade da Rússia\n",
    "for index, row in exportacao_russia.iterrows():\n",
    "    plt.text(row['ano'], row['quantidade_exportada'] + 1, f'{row[\"quantidade_exportada\"]:.0f} M', ha='center', va='bottom', fontsize=9) \n",
    "\n",
    "\n",
    "# criando o grafico de valor\n",
    "valor_russia = sns.lineplot(data = exportacao_russia, x = 'ano' ,y = 'valor_y', color= '#5E8EAC',marker='o')\n",
    "\n",
    "# Criando rótulo de dados no gráfico de valor da Rússia\n",
    "for index, row in exportacao_russia.iterrows():\n",
    "    plt.text(row['ano'], row['valor_y'] + 1, f'{row[\"valor_y\"]:.0f} M', ha='center', va='bottom', fontsize=9)\n",
    "\n",
    "# Adicionando legendas para cada gráfico\n",
    "russia_quantidade = plt.Line2D([], [], color='#F1B951', marker='o', linestyle='--', label='Total de Litros')\n",
    "russia_valor = plt.Line2D([], [], color='#5E8EAC', marker='o', linestyle='--', label='Valor (US$)')\n",
    "plt.legend(handles=[russia_quantidade, russia_valor], loc='upper right') \n",
    "# chamando a função de costumização de grafico\n",
    "grafico_vertical(quantidade_russia,exportacao_russia['quantidade_exportada'],'Litros e Valor Exportado - Russia')\n",
    "plt.grid()"
   ]
  },
  {
   "cell_type": "code",
   "execution_count": 0,
   "metadata": {
    "application/vnd.databricks.v1+cell": {
     "cellMetadata": {
      "byteLimit": 2048000,
      "rowLimit": 10000
     },
     "inputWidgets": {},
     "nuid": "08827d8f-e19d-4752-9e0a-82e408e2ad74",
     "showTitle": false,
     "tableResultSettingsMap": {},
     "title": ""
    }
   },
   "outputs": [],
   "source": [
    "%python\n",
    "# calculando a exportacao por país\n",
    "exportacao_por_pais = importacao_exportacao.groupby('destino_y')[['quantidade_exportada','valor_y']].sum()\n",
    "# dividindo por 1 milhão \n",
    "exportacao_por_pais = (exportacao_por_pais / 1_000_000).round(1)\n",
    "#ordenando por quantidade e criando um dataframe por quantidade dos top 10 países\n",
    "exportacao_por_pais.sort_values(by = 'quantidade_exportada',ascending = False,inplace = True)\n",
    "exportacao_por_pais_quantidade = exportacao_por_pais.head(10)\n",
    "exportacao_por_pais_quantidade.reset_index(inplace=True)\n",
    "#ordenando por valor e criando um dataframe por valor dos top 10 países\n",
    "exportacao_por_pais.sort_values(by = 'valor_y',ascending = False,inplace = True)\n",
    "exportacao_por_pais_valor = exportacao_por_pais.head(10)\n",
    "exportacao_por_pais_valor.reset_index(inplace=True)"
   ]
  },
  {
   "cell_type": "code",
   "execution_count": 0,
   "metadata": {
    "application/vnd.databricks.v1+cell": {
     "cellMetadata": {
      "byteLimit": 2048000,
      "rowLimit": 10000
     },
     "inputWidgets": {},
     "nuid": "5d12f79f-2502-4fbf-9087-c2fc02e5af9e",
     "showTitle": false,
     "tableResultSettingsMap": {},
     "title": ""
    }
   },
   "outputs": [
    {
     "output_type": "display_data",
     "data": {
      "image/png": "[encoded data removed]",
      "text/plain": [
       "<Figure size 1000x400 with 2 Axes>"
      ]
     },
     "metadata": {},
     "output_type": "display_data"
    }
   ],
   "source": [
    "%python\n",
    "# criando a figura com os dois graficos\n",
    "fig,(ax1,ax2) = plt.subplots(1,2,figsize=(10,4))\n",
    "\n",
    "#criando o grafico de valor exportado\n",
    "ax1 = sns.barplot(data = exportacao_por_pais_valor,x ='valor_y',y = 'destino_y',color = 'tan',ax=ax1)\n",
    "# adicionando o rotulo de dados no grafico de valor exportado\n",
    "for p in ax1.patches:\n",
    "    width = p.get_width()\n",
    "    ax1.annotate(f'{width:.1f} Mi',\n",
    "                 (p.get_x() + width, p.get_y() + p.get_height() / 2),\n",
    "                 ha='center', va='center', xytext=(25, 0),\n",
    "                 textcoords='offset points')\n",
    "# chamando a função de costumização para graficos na horizontal\n",
    "grafico_horizontal(ax1,exportacao_por_pais_valor['valor_y'],'Top 10 Países que mais Exportaram (US$)')\n",
    "\n",
    "\n",
    "#criando o grafico de quantidade exportada\n",
    "ax2 = sns.barplot(data = exportacao_por_pais_quantidade,x ='quantidade_exportada',y = 'destino_y',color = 'sienna',ax=ax2)\n",
    "# adicionando o rotulo de dados no grafico de quantidade exportada\n",
    "for p in ax2.patches:\n",
    "    width = p.get_width()\n",
    "    ax2.annotate(f'{width:.1f} Mi',\n",
    "                 (p.get_x() + width, p.get_y() + p.get_height() / 2),\n",
    "                 ha='center', va='center', xytext=(25, 0),\n",
    "                 textcoords='offset points')\n",
    "# chamando a função de costumização para graficos na horizontal\n",
    "grafico_horizontal(ax2,exportacao_por_pais_quantidade['quantidade_exportada'],'Top 10 Países que mais Exportaram (Litros)')"
   ]
  },
  {
   "cell_type": "code",
   "execution_count": 0,
   "metadata": {
    "application/vnd.databricks.v1+cell": {
     "cellMetadata": {
      "byteLimit": 2048000,
      "rowLimit": 10000
     },
     "inputWidgets": {},
     "nuid": "cf8b5fd8-fe38-4185-a4e1-b873f9ef40c6",
     "showTitle": false,
     "tableResultSettingsMap": {},
     "title": ""
    }
   },
   "outputs": [],
   "source": [
    "%python\n",
    "# calculando a exportacao por país para obter valor por litro\n",
    "valor_por_litro_exportado = importacao_exportacao.groupby('destino_y')[['quantidade_exportada','valor_y']].sum()\n",
    "#ordenando por valor exportado\n",
    "valor_por_litro_exportado.sort_values(by='valor_y',ascending=False,inplace=True)\n",
    "# pegando o top 10 de valor exportado\n",
    "valor_por_litro_exportado = valor_por_litro_exportado.head(10)\n",
    "valor_por_litro_exportado.reset_index(inplace=True)\n",
    "#criando a coluna de valor do litro exportado\n",
    "valor_por_litro_exportado['Valor do Litro Exportado(US$)'] = valor_por_litro_exportado['valor_y'] / valor_por_litro_exportado['quantidade_exportada']\n",
    "# ordenando por valor do litro exportado\n",
    "valor_por_litro_exportado.sort_values(by='Valor do Litro Exportado(US$)',ascending=False,inplace=True)"
   ]
  },
  {
   "cell_type": "code",
   "execution_count": 0,
   "metadata": {
    "application/vnd.databricks.v1+cell": {
     "cellMetadata": {
      "byteLimit": 2048000,
      "rowLimit": 10000
     },
     "inputWidgets": {},
     "nuid": "b2bca570-bba4-4220-96a2-8472f17b22cd",
     "showTitle": false,
     "tableResultSettingsMap": {},
     "title": ""
    }
   },
   "outputs": [
    {
     "output_type": "display_data",
     "data": {
      "image/png": "[encoded data removed]",
      "text/plain": [
       "<Figure size 1000x400 with 1 Axes>"
      ]
     },
     "metadata": {},
     "output_type": "display_data"
    }
   ],
   "source": [
    "%python\n",
    "# definindo o tamanho da figura\n",
    "plt.figure(figsize=(10,4))\n",
    "# criando o grafico de valor por litro exportado\n",
    "grafico_valor_por_litro_exportado = sns.barplot(data = valor_por_litro_exportado,x = 'Valor do Litro Exportado(US$)',y= 'destino_y',color = 'tan')\n",
    "# adicionando o rotulo de dados no grafico de valor por litro\n",
    "for p in grafico_valor_por_litro_exportado.patches:\n",
    "    width = p.get_width()\n",
    "    grafico_valor_por_litro_exportado.annotate(f'$ {width:.1f}',\n",
    "                 (p.get_x() + width, p.get_y() + p.get_height() / 2),\n",
    "                 ha='center', va='center', xytext=(25, 0),\n",
    "                 textcoords='offset points')\n",
    "# chamando a função de costumização para graficos na horizontal\n",
    "grafico_horizontal(grafico_valor_por_litro_exportado,valor_por_litro_exportado['Valor do Litro Exportado(US$)'],'Valor do Litro Exportado (US$)')\n"
   ]
  },
  {
   "cell_type": "code",
   "execution_count": 0,
   "metadata": {
    "application/vnd.databricks.v1+cell": {
     "cellMetadata": {
      "byteLimit": 2048000,
      "rowLimit": 10000
     },
     "inputWidgets": {},
     "nuid": "cef74cc5-cb2e-4ccc-ae01-3dabb1e496a2",
     "showTitle": false,
     "tableResultSettingsMap": {},
     "title": ""
    }
   },
   "outputs": [],
   "source": [
    "%python\n",
    "# calculando a variação da quantidade exportada com relaão ao ano anterior\n",
    "exportacao_total_anos['Variação'] = exportacao_total_anos['quantidade_exportada'].pct_change() * 100\n",
    "exportacao_total_anos.fillna(0,inplace=True)"
   ]
  },
  {
   "cell_type": "code",
   "execution_count": 0,
   "metadata": {
    "application/vnd.databricks.v1+cell": {
     "cellMetadata": {
      "byteLimit": 2048000,
      "rowLimit": 10000
     },
     "inputWidgets": {},
     "nuid": "40385769-f3d8-4a7d-bb0e-2c488a6004b2",
     "showTitle": false,
     "tableResultSettingsMap": {},
     "title": ""
    }
   },
   "outputs": [
    {
     "output_type": "execute_result",
     "data": {
      "text/html": [
       "<div>\n",
       "<style scoped>\n",
       "    .dataframe tbody tr th:only-of-type {\n",
       "        vertical-align: middle;\n",
       "    }\n",
       "\n",
       "    .dataframe tbody tr th {\n",
       "        vertical-align: top;\n",
       "    }\n",
       "\n",
       "    .dataframe thead tr th {\n",
       "        text-align: left;\n",
       "    }\n",
       "</style>\n",
       "<table border=\"1\" class=\"dataframe\">\n",
       "  <thead>\n",
       "    <tr>\n",
       "      <th></th>\n",
       "      <th>País de Origem</th>\n",
       "      <th>País Destino</th>\n",
       "      <th>Quantidade Exportada(L)</th>\n",
       "      <th>Valor Exportado(US$)</th>\n",
       "    </tr>\n",
       "  </thead>\n",
       "  <tbody>\n",
       "    <tr>\n",
       "      <th>0</th>\n",
       "      <td>Brasil</td>\n",
       "      <td>Paraguai</td>\n",
       "      <td>34.5</td>\n",
       "      <td>48.0</td>\n",
       "    </tr>\n",
       "    <tr>\n",
       "      <th>1</th>\n",
       "      <td>Brasil</td>\n",
       "      <td>Russia</td>\n",
       "      <td>32.8</td>\n",
       "      <td>23.2</td>\n",
       "    </tr>\n",
       "    <tr>\n",
       "      <th>2</th>\n",
       "      <td>Brasil</td>\n",
       "      <td>Estados Unidos</td>\n",
       "      <td>3.7</td>\n",
       "      <td>10.0</td>\n",
       "    </tr>\n",
       "    <tr>\n",
       "      <th>3</th>\n",
       "      <td>Brasil</td>\n",
       "      <td>China</td>\n",
       "      <td>2.6</td>\n",
       "      <td>5.1</td>\n",
       "    </tr>\n",
       "    <tr>\n",
       "      <th>4</th>\n",
       "      <td>Brasil</td>\n",
       "      <td>Reino Unido</td>\n",
       "      <td>1.2</td>\n",
       "      <td>4.7</td>\n",
       "    </tr>\n",
       "    <tr>\n",
       "      <th>5</th>\n",
       "      <td>Brasil</td>\n",
       "      <td>Haiti</td>\n",
       "      <td>2.8</td>\n",
       "      <td>3.9</td>\n",
       "    </tr>\n",
       "    <tr>\n",
       "      <th>6</th>\n",
       "      <td>Brasil</td>\n",
       "      <td>Espanha</td>\n",
       "      <td>2.0</td>\n",
       "      <td>3.8</td>\n",
       "    </tr>\n",
       "    <tr>\n",
       "      <th>7</th>\n",
       "      <td>Brasil</td>\n",
       "      <td>Paises Baixos</td>\n",
       "      <td>0.9</td>\n",
       "      <td>3.0</td>\n",
       "    </tr>\n",
       "    <tr>\n",
       "      <th>8</th>\n",
       "      <td>Brasil</td>\n",
       "      <td>Japao</td>\n",
       "      <td>1.0</td>\n",
       "      <td>2.3</td>\n",
       "    </tr>\n",
       "    <tr>\n",
       "      <th>9</th>\n",
       "      <td>Brasil</td>\n",
       "      <td>Alemanha, Republica Democratica</td>\n",
       "      <td>0.7</td>\n",
       "      <td>2.2</td>\n",
       "    </tr>\n",
       "  </tbody>\n",
       "</table>\n",
       "</div>"
      ],
      "text/plain": [
       "  País de Origem  ... Valor Exportado(US$)\n",
       "0         Brasil  ...                 48.0\n",
       "1         Brasil  ...                 23.2\n",
       "2         Brasil  ...                 10.0\n",
       "3         Brasil  ...                  5.1\n",
       "4         Brasil  ...                  4.7\n",
       "5         Brasil  ...                  3.9\n",
       "6         Brasil  ...                  3.8\n",
       "7         Brasil  ...                  3.0\n",
       "8         Brasil  ...                  2.3\n",
       "9         Brasil  ...                  2.2\n",
       "\n",
       "[10 rows x 4 columns]"
      ]
     },
     "execution_count": 47,
     "metadata": {},
     "output_type": "execute_result"
    }
   ],
   "source": [
    "%python\n",
    "# criando a tabela de exportacao\n",
    "top_exportacao_brasil = exportacao_por_pais\n",
    "# adicionando a escala de milhar nas colunas \n",
    "top_exportacao_brasil['Quantidade Exportada(Kg)'] = top_exportacao_brasil['quantidade_exportada'].apply(lambda x: f'{x :.2f} Mi')\n",
    "top_exportacao_brasil['Valor Exportado(US$)'] = top_exportacao_brasil['valor_y'].apply(lambda x: f'{x :.2f} Mi')\n",
    "#resetando o index \n",
    "top_exportacao_brasil.reset_index(inplace=True)\n",
    "# adicionando a coluna País de Origem\n",
    "top_exportacao_brasil['País de Origem'] = 'Brasil'\n",
    "# alterando a ordem das colunas \n",
    "top_exportacao_brasil = top_exportacao_brasil.reindex(columns = ['País de Origem','destino_y','quantidade_exportada','valor_y'])\n",
    "# renomeando as colunas\n",
    "top_exportacao_brasil.columns = [['País de Origem','País Destino','Quantidade Exportada(L)','Valor Exportado(US$)']]\n",
    "top_exportacao_brasil.head(10)"
   ]
  },
  {
   "cell_type": "code",
   "execution_count": 0,
   "metadata": {
    "application/vnd.databricks.v1+cell": {
     "cellMetadata": {
      "byteLimit": 2048000,
      "rowLimit": 10000
     },
     "inputWidgets": {},
     "nuid": "6ad99a94-46fc-44f3-81a1-d71f566762b2",
     "showTitle": false,
     "tableResultSettingsMap": {},
     "title": ""
    }
   },
   "outputs": [],
   "source": [
    "\n",
    "%python\n",
    "# criando a lista com os ultimos 5 anos \n",
    "lista_anos = [2020,2021,2022,2023,2024]\n",
    "# filtrando os ultimos 5 anos \n",
    "ultimos_cinco_anos = importacao_exportacao[importacao_exportacao['ano'].isin(lista_anos)]"
   ]
  },
  {
   "cell_type": "code",
   "execution_count": 0,
   "metadata": {
    "application/vnd.databricks.v1+cell": {
     "cellMetadata": {
      "byteLimit": 2048000,
      "rowLimit": 10000
     },
     "inputWidgets": {},
     "nuid": "afe48eaf-9fd2-4d2e-957d-4287e3195011",
     "showTitle": false,
     "tableResultSettingsMap": {},
     "title": ""
    }
   },
   "outputs": [
    {
     "output_type": "execute_result",
     "data": {
      "text/html": [
       "<div>\n",
       "<style scoped>\n",
       "    .dataframe tbody tr th:only-of-type {\n",
       "        vertical-align: middle;\n",
       "    }\n",
       "\n",
       "    .dataframe tbody tr th {\n",
       "        vertical-align: top;\n",
       "    }\n",
       "\n",
       "    .dataframe thead th {\n",
       "        text-align: right;\n",
       "    }\n",
       "</style>\n",
       "<table border=\"1\" class=\"dataframe\">\n",
       "  <thead>\n",
       "    <tr style=\"text-align: right;\">\n",
       "      <th></th>\n",
       "      <th>quantidade_exportada</th>\n",
       "      <th>valor_y</th>\n",
       "    </tr>\n",
       "    <tr>\n",
       "      <th>destino_y</th>\n",
       "      <th></th>\n",
       "      <th></th>\n",
       "    </tr>\n",
       "  </thead>\n",
       "  <tbody>\n",
       "    <tr>\n",
       "      <th>Paraguai</th>\n",
       "      <td>22383856</td>\n",
       "      <td>28857018</td>\n",
       "    </tr>\n",
       "    <tr>\n",
       "      <th>Haiti</th>\n",
       "      <td>2633345</td>\n",
       "      <td>3628166</td>\n",
       "    </tr>\n",
       "    <tr>\n",
       "      <th>Estados Unidos</th>\n",
       "      <td>1171885</td>\n",
       "      <td>2340055</td>\n",
       "    </tr>\n",
       "    <tr>\n",
       "      <th>Uruguai</th>\n",
       "      <td>1136713</td>\n",
       "      <td>1663805</td>\n",
       "    </tr>\n",
       "    <tr>\n",
       "      <th>China</th>\n",
       "      <td>397680</td>\n",
       "      <td>1397454</td>\n",
       "    </tr>\n",
       "  </tbody>\n",
       "</table>\n",
       "</div>"
      ],
      "text/plain": [
       "                quantidade_exportada   valor_y\n",
       "destino_y                                     \n",
       "Paraguai                    22383856  28857018\n",
       "Haiti                        2633345   3628166\n",
       "Estados Unidos               1171885   2340055\n",
       "Uruguai                      1136713   1663805\n",
       "China                         397680   1397454"
      ]
     },
     "execution_count": 58,
     "metadata": {},
     "output_type": "execute_result"
    }
   ],
   "source": [
    "%python\n",
    "# criando a lista com os ultimos 5 anos \n",
    "lista_anos = [2020,2021,2022,2023,2024]\n",
    "# filtrando os ultimos 5 anos \n",
    "ultimos_cinco_anos = importacao_exportacao[importacao_exportacao['ano'].isin(lista_anos)]\n",
    "# agrupando o valor total dos ultimos 5 anos por país\n",
    "agrupado_ultimos_cinco_anos = ultimos_cinco_anos.groupby('destino_y')[['quantidade_exportada','valor_y']].sum()\n",
    "# ordenando os top 5 países que mais exportaram para o Brasil nos ultimos 5 anos \n",
    "agrupado_ultimos_cinco_anos = agrupado_ultimos_cinco_anos.sort_values(by = 'quantidade_exportada',ascending=False).head()\n",
    "agrupado_ultimos_cinco_anos"
   ]
  },
  {
   "cell_type": "code",
   "execution_count": 0,
   "metadata": {
    "application/vnd.databricks.v1+cell": {
     "cellMetadata": {
      "byteLimit": 2048000,
      "rowLimit": 10000
     },
     "inputWidgets": {},
     "nuid": "9766d2f7-c3a0-41d1-8825-d4c4496a8817",
     "showTitle": false,
     "tableResultSettingsMap": {},
     "title": ""
    }
   },
   "outputs": [],
   "source": [
    "%python\n",
    "#lista dos paises que mais exportaram\n",
    "lista_de_paises_5_anos = agrupado_ultimos_cinco_anos.index.tolist()\n",
    "# filtrando apenas os top 5 paises que mais exportaram\n",
    "top5_ultimos_cinco_anos = importacao_exportacao[importacao_exportacao['destino_y'].isin(lista_de_paises_5_anos)]\n",
    "# filtrando apenas os ultimos 5 anos\n",
    "top5_ultimos_cinco_anos = top5_ultimos_cinco_anos[top5_ultimos_cinco_anos['ano'].isin(lista_anos)]"
   ]
  },
  {
   "cell_type": "code",
   "execution_count": 0,
   "metadata": {
    "application/vnd.databricks.v1+cell": {
     "cellMetadata": {
      "byteLimit": 2048000,
      "rowLimit": 10000
     },
     "inputWidgets": {},
     "nuid": "ba977328-c126-470d-ab85-3c7363325967",
     "showTitle": false,
     "tableResultSettingsMap": {},
     "title": ""
    }
   },
   "outputs": [
    {
     "output_type": "display_data",
     "data": {
      "image/png": "[encoded data removed]",
      "text/plain": [
       "<Figure size 1200x400 with 1 Axes>"
      ]
     },
     "metadata": {},
     "output_type": "display_data"
    }
   ],
   "source": [
    "%python\n",
    "# criando a figura\n",
    "plt.figure(figsize=(12,4))\n",
    "# criando o grafico\n",
    "grafico_ultimos_5_anos = sns.lineplot(data = top5_ultimos_cinco_anos,x = 'ano',y='quantidade_exportada',hue='destino_y')\n",
    "# chamando a função de costumização\n",
    "grafico_vertical(grafico_ultimos_5_anos,top5_ultimos_cinco_anos['quantidade_exportada'],'Países que mais exportaram nos últimos 5 anos (em Litros)')"
   ]
  },
  {
   "cell_type": "code",
   "execution_count": 0,
   "metadata": {
    "application/vnd.databricks.v1+cell": {
     "cellMetadata": {
      "byteLimit": 2048000,
      "rowLimit": 10000
     },
     "inputWidgets": {},
     "nuid": "46ddea20-0cb5-4387-b927-1a7631d4084e",
     "showTitle": false,
     "tableResultSettingsMap": {},
     "title": ""
    }
   },
   "outputs": [
    {
     "output_type": "execute_result",
     "data": {
      "text/html": [
       "<div>\n",
       "<style scoped>\n",
       "    .dataframe tbody tr th:only-of-type {\n",
       "        vertical-align: middle;\n",
       "    }\n",
       "\n",
       "    .dataframe tbody tr th {\n",
       "        vertical-align: top;\n",
       "    }\n",
       "\n",
       "    .dataframe thead th {\n",
       "        text-align: right;\n",
       "    }\n",
       "</style>\n",
       "<table border=\"1\" class=\"dataframe\">\n",
       "  <thead>\n",
       "    <tr style=\"text-align: right;\">\n",
       "      <th></th>\n",
       "      <th>Continent</th>\n",
       "      <th>Region/Country</th>\n",
       "      <th>Product</th>\n",
       "      <th>Variable</th>\n",
       "      <th>Year</th>\n",
       "      <th>Unit</th>\n",
       "      <th>Quantity</th>\n",
       "    </tr>\n",
       "  </thead>\n",
       "  <tbody>\n",
       "    <tr>\n",
       "      <th>0</th>\n",
       "      <td>Asia</td>\n",
       "      <td>Afghanistan</td>\n",
       "      <td>Wine</td>\n",
       "      <td>Consumption</td>\n",
       "      <td>2008.0</td>\n",
       "      <td>1000 hl</td>\n",
       "      <td>1.0</td>\n",
       "    </tr>\n",
       "    <tr>\n",
       "      <th>1</th>\n",
       "      <td>Asia</td>\n",
       "      <td>Afghanistan</td>\n",
       "      <td>Wine</td>\n",
       "      <td>Imports</td>\n",
       "      <td>2008.0</td>\n",
       "      <td>1000 hl</td>\n",
       "      <td>1.0</td>\n",
       "    </tr>\n",
       "    <tr>\n",
       "      <th>2</th>\n",
       "      <td>Asia</td>\n",
       "      <td>Afghanistan</td>\n",
       "      <td>Wine</td>\n",
       "      <td>Production</td>\n",
       "      <td>2008.0</td>\n",
       "      <td>1000 hl</td>\n",
       "      <td>0.0</td>\n",
       "    </tr>\n",
       "    <tr>\n",
       "      <th>3</th>\n",
       "      <td>Asia</td>\n",
       "      <td>Afghanistan</td>\n",
       "      <td>Wine</td>\n",
       "      <td>Consumption</td>\n",
       "      <td>2009.0</td>\n",
       "      <td>1000 hl</td>\n",
       "      <td>3.0</td>\n",
       "    </tr>\n",
       "    <tr>\n",
       "      <th>4</th>\n",
       "      <td>Asia</td>\n",
       "      <td>Afghanistan</td>\n",
       "      <td>Wine</td>\n",
       "      <td>Imports</td>\n",
       "      <td>2009.0</td>\n",
       "      <td>1000 hl</td>\n",
       "      <td>3.0</td>\n",
       "    </tr>\n",
       "  </tbody>\n",
       "</table>\n",
       "</div>"
      ],
      "text/plain": [
       "  Continent Region/Country Product     Variable    Year     Unit  Quantity\n",
       "0      Asia    Afghanistan    Wine  Consumption  2008.0  1000 hl       1.0\n",
       "1      Asia    Afghanistan    Wine      Imports  2008.0  1000 hl       1.0\n",
       "2      Asia    Afghanistan    Wine   Production  2008.0  1000 hl       0.0\n",
       "3      Asia    Afghanistan    Wine  Consumption  2009.0  1000 hl       3.0\n",
       "4      Asia    Afghanistan    Wine      Imports  2009.0  1000 hl       3.0"
      ]
     },
     "execution_count": 8,
     "metadata": {},
     "output_type": "execute_result"
    }
   ],
   "source": [
    "%python\n",
    "# removendo as duas ultimas linhas do dataframe que não correspondem a dados do dataframe \n",
    "mercado = mercado.iloc[:-2]\n",
    "mercado.head()"
   ]
  },
  {
   "cell_type": "code",
   "execution_count": 0,
   "metadata": {
    "application/vnd.databricks.v1+cell": {
     "cellMetadata": {
      "byteLimit": 2048000,
      "rowLimit": 10000
     },
     "inputWidgets": {},
     "nuid": "a85891a5-fb6d-4d63-9bc4-c7f45a59349e",
     "showTitle": false,
     "tableResultSettingsMap": {},
     "title": ""
    }
   },
   "outputs": [
    {
     "output_type": "stream",
     "name": "stdout",
     "output_type": "stream",
     "text": [
      "<class 'pandas.core.frame.DataFrame'>\nRangeIndex: 11767 entries, 0 to 11766\nData columns (total 7 columns):\n #   Column      Non-Null Count  Dtype  \n---  ------      --------------  -----  \n 0   Continente  11767 non-null  object \n 1   País        11767 non-null  object \n 2   Produto     11767 non-null  object \n 3   Categoria   11767 non-null  object \n 4   Ano         11767 non-null  float64\n 5   Unidade     11767 non-null  object \n 6   Quantidade  11767 non-null  float64\ndtypes: float64(2), object(5)\nmemory usage: 643.6+ KB\n"
     ]
    }
   ],
   "source": [
    "# alterando o nome das colunas\n",
    "mercado.columns = ['Continente', 'País', 'Produto', 'Categoria', 'Ano', 'Unidade',\n",
    "       'Quantidade']\n",
    "# Visualizando o tipo de dados de cada coluna\n",
    "mercado.info()"
   ]
  },
  {
   "cell_type": "code",
   "execution_count": 0,
   "metadata": {
    "application/vnd.databricks.v1+cell": {
     "cellMetadata": {
      "byteLimit": 2048000,
      "rowLimit": 10000
     },
     "inputWidgets": {},
     "nuid": "e25e4c51-8b7d-4246-beba-cccd99d114bf",
     "showTitle": false,
     "tableResultSettingsMap": {},
     "title": ""
    }
   },
   "outputs": [
    {
     "output_type": "execute_result",
     "data": {
      "text/plain": [
       "array(['Wine'], dtype=object)"
      ]
     },
     "execution_count": 10,
     "metadata": {},
     "output_type": "execute_result"
    }
   ],
   "source": [
    "%python\n",
    "# Vizualizando o tipo de produto presente na base \n",
    "mercado['Produto'].unique()"
   ]
  },
  {
   "cell_type": "code",
   "execution_count": 0,
   "metadata": {
    "application/vnd.databricks.v1+cell": {
     "cellMetadata": {
      "byteLimit": 2048000,
      "rowLimit": 10000
     },
     "inputWidgets": {},
     "nuid": "a42f9104-3874-44ff-8ec1-52049d5c19e0",
     "showTitle": false,
     "tableResultSettingsMap": {},
     "title": ""
    }
   },
   "outputs": [],
   "source": [
    "%python\n",
    "# removendo as duas ultimas linhas do dataframe que não correspondem a dados do dataframe \n",
    "mercado = mercado.iloc[:-2]"
   ]
  },
  {
   "cell_type": "code",
   "execution_count": 0,
   "metadata": {
    "application/vnd.databricks.v1+cell": {
     "cellMetadata": {
      "byteLimit": 2048000,
      "rowLimit": 10000
     },
     "inputWidgets": {},
     "nuid": "d3c3f594-2e87-41e0-8b9c-162fc3c67bb5",
     "showTitle": false,
     "tableResultSettingsMap": {},
     "title": ""
    }
   },
   "outputs": [
    {
     "output_type": "stream",
     "name": "stdout",
     "output_type": "stream",
     "text": [
      "Linhas da tabela Mercado Global de Vinhos: 11765\nColunas da tabela Mercado Global de Vinhos: 7\nO primeiro ano registrado na tabela é : 2008.0\nO último ano registrado na tabela é : 2022.0\n"
     ]
    }
   ],
   "source": [
    "%python\n",
    "# Visualizar o tamanho do dataframe Mercado Global de Vinhos\n",
    "print(f\"Linhas da tabela Mercado Global de Vinhos: {mercado.shape[0]}\")\n",
    "print(f\"Colunas da tabela Mercado Global de Vinhos: {mercado.shape[1]}\")\n",
    "# Visualizar o ano inicial e o ano final da base \n",
    "print(f\"O primeiro ano registrado na tabela é : {mercado['Ano'].min()}\")\n",
    "print(f\"O último ano registrado na tabela é : {mercado['Ano'].max()}\")\n"
   ]
  },
  {
   "cell_type": "code",
   "execution_count": 0,
   "metadata": {
    "application/vnd.databricks.v1+cell": {
     "cellMetadata": {
      "byteLimit": 2048000,
      "rowLimit": 10000
     },
     "inputWidgets": {},
     "nuid": "494a1db2-cc3e-4676-b7fa-1d7125d8f1d8",
     "showTitle": false,
     "tableResultSettingsMap": {},
     "title": ""
    }
   },
   "outputs": [
    {
     "output_type": "execute_result",
     "data": {
      "text/plain": [
       "array(['Consumption', 'Imports', 'Production', 'Exports'], dtype=object)"
      ]
     },
     "execution_count": 13,
     "metadata": {},
     "output_type": "execute_result"
    }
   ],
   "source": [
    "%python\n",
    "# Excluindo a coluna Produto pois toda a tabela se trata apenas de um produto Vinho \n",
    "mercado.drop('Produto',axis = 1,inplace = True)\n",
    "# visuzalizando os dados referentes a categoria \n",
    "mercado['Categoria'].unique()\n"
   ]
  },
  {
   "cell_type": "code",
   "execution_count": 0,
   "metadata": {
    "application/vnd.databricks.v1+cell": {
     "cellMetadata": {
      "byteLimit": 2048000,
      "rowLimit": 10000
     },
     "inputWidgets": {},
     "nuid": "49183a28-d686-4721-960a-1f799d1ff56f",
     "showTitle": false,
     "tableResultSettingsMap": {},
     "title": ""
    }
   },
   "outputs": [
    {
     "output_type": "execute_result",
     "data": {
      "text/plain": [
       "array(['Consumo', 'Importação', 'Produção', 'Exportação'], dtype=object)"
      ]
     },
     "execution_count": 14,
     "metadata": {},
     "output_type": "execute_result"
    }
   ],
   "source": [
    "%python\n",
    "# traduzindo para o portugues a coluna categoria\n",
    "mercado['Categoria'].replace({'Consumption': 'Consumo',\n",
    "                               'Imports': 'Importação', \n",
    "                               'Production': 'Produção',\n",
    "                                'Exports': 'Exportação'},\n",
    "                                inplace=True)\n",
    "mercado['Categoria'].unique()"
   ]
  },
  {
   "cell_type": "code",
   "execution_count": 0,
   "metadata": {
    "application/vnd.databricks.v1+cell": {
     "cellMetadata": {
      "byteLimit": 2048000,
      "rowLimit": 10000
     },
     "inputWidgets": {},
     "nuid": "f10d9c66-8b18-48ab-9d00-ea9ecfcf21ed",
     "showTitle": false,
     "tableResultSettingsMap": {},
     "title": ""
    }
   },
   "outputs": [
    {
     "output_type": "execute_result",
     "data": {
      "text/plain": [
       "array(['Asia', 'Europa', 'Africa', 'Oceania', 'America', 'Global'],\n",
       "      dtype=object)"
      ]
     },
     "execution_count": 15,
     "metadata": {},
     "output_type": "execute_result"
    }
   ],
   "source": [
    "%python\n",
    "# Traduzindo para o portugues a coluna de continente\n",
    "mercado['Continente'].replace('Europe','Europa', inplace=True)\n",
    "mercado['Continente'].unique()\n"
   ]
  },
  {
   "cell_type": "code",
   "execution_count": 0,
   "metadata": {
    "application/vnd.databricks.v1+cell": {
     "cellMetadata": {
      "byteLimit": 2048000,
      "rowLimit": 10000
     },
     "inputWidgets": {},
     "nuid": "79303b55-1b3a-4fc4-9e87-f4d380f0b9d9",
     "showTitle": false,
     "tableResultSettingsMap": {},
     "title": ""
    }
   },
   "outputs": [
    {
     "output_type": "execute_result",
     "data": {
      "text/plain": [
       "array(['2008', '2009', '2010', '2011', '2012', '2013', '2014', '2015',\n",
       "       '2016', '2017', '2018', '2019', '2020', '2021', '2022'],\n",
       "      dtype=object)"
      ]
     },
     "execution_count": 16,
     "metadata": {},
     "output_type": "execute_result"
    }
   ],
   "source": [
    "%python\n",
    "# Corrigindo a escrita da coluna Ano\n",
    "mercado['Ano'] = mercado['Ano'].astype(str)\n",
    "mercado['Ano'] = mercado['Ano'].str[:-2]\n",
    "mercado['Ano'].unique()"
   ]
  },
  {
   "cell_type": "code",
   "execution_count": 0,
   "metadata": {
    "application/vnd.databricks.v1+cell": {
     "cellMetadata": {
      "byteLimit": 2048000,
      "rowLimit": 10000
     },
     "inputWidgets": {},
     "nuid": "d64393bc-271c-40e2-be3d-03af1ad234e6",
     "showTitle": false,
     "tableResultSettingsMap": {},
     "title": ""
    }
   },
   "outputs": [
    {
     "output_type": "execute_result",
     "data": {
      "text/plain": [
       "array(['1000\\xa0hl'], dtype=object)"
      ]
     },
     "execution_count": 17,
     "metadata": {},
     "output_type": "execute_result"
    }
   ],
   "source": [
    "%python\n",
    "# a coluna Unidade esta em hectolitro ao inves de litro primeiro vamos converter para litro\n",
    "mercado['Unidade'].unique()\n"
   ]
  },
  {
   "cell_type": "code",
   "execution_count": 0,
   "metadata": {
    "application/vnd.databricks.v1+cell": {
     "cellMetadata": {
      "byteLimit": 2048000,
      "rowLimit": 10000
     },
     "inputWidgets": {},
     "nuid": "8e5964a4-1ef1-4594-b1bf-85d1c8e87716",
     "showTitle": false,
     "tableResultSettingsMap": {},
     "title": ""
    }
   },
   "outputs": [],
   "source": [
    "%python\n",
    "# convertendo para litro\n",
    "mercado['Unidade'] = 100_000\n",
    "# agora vamos multiplicar a coluna unidade por quantidade para saber o valor em litro \n",
    "mercado['Quantidade'] = mercado['Unidade'] * mercado['Quantidade']\n",
    "# podemos apagar a coluna Unidade e deixar somente a coluna Quantidade\n",
    "mercado.drop('Unidade',axis= 1,inplace = True)\n",
    "# Renomeando a coluna Quantidade \n",
    "mercado.rename(columns={'Quantidade':'Quantidade(L)'},inplace=True)"
   ]
  },
  {
   "cell_type": "code",
   "execution_count": 0,
   "metadata": {
    "application/vnd.databricks.v1+cell": {
     "cellMetadata": {
      "byteLimit": 2048000,
      "rowLimit": 10000
     },
     "inputWidgets": {},
     "nuid": "656c9c5e-9a2b-4c25-afa1-5137bd87457f",
     "showTitle": false,
     "tableResultSettingsMap": {},
     "title": ""
    }
   },
   "outputs": [
    {
     "output_type": "execute_result",
     "data": {
      "text/html": [
       "<div>\n",
       "<style scoped>\n",
       "    .dataframe tbody tr th:only-of-type {\n",
       "        vertical-align: middle;\n",
       "    }\n",
       "\n",
       "    .dataframe tbody tr th {\n",
       "        vertical-align: top;\n",
       "    }\n",
       "\n",
       "    .dataframe thead th {\n",
       "        text-align: right;\n",
       "    }\n",
       "</style>\n",
       "<table border=\"1\" class=\"dataframe\">\n",
       "  <thead>\n",
       "    <tr style=\"text-align: right;\">\n",
       "      <th></th>\n",
       "      <th>Continente</th>\n",
       "      <th>País</th>\n",
       "      <th>Categoria</th>\n",
       "      <th>Quantidade(L)</th>\n",
       "    </tr>\n",
       "  </thead>\n",
       "  <tbody>\n",
       "    <tr>\n",
       "      <th>0</th>\n",
       "      <td>Africa</td>\n",
       "      <td>Algeria</td>\n",
       "      <td>Consumo</td>\n",
       "      <td>4.328000e+08</td>\n",
       "    </tr>\n",
       "    <tr>\n",
       "      <th>1</th>\n",
       "      <td>Africa</td>\n",
       "      <td>Algeria</td>\n",
       "      <td>Exportação</td>\n",
       "      <td>6.600000e+06</td>\n",
       "    </tr>\n",
       "    <tr>\n",
       "      <th>2</th>\n",
       "      <td>Africa</td>\n",
       "      <td>Algeria</td>\n",
       "      <td>Importação</td>\n",
       "      <td>9.850000e+07</td>\n",
       "    </tr>\n",
       "    <tr>\n",
       "      <th>3</th>\n",
       "      <td>Africa</td>\n",
       "      <td>Algeria</td>\n",
       "      <td>Produção</td>\n",
       "      <td>4.513000e+08</td>\n",
       "    </tr>\n",
       "    <tr>\n",
       "      <th>4</th>\n",
       "      <td>Africa</td>\n",
       "      <td>Angola</td>\n",
       "      <td>Consumo</td>\n",
       "      <td>1.197200e+09</td>\n",
       "    </tr>\n",
       "    <tr>\n",
       "      <th>5</th>\n",
       "      <td>Africa</td>\n",
       "      <td>Angola</td>\n",
       "      <td>Exportação</td>\n",
       "      <td>1.290000e+07</td>\n",
       "    </tr>\n",
       "    <tr>\n",
       "      <th>6</th>\n",
       "      <td>Africa</td>\n",
       "      <td>Angola</td>\n",
       "      <td>Importação</td>\n",
       "      <td>1.229100e+09</td>\n",
       "    </tr>\n",
       "    <tr>\n",
       "      <th>7</th>\n",
       "      <td>Africa</td>\n",
       "      <td>Angola</td>\n",
       "      <td>Produção</td>\n",
       "      <td>0.000000e+00</td>\n",
       "    </tr>\n",
       "    <tr>\n",
       "      <th>8</th>\n",
       "      <td>Africa</td>\n",
       "      <td>Benin</td>\n",
       "      <td>Consumo</td>\n",
       "      <td>5.630000e+07</td>\n",
       "    </tr>\n",
       "    <tr>\n",
       "      <th>9</th>\n",
       "      <td>Africa</td>\n",
       "      <td>Benin</td>\n",
       "      <td>Exportação</td>\n",
       "      <td>4.300000e+06</td>\n",
       "    </tr>\n",
       "  </tbody>\n",
       "</table>\n",
       "</div>"
      ],
      "text/plain": [
       "  Continente     País   Categoria  Quantidade(L)\n",
       "0     Africa  Algeria     Consumo   4.328000e+08\n",
       "1     Africa  Algeria  Exportação   6.600000e+06\n",
       "2     Africa  Algeria  Importação   9.850000e+07\n",
       "3     Africa  Algeria    Produção   4.513000e+08\n",
       "4     Africa   Angola     Consumo   1.197200e+09\n",
       "5     Africa   Angola  Exportação   1.290000e+07\n",
       "6     Africa   Angola  Importação   1.229100e+09\n",
       "7     Africa   Angola    Produção   0.000000e+00\n",
       "8     Africa    Benin     Consumo   5.630000e+07\n",
       "9     Africa    Benin  Exportação   4.300000e+06"
      ]
     },
     "execution_count": 19,
     "metadata": {},
     "output_type": "execute_result"
    }
   ],
   "source": [
    "%python\n",
    "# Somando os dados dos 15 anos por país\n",
    "total_por_pais = mercado.groupby(['Continente','País','Categoria'])['Quantidade(L)'].sum().reset_index()\n",
    "total_por_pais.head(10)"
   ]
  },
  {
   "cell_type": "code",
   "execution_count": 0,
   "metadata": {
    "application/vnd.databricks.v1+cell": {
     "cellMetadata": {
      "byteLimit": 2048000,
      "rowLimit": 10000
     },
     "inputWidgets": {},
     "nuid": "81795a85-f755-4f4c-a4a9-d35524d306f3",
     "showTitle": false,
     "tableResultSettingsMap": {},
     "title": ""
    }
   },
   "outputs": [
    {
     "output_type": "execute_result",
     "data": {
      "text/html": [
       "<div>\n",
       "<style scoped>\n",
       "    .dataframe tbody tr th:only-of-type {\n",
       "        vertical-align: middle;\n",
       "    }\n",
       "\n",
       "    .dataframe tbody tr th {\n",
       "        vertical-align: top;\n",
       "    }\n",
       "\n",
       "    .dataframe thead th {\n",
       "        text-align: right;\n",
       "    }\n",
       "</style>\n",
       "<table border=\"1\" class=\"dataframe\">\n",
       "  <thead>\n",
       "    <tr style=\"text-align: right;\">\n",
       "      <th>Categoria</th>\n",
       "      <th>Consumo</th>\n",
       "      <th>Exportação</th>\n",
       "      <th>Importação</th>\n",
       "      <th>Produção</th>\n",
       "    </tr>\n",
       "    <tr>\n",
       "      <th>País</th>\n",
       "      <th></th>\n",
       "      <th></th>\n",
       "      <th></th>\n",
       "      <th></th>\n",
       "    </tr>\n",
       "  </thead>\n",
       "  <tbody>\n",
       "    <tr>\n",
       "      <th>Afghanistan</th>\n",
       "      <td>1800000.0</td>\n",
       "      <td>NaN</td>\n",
       "      <td>1700000.0</td>\n",
       "      <td>0.0</td>\n",
       "    </tr>\n",
       "    <tr>\n",
       "      <th>Albania</th>\n",
       "      <td>335200000.0</td>\n",
       "      <td>0.0</td>\n",
       "      <td>58200000.0</td>\n",
       "      <td>280800000.0</td>\n",
       "    </tr>\n",
       "    <tr>\n",
       "      <th>Algeria</th>\n",
       "      <td>432800000.0</td>\n",
       "      <td>6600000.0</td>\n",
       "      <td>98500000.0</td>\n",
       "      <td>451300000.0</td>\n",
       "    </tr>\n",
       "    <tr>\n",
       "      <th>American Samoa</th>\n",
       "      <td>400000.0</td>\n",
       "      <td>NaN</td>\n",
       "      <td>200000.0</td>\n",
       "      <td>0.0</td>\n",
       "    </tr>\n",
       "    <tr>\n",
       "      <th>Andorra</th>\n",
       "      <td>NaN</td>\n",
       "      <td>NaN</td>\n",
       "      <td>NaN</td>\n",
       "      <td>0.0</td>\n",
       "    </tr>\n",
       "  </tbody>\n",
       "</table>\n",
       "</div>"
      ],
      "text/plain": [
       "Categoria           Consumo  Exportação  Importação     Produção\n",
       "País                                                            \n",
       "Afghanistan       1800000.0         NaN   1700000.0          0.0\n",
       "Albania         335200000.0         0.0  58200000.0  280800000.0\n",
       "Algeria         432800000.0   6600000.0  98500000.0  451300000.0\n",
       "American Samoa     400000.0         NaN    200000.0          0.0\n",
       "Andorra                 NaN         NaN         NaN          0.0"
      ]
     },
     "execution_count": 20,
     "metadata": {},
     "output_type": "execute_result"
    }
   ],
   "source": [
    "%python\n",
    "# Abrindo os dados para que cada categoria vire uma coluna \n",
    "total_aberto = total_por_pais.pivot(index='País',columns='Categoria',values='Quantidade(L)')\n",
    "total_aberto.head()"
   ]
  },
  {
   "cell_type": "code",
   "execution_count": 0,
   "metadata": {
    "application/vnd.databricks.v1+cell": {
     "cellMetadata": {
      "byteLimit": 2048000,
      "rowLimit": 10000
     },
     "inputWidgets": {},
     "nuid": "1e5c6638-df93-4bf9-b88a-ab5f509df50d",
     "showTitle": false,
     "tableResultSettingsMap": {},
     "title": ""
    }
   },
   "outputs": [],
   "source": [
    "%python\n",
    "# substituindo os valores nulos por 0\n",
    "total_aberto.fillna(0,inplace=True)\n",
    "# Resetando o index da tabela \n",
    "total_aberto = total_aberto.reset_index()"
   ]
  },
  {
   "cell_type": "code",
   "execution_count": 0,
   "metadata": {
    "application/vnd.databricks.v1+cell": {
     "cellMetadata": {
      "byteLimit": 2048000,
      "rowLimit": 10000
     },
     "inputWidgets": {},
     "nuid": "c72a279f-4002-4fc2-82be-c4bf781cabd7",
     "showTitle": false,
     "tableResultSettingsMap": {},
     "title": ""
    }
   },
   "outputs": [],
   "source": [
    "%python\n",
    "# Ordenando os dados do Mercado Global de Vinhos Total do maior para o menor pela importação\n",
    "total_aberto.sort_values(by = 'Importação',ascending=False,inplace = True)\n",
    "# Retirnado a primeira linha que é referente ao total mundial \n",
    "total_aberto = total_aberto.iloc[1:]\n",
    "# pegando apenas os top 40 que mais importaram vinho nos ultimos 15 anos \n",
    "total_aberto = total_aberto[:40]\n",
    "\n",
    "\n",
    "total_aberto.reset_index(inplace=True)"
   ]
  },
  {
   "cell_type": "code",
   "execution_count": 0,
   "metadata": {
    "application/vnd.databricks.v1+cell": {
     "cellMetadata": {
      "byteLimit": 2048000,
      "rowLimit": 10000
     },
     "inputWidgets": {},
     "nuid": "528fd2a3-e87a-43d9-a674-2130cd7ed2a0",
     "showTitle": false,
     "tableResultSettingsMap": {},
     "title": ""
    }
   },
   "outputs": [
    {
     "output_type": "stream",
     "name": "stdout",
     "output_type": "stream",
     "text": [
      "['Germany' 'United Kingdom' 'United States of America' 'France' 'Russia'\n 'China, mainland' 'Netherlands' 'Canada' 'Belgium' 'Japan' 'Italy'\n 'Sweden' 'Portugal' 'Denmark' 'Switzerland' 'Czech Republic' 'Poland'\n 'Brazil' 'Australia' 'Norway' 'Lithuania' 'Angola' 'Ireland' 'Austria'\n 'Spain' 'Finland' 'Slovakia' 'Latvia' 'Mexico' 'Belarus'\n 'China, Hong Kong SAR' 'Romania' 'Korea (the Republic of)' 'Ukraine'\n 'New Zealand' \"Côte d'Ivoire\" 'United Arab Emirates' 'Namibia'\n 'Singapore' 'Nigeria']\n"
     ]
    }
   ],
   "source": [
    "%python\n",
    "# Lista dos 40 países que mais importaram vinhos nos ultimos anos \n",
    "lista_de_paises = total_aberto['País'].unique()\n",
    "print(lista_de_paises)"
   ]
  },
  {
   "cell_type": "code",
   "execution_count": 0,
   "metadata": {
    "application/vnd.databricks.v1+cell": {
     "cellMetadata": {
      "byteLimit": 2048000,
      "rowLimit": 10000
     },
     "inputWidgets": {},
     "nuid": "e8ac5b82-9d8a-4790-a0bd-fb7fd05797cf",
     "showTitle": false,
     "tableResultSettingsMap": {},
     "title": ""
    }
   },
   "outputs": [
    {
     "output_type": "execute_result",
     "data": {
      "text/html": [
       "<div>\n",
       "<style scoped>\n",
       "    .dataframe tbody tr th:only-of-type {\n",
       "        vertical-align: middle;\n",
       "    }\n",
       "\n",
       "    .dataframe tbody tr th {\n",
       "        vertical-align: top;\n",
       "    }\n",
       "\n",
       "    .dataframe thead th {\n",
       "        text-align: right;\n",
       "    }\n",
       "</style>\n",
       "<table border=\"1\" class=\"dataframe\">\n",
       "  <thead>\n",
       "    <tr style=\"text-align: right;\">\n",
       "      <th></th>\n",
       "      <th>Continente</th>\n",
       "      <th>País</th>\n",
       "      <th>Categoria</th>\n",
       "      <th>Ano</th>\n",
       "      <th>Quantidade(L)</th>\n",
       "    </tr>\n",
       "  </thead>\n",
       "  <tbody>\n",
       "    <tr>\n",
       "      <th>225</th>\n",
       "      <td>Africa</td>\n",
       "      <td>Angola</td>\n",
       "      <td>Consumo</td>\n",
       "      <td>2008</td>\n",
       "      <td>116000000.0</td>\n",
       "    </tr>\n",
       "    <tr>\n",
       "      <th>226</th>\n",
       "      <td>Africa</td>\n",
       "      <td>Angola</td>\n",
       "      <td>Exportação</td>\n",
       "      <td>2008</td>\n",
       "      <td>0.0</td>\n",
       "    </tr>\n",
       "    <tr>\n",
       "      <th>227</th>\n",
       "      <td>Africa</td>\n",
       "      <td>Angola</td>\n",
       "      <td>Importação</td>\n",
       "      <td>2008</td>\n",
       "      <td>116000000.0</td>\n",
       "    </tr>\n",
       "    <tr>\n",
       "      <th>228</th>\n",
       "      <td>Africa</td>\n",
       "      <td>Angola</td>\n",
       "      <td>Produção</td>\n",
       "      <td>2008</td>\n",
       "      <td>0.0</td>\n",
       "    </tr>\n",
       "    <tr>\n",
       "      <th>229</th>\n",
       "      <td>Africa</td>\n",
       "      <td>Angola</td>\n",
       "      <td>Consumo</td>\n",
       "      <td>2009</td>\n",
       "      <td>79800000.0</td>\n",
       "    </tr>\n",
       "  </tbody>\n",
       "</table>\n",
       "</div>"
      ],
      "text/plain": [
       "    Continente    País   Categoria   Ano  Quantidade(L)\n",
       "225     Africa  Angola     Consumo  2008    116000000.0\n",
       "226     Africa  Angola  Exportação  2008            0.0\n",
       "227     Africa  Angola  Importação  2008    116000000.0\n",
       "228     Africa  Angola    Produção  2008            0.0\n",
       "229     Africa  Angola     Consumo  2009     79800000.0"
      ]
     },
     "execution_count": 24,
     "metadata": {},
     "output_type": "execute_result"
    }
   ],
   "source": [
    "%python\n",
    "# criando um dataframe com as categorias em uma coluna apenas com os 40 países que mais importaram \n",
    "mercado_top40 = mercado[mercado['País'].isin(lista_de_paises)]\n",
    "mercado_top40.head()"
   ]
  },
  {
   "cell_type": "code",
   "execution_count": 0,
   "metadata": {
    "application/vnd.databricks.v1+cell": {
     "cellMetadata": {
      "byteLimit": 2048000,
      "rowLimit": 10000
     },
     "inputWidgets": {},
     "nuid": "c6d52276-9c51-4bc9-a2b5-19755000a9d2",
     "showTitle": false,
     "tableResultSettingsMap": {},
     "title": ""
    }
   },
   "outputs": [
    {
     "output_type": "execute_result",
     "data": {
      "text/plain": [
       "array(['Angola', 'Austrália', 'Áustria', 'Bielorrússia', 'Bélgica',\n",
       "       'Canadá', 'Hong Kong', 'China', 'Costa do Marfim',\n",
       "       'República Tcheca', 'Dinamarca', 'Finlândia', 'França', 'Alemanha',\n",
       "       'Irlanda', 'Itália', 'Japão', 'Coreia do Sul', 'Letônia',\n",
       "       'Lituânia', 'México', 'Namíbia', 'Países Baixos', 'Nova Zelândia',\n",
       "       'Nigéria', 'Noruega', 'Polônia', 'Portugal', 'Romênia', 'Rússia',\n",
       "       'Singapura', 'Eslováquia', 'Espanha', 'Suécia', 'Suíça', 'Ucrânia',\n",
       "       'Emirados Árabes Unidos', 'Reino Unido', 'Estados Unidos'],\n",
       "      dtype=object)"
      ]
     },
     "execution_count": 25,
     "metadata": {},
     "output_type": "execute_result"
    }
   ],
   "source": [
    "%python\n",
    "# Dicionário de tradução dos países para o português\n",
    "paises_traduzidos = {\n",
    "    'Angola': 'Angola', 'Australia': 'Austrália', 'Austria': 'Áustria', 'Belarus': 'Bielorrússia', 'Belgium': 'Bélgica',\n",
    "    'Brazil': 'Brasil', 'Canada': 'Canadá', 'China, Hong Kong SAR': 'Hong Kong', 'China, mainland': 'China', \"Côte d'Ivoire\": 'Costa do Marfim',\n",
    "    'Czech Republic': 'República Tcheca', 'Denmark': 'Dinamarca', 'Finland': 'Finlândia', 'France': 'França', 'Germany': 'Alemanha',\n",
    "    'Ireland': 'Irlanda', 'Italy': 'Itália', 'Japan': 'Japão', 'Korea (the Republic of)': 'Coreia do Sul', 'Latvia': 'Letônia',\n",
    "    'Lithuania': 'Lituânia', 'Mexico': 'México', 'Namibia': 'Namíbia', 'Netherlands': 'Países Baixos', 'New Zealand': 'Nova Zelândia',\n",
    "    'Norway': 'Noruega', 'Paraguay': 'Paraguai', 'Poland': 'Polônia', 'Portugal': 'Portugal', 'Romania': 'Romênia', 'Russia': 'Rússia',\n",
    "    'Singapore': 'Singapura', 'Slovakia': 'Eslováquia', 'Spain': 'Espanha', 'Sweden': 'Suécia', 'Switzerland': 'Suíça', 'Ukraine': 'Ucrânia',\n",
    "    'United Arab Emirates': 'Emirados Árabes Unidos', 'United Kingdom': 'Reino Unido', 'United States of America': 'Estados Unidos',\n",
    "    'Nigeria': 'Nigéria' \n",
    "}\n",
    "# Substituindo o nome dos países \n",
    "mercado_top40['País'] = mercado_top40['País'].replace(paises_traduzidos)\n",
    "# excluindo o Brasil da Lista de Países \n",
    "mercado_top40 = mercado_top40[mercado_top40['País'] != 'Brasil']\n",
    "# verificando se foi alterado o nome dos países\n",
    "mercado_top40['País'].unique()"
   ]
  },
  {
   "cell_type": "code",
   "execution_count": 0,
   "metadata": {
    "application/vnd.databricks.v1+cell": {
     "cellMetadata": {
      "byteLimit": 2048000,
      "rowLimit": 10000
     },
     "inputWidgets": {},
     "nuid": "71b7dbaf-f50e-4c56-b89d-f97a019f3df9",
     "showTitle": false,
     "tableResultSettingsMap": {},
     "title": ""
    }
   },
   "outputs": [
    {
     "output_type": "execute_result",
     "data": {
      "text/html": [
       "<div>\n",
       "<style scoped>\n",
       "    .dataframe tbody tr th:only-of-type {\n",
       "        vertical-align: middle;\n",
       "    }\n",
       "\n",
       "    .dataframe tbody tr th {\n",
       "        vertical-align: top;\n",
       "    }\n",
       "\n",
       "    .dataframe thead th {\n",
       "        text-align: right;\n",
       "    }\n",
       "</style>\n",
       "<table border=\"1\" class=\"dataframe\">\n",
       "  <thead>\n",
       "    <tr style=\"text-align: right;\">\n",
       "      <th>Categoria</th>\n",
       "      <th>index</th>\n",
       "      <th>País</th>\n",
       "      <th>Consumo</th>\n",
       "      <th>Exportação</th>\n",
       "      <th>Importação</th>\n",
       "      <th>Produção</th>\n",
       "    </tr>\n",
       "  </thead>\n",
       "  <tbody>\n",
       "    <tr>\n",
       "      <th>0</th>\n",
       "      <td>76</td>\n",
       "      <td>Alemanha</td>\n",
       "      <td>3.010620e+10</td>\n",
       "      <td>5.660100e+09</td>\n",
       "      <td>2.226990e+10</td>\n",
       "      <td>1.314530e+10</td>\n",
       "    </tr>\n",
       "    <tr>\n",
       "      <th>1</th>\n",
       "      <td>209</td>\n",
       "      <td>Reino Unido</td>\n",
       "      <td>1.951400e+10</td>\n",
       "      <td>1.188500e+09</td>\n",
       "      <td>1.977290e+10</td>\n",
       "      <td>6.980000e+07</td>\n",
       "    </tr>\n",
       "    <tr>\n",
       "      <th>2</th>\n",
       "      <td>210</td>\n",
       "      <td>Estados Unidos</td>\n",
       "      <td>4.649480e+10</td>\n",
       "      <td>5.712700e+09</td>\n",
       "      <td>1.691680e+10</td>\n",
       "      <td>3.479240e+10</td>\n",
       "    </tr>\n",
       "    <tr>\n",
       "      <th>3</th>\n",
       "      <td>70</td>\n",
       "      <td>França</td>\n",
       "      <td>4.091480e+10</td>\n",
       "      <td>2.113370e+10</td>\n",
       "      <td>9.762800e+09</td>\n",
       "      <td>6.657170e+10</td>\n",
       "    </tr>\n",
       "    <tr>\n",
       "      <th>4</th>\n",
       "      <td>165</td>\n",
       "      <td>Rússia</td>\n",
       "      <td>1.504420e+10</td>\n",
       "      <td>3.640000e+07</td>\n",
       "      <td>6.605900e+09</td>\n",
       "      <td>7.741200e+09</td>\n",
       "    </tr>\n",
       "    <tr>\n",
       "      <th>5</th>\n",
       "      <td>43</td>\n",
       "      <td>China</td>\n",
       "      <td>2.358440e+10</td>\n",
       "      <td>6.410000e+07</td>\n",
       "      <td>6.581600e+09</td>\n",
       "      <td>1.675930e+10</td>\n",
       "    </tr>\n",
       "    <tr>\n",
       "      <th>6</th>\n",
       "      <td>140</td>\n",
       "      <td>Países Baixos</td>\n",
       "      <td>5.273900e+09</td>\n",
       "      <td>7.934000e+08</td>\n",
       "      <td>6.057700e+09</td>\n",
       "      <td>8.000000e+06</td>\n",
       "    </tr>\n",
       "    <tr>\n",
       "      <th>7</th>\n",
       "      <td>35</td>\n",
       "      <td>Canadá</td>\n",
       "      <td>7.322800e+09</td>\n",
       "      <td>1.247500e+09</td>\n",
       "      <td>5.864200e+09</td>\n",
       "      <td>9.325000e+08</td>\n",
       "    </tr>\n",
       "    <tr>\n",
       "      <th>8</th>\n",
       "      <td>18</td>\n",
       "      <td>Bélgica</td>\n",
       "      <td>4.102400e+09</td>\n",
       "      <td>7.108000e+08</td>\n",
       "      <td>4.722900e+09</td>\n",
       "      <td>1.610000e+07</td>\n",
       "    </tr>\n",
       "    <tr>\n",
       "      <th>9</th>\n",
       "      <td>99</td>\n",
       "      <td>Japão</td>\n",
       "      <td>4.776800e+09</td>\n",
       "      <td>3.900000e+06</td>\n",
       "      <td>3.680200e+09</td>\n",
       "      <td>1.143900e+09</td>\n",
       "    </tr>\n",
       "    <tr>\n",
       "      <th>10</th>\n",
       "      <td>97</td>\n",
       "      <td>Itália</td>\n",
       "      <td>3.387180e+10</td>\n",
       "      <td>3.118350e+10</td>\n",
       "      <td>3.248400e+09</td>\n",
       "      <td>7.243280e+10</td>\n",
       "    </tr>\n",
       "    <tr>\n",
       "      <th>11</th>\n",
       "      <td>193</td>\n",
       "      <td>Suécia</td>\n",
       "      <td>3.311900e+09</td>\n",
       "      <td>9.950000e+07</td>\n",
       "      <td>3.127400e+09</td>\n",
       "      <td>0.000000e+00</td>\n",
       "    </tr>\n",
       "    <tr>\n",
       "      <th>12</th>\n",
       "      <td>159</td>\n",
       "      <td>Portugal</td>\n",
       "      <td>7.299200e+09</td>\n",
       "      <td>4.441400e+09</td>\n",
       "      <td>3.124600e+09</td>\n",
       "      <td>9.612400e+09</td>\n",
       "    </tr>\n",
       "    <tr>\n",
       "      <th>13</th>\n",
       "      <td>55</td>\n",
       "      <td>Dinamarca</td>\n",
       "      <td>2.327200e+09</td>\n",
       "      <td>5.026000e+08</td>\n",
       "      <td>2.817700e+09</td>\n",
       "      <td>1.800000e+06</td>\n",
       "    </tr>\n",
       "    <tr>\n",
       "      <th>14</th>\n",
       "      <td>194</td>\n",
       "      <td>Suíça</td>\n",
       "      <td>4.053400e+09</td>\n",
       "      <td>2.270000e+07</td>\n",
       "      <td>2.787400e+09</td>\n",
       "      <td>1.435500e+09</td>\n",
       "    </tr>\n",
       "    <tr>\n",
       "      <th>15</th>\n",
       "      <td>53</td>\n",
       "      <td>República Tcheca</td>\n",
       "      <td>3.137300e+09</td>\n",
       "      <td>2.435000e+08</td>\n",
       "      <td>2.364100e+09</td>\n",
       "      <td>9.190000e+08</td>\n",
       "    </tr>\n",
       "    <tr>\n",
       "      <th>16</th>\n",
       "      <td>158</td>\n",
       "      <td>Polônia</td>\n",
       "      <td>1.635300e+09</td>\n",
       "      <td>9.420000e+07</td>\n",
       "      <td>1.747900e+09</td>\n",
       "      <td>5.000000e+06</td>\n",
       "    </tr>\n",
       "    <tr>\n",
       "      <th>18</th>\n",
       "      <td>10</td>\n",
       "      <td>Austrália</td>\n",
       "      <td>8.142500e+09</td>\n",
       "      <td>1.107070e+10</td>\n",
       "      <td>1.299200e+09</td>\n",
       "      <td>1.854660e+10</td>\n",
       "    </tr>\n",
       "    <tr>\n",
       "      <th>19</th>\n",
       "      <td>149</td>\n",
       "      <td>Noruega</td>\n",
       "      <td>1.176700e+09</td>\n",
       "      <td>2.800000e+07</td>\n",
       "      <td>1.299100e+09</td>\n",
       "      <td>0.000000e+00</td>\n",
       "    </tr>\n",
       "    <tr>\n",
       "      <th>20</th>\n",
       "      <td>115</td>\n",
       "      <td>Lituânia</td>\n",
       "      <td>4.765000e+08</td>\n",
       "      <td>8.969000e+08</td>\n",
       "      <td>1.298800e+09</td>\n",
       "      <td>7.690000e+07</td>\n",
       "    </tr>\n",
       "    <tr>\n",
       "      <th>21</th>\n",
       "      <td>5</td>\n",
       "      <td>Angola</td>\n",
       "      <td>1.197200e+09</td>\n",
       "      <td>1.290000e+07</td>\n",
       "      <td>1.229100e+09</td>\n",
       "      <td>0.000000e+00</td>\n",
       "    </tr>\n",
       "    <tr>\n",
       "      <th>22</th>\n",
       "      <td>95</td>\n",
       "      <td>Irlanda</td>\n",
       "      <td>1.143200e+09</td>\n",
       "      <td>4.250000e+07</td>\n",
       "      <td>1.169100e+09</td>\n",
       "      <td>0.000000e+00</td>\n",
       "    </tr>\n",
       "    <tr>\n",
       "      <th>23</th>\n",
       "      <td>11</td>\n",
       "      <td>Áustria</td>\n",
       "      <td>3.703600e+09</td>\n",
       "      <td>8.419000e+08</td>\n",
       "      <td>1.104600e+09</td>\n",
       "      <td>3.572200e+09</td>\n",
       "    </tr>\n",
       "    <tr>\n",
       "      <th>24</th>\n",
       "      <td>188</td>\n",
       "      <td>Espanha</td>\n",
       "      <td>1.506350e+10</td>\n",
       "      <td>3.119330e+10</td>\n",
       "      <td>1.051100e+09</td>\n",
       "      <td>5.574770e+10</td>\n",
       "    </tr>\n",
       "    <tr>\n",
       "      <th>25</th>\n",
       "      <td>69</td>\n",
       "      <td>Finlândia</td>\n",
       "      <td>7.636000e+08</td>\n",
       "      <td>9.090000e+07</td>\n",
       "      <td>1.034400e+09</td>\n",
       "      <td>0.000000e+00</td>\n",
       "    </tr>\n",
       "    <tr>\n",
       "      <th>26</th>\n",
       "      <td>182</td>\n",
       "      <td>Eslováquia</td>\n",
       "      <td>1.074900e+09</td>\n",
       "      <td>4.130000e+08</td>\n",
       "      <td>9.873000e+08</td>\n",
       "      <td>4.842000e+08</td>\n",
       "    </tr>\n",
       "    <tr>\n",
       "      <th>27</th>\n",
       "      <td>109</td>\n",
       "      <td>Letônia</td>\n",
       "      <td>1.299000e+08</td>\n",
       "      <td>8.735000e+08</td>\n",
       "      <td>9.791000e+08</td>\n",
       "      <td>3.430000e+07</td>\n",
       "    </tr>\n",
       "    <tr>\n",
       "      <th>28</th>\n",
       "      <td>127</td>\n",
       "      <td>México</td>\n",
       "      <td>1.454000e+09</td>\n",
       "      <td>1.860000e+07</td>\n",
       "      <td>8.619000e+08</td>\n",
       "      <td>6.076000e+08</td>\n",
       "    </tr>\n",
       "    <tr>\n",
       "      <th>29</th>\n",
       "      <td>17</td>\n",
       "      <td>Bielorrússia</td>\n",
       "      <td>1.213100e+09</td>\n",
       "      <td>2.210000e+07</td>\n",
       "      <td>8.205000e+08</td>\n",
       "      <td>4.283000e+08</td>\n",
       "    </tr>\n",
       "    <tr>\n",
       "      <th>30</th>\n",
       "      <td>40</td>\n",
       "      <td>Hong Kong</td>\n",
       "      <td>4.589000e+08</td>\n",
       "      <td>2.381000e+08</td>\n",
       "      <td>6.980000e+08</td>\n",
       "      <td>0.000000e+00</td>\n",
       "    </tr>\n",
       "    <tr>\n",
       "      <th>31</th>\n",
       "      <td>164</td>\n",
       "      <td>Romênia</td>\n",
       "      <td>6.113700e+09</td>\n",
       "      <td>2.220000e+08</td>\n",
       "      <td>6.761000e+08</td>\n",
       "      <td>6.355700e+09</td>\n",
       "    </tr>\n",
       "    <tr>\n",
       "      <th>32</th>\n",
       "      <td>105</td>\n",
       "      <td>Coreia do Sul</td>\n",
       "      <td>5.748000e+08</td>\n",
       "      <td>1.500000e+06</td>\n",
       "      <td>6.027000e+08</td>\n",
       "      <td>0.000000e+00</td>\n",
       "    </tr>\n",
       "    <tr>\n",
       "      <th>33</th>\n",
       "      <td>207</td>\n",
       "      <td>Ucrânia</td>\n",
       "      <td>2.595400e+09</td>\n",
       "      <td>5.740000e+08</td>\n",
       "      <td>5.838000e+08</td>\n",
       "      <td>2.564100e+09</td>\n",
       "    </tr>\n",
       "    <tr>\n",
       "      <th>34</th>\n",
       "      <td>143</td>\n",
       "      <td>Nova Zelândia</td>\n",
       "      <td>1.381500e+09</td>\n",
       "      <td>3.079000e+09</td>\n",
       "      <td>5.734000e+08</td>\n",
       "      <td>4.009200e+09</td>\n",
       "    </tr>\n",
       "    <tr>\n",
       "      <th>35</th>\n",
       "      <td>54</td>\n",
       "      <td>Costa do Marfim</td>\n",
       "      <td>5.547000e+08</td>\n",
       "      <td>9.000000e+05</td>\n",
       "      <td>5.698000e+08</td>\n",
       "      <td>0.000000e+00</td>\n",
       "    </tr>\n",
       "    <tr>\n",
       "      <th>36</th>\n",
       "      <td>208</td>\n",
       "      <td>Emirados Árabes Unidos</td>\n",
       "      <td>0.000000e+00</td>\n",
       "      <td>1.421000e+08</td>\n",
       "      <td>4.764000e+08</td>\n",
       "      <td>0.000000e+00</td>\n",
       "    </tr>\n",
       "    <tr>\n",
       "      <th>37</th>\n",
       "      <td>137</td>\n",
       "      <td>Namíbia</td>\n",
       "      <td>4.233000e+08</td>\n",
       "      <td>3.170000e+07</td>\n",
       "      <td>4.670000e+08</td>\n",
       "      <td>0.000000e+00</td>\n",
       "    </tr>\n",
       "    <tr>\n",
       "      <th>38</th>\n",
       "      <td>181</td>\n",
       "      <td>Singapura</td>\n",
       "      <td>2.051000e+08</td>\n",
       "      <td>2.299000e+08</td>\n",
       "      <td>4.357000e+08</td>\n",
       "      <td>0.000000e+00</td>\n",
       "    </tr>\n",
       "    <tr>\n",
       "      <th>39</th>\n",
       "      <td>146</td>\n",
       "      <td>Nigéria</td>\n",
       "      <td>4.007000e+08</td>\n",
       "      <td>1.500000e+06</td>\n",
       "      <td>4.181000e+08</td>\n",
       "      <td>0.000000e+00</td>\n",
       "    </tr>\n",
       "  </tbody>\n",
       "</table>\n",
       "</div>"
      ],
      "text/plain": [
       "Categoria  index                    País  ...    Importação      Produção\n",
       "0             76                Alemanha  ...  2.226990e+10  1.314530e+10\n",
       "1            209             Reino Unido  ...  1.977290e+10  6.980000e+07\n",
       "2            210          Estados Unidos  ...  1.691680e+10  3.479240e+10\n",
       "3             70                  França  ...  9.762800e+09  6.657170e+10\n",
       "4            165                  Rússia  ...  6.605900e+09  7.741200e+09\n",
       "5             43                   China  ...  6.581600e+09  1.675930e+10\n",
       "6            140           Países Baixos  ...  6.057700e+09  8.000000e+06\n",
       "7             35                  Canadá  ...  5.864200e+09  9.325000e+08\n",
       "8             18                 Bélgica  ...  4.722900e+09  1.610000e+07\n",
       "9             99                   Japão  ...  3.680200e+09  1.143900e+09\n",
       "10            97                  Itália  ...  3.248400e+09  7.243280e+10\n",
       "11           193                  Suécia  ...  3.127400e+09  0.000000e+00\n",
       "12           159                Portugal  ...  3.124600e+09  9.612400e+09\n",
       "13            55               Dinamarca  ...  2.817700e+09  1.800000e+06\n",
       "14           194                   Suíça  ...  2.787400e+09  1.435500e+09\n",
       "15            53        República Tcheca  ...  2.364100e+09  9.190000e+08\n",
       "16           158                 Polônia  ...  1.747900e+09  5.000000e+06\n",
       "18            10               Austrália  ...  1.299200e+09  1.854660e+10\n",
       "19           149                 Noruega  ...  1.299100e+09  0.000000e+00\n",
       "20           115                Lituânia  ...  1.298800e+09  7.690000e+07\n",
       "21             5                  Angola  ...  1.229100e+09  0.000000e+00\n",
       "22            95                 Irlanda  ...  1.169100e+09  0.000000e+00\n",
       "23            11                 Áustria  ...  1.104600e+09  3.572200e+09\n",
       "24           188                 Espanha  ...  1.051100e+09  5.574770e+10\n",
       "25            69               Finlândia  ...  1.034400e+09  0.000000e+00\n",
       "26           182              Eslováquia  ...  9.873000e+08  4.842000e+08\n",
       "27           109                 Letônia  ...  9.791000e+08  3.430000e+07\n",
       "28           127                  México  ...  8.619000e+08  6.076000e+08\n",
       "29            17            Bielorrússia  ...  8.205000e+08  4.283000e+08\n",
       "30            40               Hong Kong  ...  6.980000e+08  0.000000e+00\n",
       "31           164                 Romênia  ...  6.761000e+08  6.355700e+09\n",
       "32           105           Coreia do Sul  ...  6.027000e+08  0.000000e+00\n",
       "33           207                 Ucrânia  ...  5.838000e+08  2.564100e+09\n",
       "34           143           Nova Zelândia  ...  5.734000e+08  4.009200e+09\n",
       "35            54         Costa do Marfim  ...  5.698000e+08  0.000000e+00\n",
       "36           208  Emirados Árabes Unidos  ...  4.764000e+08  0.000000e+00\n",
       "37           137                 Namíbia  ...  4.670000e+08  0.000000e+00\n",
       "38           181               Singapura  ...  4.357000e+08  0.000000e+00\n",
       "39           146                 Nigéria  ...  4.181000e+08  0.000000e+00\n",
       "\n",
       "[39 rows x 6 columns]"
      ]
     },
     "execution_count": 26,
     "metadata": {},
     "output_type": "execute_result"
    }
   ],
   "source": [
    "%python\n",
    "# Substituindo o nome dos países no dataframe aberto \n",
    "total_aberto['País'] = total_aberto['País'].replace(paises_traduzidos)\n",
    "# excluindo o Brasil da Lista de Países \n",
    "total_aberto = total_aberto[total_aberto['País'] != 'Brasil']\n",
    "total_aberto"
   ]
  },
  {
   "cell_type": "code",
   "execution_count": 0,
   "metadata": {
    "application/vnd.databricks.v1+cell": {
     "cellMetadata": {
      "byteLimit": 2048000,
      "rowLimit": 10000
     },
     "inputWidgets": {},
     "nuid": "9d6fcb51-6311-4da3-8318-2315c1293068",
     "showTitle": false,
     "tableResultSettingsMap": {},
     "title": ""
    }
   },
   "outputs": [],
   "source": [
    "# excluindo a coluna Exportação do dataframe aberto\n",
    "total_aberto.drop('Exportação',axis=1  ,inplace= True)\n",
    "# Alterando o nome das colunas \n",
    "total_aberto.columns = ['Categoria','País','Consumo Total 15 anos(L)','Importação Total 15 anos(L)','Produção Total 15 anos(L)']"
   ]
  },
  {
   "cell_type": "code",
   "execution_count": 0,
   "metadata": {
    "application/vnd.databricks.v1+cell": {
     "cellMetadata": {
      "byteLimit": 2048000,
      "rowLimit": 10000
     },
     "inputWidgets": {},
     "nuid": "52d403fc-3568-4abf-91e4-30578cb55b3e",
     "showTitle": false,
     "tableResultSettingsMap": {},
     "title": ""
    }
   },
   "outputs": [
    {
     "output_type": "execute_result",
     "data": {
      "text/html": [
       "<div>\n",
       "<style scoped>\n",
       "    .dataframe tbody tr th:only-of-type {\n",
       "        vertical-align: middle;\n",
       "    }\n",
       "\n",
       "    .dataframe tbody tr th {\n",
       "        vertical-align: top;\n",
       "    }\n",
       "\n",
       "    .dataframe thead th {\n",
       "        text-align: right;\n",
       "    }\n",
       "</style>\n",
       "<table border=\"1\" class=\"dataframe\">\n",
       "  <thead>\n",
       "    <tr style=\"text-align: right;\">\n",
       "      <th></th>\n",
       "      <th>Unnamed: 0</th>\n",
       "      <th>Posição</th>\n",
       "      <th>País (ou território dependente)</th>\n",
       "      <th>Estimativa da ONU</th>\n",
       "      <th>Crescimento desde a última estimativa</th>\n",
       "      <th>Estimativa Oficial</th>\n",
       "    </tr>\n",
       "  </thead>\n",
       "  <tbody>\n",
       "    <tr>\n",
       "      <th>0</th>\n",
       "      <td>NaN</td>\n",
       "      <td>1</td>\n",
       "      <td>Índia</td>\n",
       "      <td>1 429 921 746</td>\n",
       "      <td>+269.108.746</td>\n",
       "      <td>Estimativa oficial</td>\n",
       "    </tr>\n",
       "    <tr>\n",
       "      <th>1</th>\n",
       "      <td>NaN</td>\n",
       "      <td>2</td>\n",
       "      <td>China</td>\n",
       "      <td>1 426 391 281</td>\n",
       "      <td>+87.778.313</td>\n",
       "      <td>Censo oficial</td>\n",
       "    </tr>\n",
       "    <tr>\n",
       "      <th>2</th>\n",
       "      <td>NaN</td>\n",
       "      <td>3</td>\n",
       "      <td>Estados Unidos</td>\n",
       "      <td>346 353 341</td>\n",
       "      <td>+31.241.565</td>\n",
       "      <td>Censo oficial</td>\n",
       "    </tr>\n",
       "    <tr>\n",
       "      <th>3</th>\n",
       "      <td>NaN</td>\n",
       "      <td>4</td>\n",
       "      <td>Indonésia</td>\n",
       "      <td>277 184 719</td>\n",
       "      <td>+33.168.546</td>\n",
       "      <td>Estimativa oficial</td>\n",
       "    </tr>\n",
       "    <tr>\n",
       "      <th>4</th>\n",
       "      <td>NaN</td>\n",
       "      <td>5</td>\n",
       "      <td>Paquistão</td>\n",
       "      <td>240 215 932</td>\n",
       "      <td>+65.636.932</td>\n",
       "      <td>Estimativa oficial</td>\n",
       "    </tr>\n",
       "  </tbody>\n",
       "</table>\n",
       "</div>"
      ],
      "text/plain": [
       "   Unnamed: 0 Posição  ... Crescimento desde a última estimativa  Estimativa Oficial\n",
       "0         NaN       1  ...                          +269.108.746  Estimativa oficial\n",
       "1         NaN       2  ...                           +87.778.313       Censo oficial\n",
       "2         NaN       3  ...                           +31.241.565       Censo oficial\n",
       "3         NaN       4  ...                           +33.168.546  Estimativa oficial\n",
       "4         NaN       5  ...                           +65.636.932  Estimativa oficial\n",
       "\n",
       "[5 rows x 6 columns]"
      ]
     },
     "execution_count": 28,
     "metadata": {},
     "output_type": "execute_result"
    }
   ],
   "source": [
    "\n",
    "# Exibindos as primeiras linhas do dataset\n",
    "populacao.head()"
   ]
  },
  {
   "cell_type": "code",
   "execution_count": 0,
   "metadata": {
    "application/vnd.databricks.v1+cell": {
     "cellMetadata": {
      "byteLimit": 2048000,
      "rowLimit": 10000
     },
     "inputWidgets": {},
     "nuid": "95f743b9-47b9-40c8-a9ae-b9054e174aa9",
     "showTitle": false,
     "tableResultSettingsMap": {},
     "title": ""
    }
   },
   "outputs": [],
   "source": [
    "# excluindo colunas que não seram usadas na analise \n",
    "populacao = populacao.drop(['Unnamed: 0','Posição','Crescimento desde a última estimativa','Estimativa Oficial'],axis=1)\n",
    "# Alterando o nome das colunas \n",
    "populacao.columns = ['País', 'População']"
   ]
  },
  {
   "cell_type": "code",
   "execution_count": 0,
   "metadata": {
    "application/vnd.databricks.v1+cell": {
     "cellMetadata": {
      "byteLimit": 2048000,
      "rowLimit": 10000
     },
     "inputWidgets": {},
     "nuid": "abbd728e-1afb-4aee-85b8-57e498f05196",
     "showTitle": false,
     "tableResultSettingsMap": {},
     "title": ""
    }
   },
   "outputs": [],
   "source": [
    "# obseravando a lista de países no site percebe-se que existe uma diferença na ortografia de alguns países  \n",
    "# Por isso sera feito a correção antes de fazer a união com a outra tabela \n",
    "paises_errados = {'Polónia' :'Polônia', 'Letónia': 'Letônia',  'Hong Kong (China)': 'Hong Kong',\n",
    "                    'Chéquia':'República Tcheca','Roménia': 'Romênia'}\n",
    "# corrigindo o nome dos países no dataframe de população\n",
    "populacao['País'] = populacao['País'].replace(paises_errados)\n",
    "\n",
    "#filtrando apenas os países que usaremos na nossa analise \n",
    "populacao = populacao[populacao['País'].isin(total_aberto['País'].unique().tolist())]"
   ]
  },
  {
   "cell_type": "code",
   "execution_count": 0,
   "metadata": {
    "application/vnd.databricks.v1+cell": {
     "cellMetadata": {
      "byteLimit": 2048000,
      "rowLimit": 10000
     },
     "inputWidgets": {},
     "nuid": "1b37cda1-7205-46d5-b28b-3caf1c61dfdb",
     "showTitle": false,
     "tableResultSettingsMap": {},
     "title": ""
    }
   },
   "outputs": [
    {
     "output_type": "execute_result",
     "data": {
      "text/html": [
       "<div>\n",
       "<style scoped>\n",
       "    .dataframe tbody tr th:only-of-type {\n",
       "        vertical-align: middle;\n",
       "    }\n",
       "\n",
       "    .dataframe tbody tr th {\n",
       "        vertical-align: top;\n",
       "    }\n",
       "\n",
       "    .dataframe thead th {\n",
       "        text-align: right;\n",
       "    }\n",
       "</style>\n",
       "<table border=\"1\" class=\"dataframe\">\n",
       "  <thead>\n",
       "    <tr style=\"text-align: right;\">\n",
       "      <th></th>\n",
       "      <th>País</th>\n",
       "      <th>População</th>\n",
       "    </tr>\n",
       "  </thead>\n",
       "  <tbody>\n",
       "    <tr>\n",
       "      <th>1</th>\n",
       "      <td>China</td>\n",
       "      <td>1426391281</td>\n",
       "    </tr>\n",
       "    <tr>\n",
       "      <th>2</th>\n",
       "      <td>Estados Unidos</td>\n",
       "      <td>346353341</td>\n",
       "    </tr>\n",
       "    <tr>\n",
       "      <th>5</th>\n",
       "      <td>Nigéria</td>\n",
       "      <td>223899057</td>\n",
       "    </tr>\n",
       "    <tr>\n",
       "      <th>8</th>\n",
       "      <td>Rússia</td>\n",
       "      <td>146140931</td>\n",
       "    </tr>\n",
       "    <tr>\n",
       "      <th>9</th>\n",
       "      <td>México</td>\n",
       "      <td>134127189</td>\n",
       "    </tr>\n",
       "    <tr>\n",
       "      <th>11</th>\n",
       "      <td>Japão</td>\n",
       "      <td>124127899</td>\n",
       "    </tr>\n",
       "    <tr>\n",
       "      <th>18</th>\n",
       "      <td>Alemanha</td>\n",
       "      <td>83783942</td>\n",
       "    </tr>\n",
       "    <tr>\n",
       "      <th>20</th>\n",
       "      <td>Reino Unido</td>\n",
       "      <td>69505718</td>\n",
       "    </tr>\n",
       "    <tr>\n",
       "      <th>21</th>\n",
       "      <td>França</td>\n",
       "      <td>65273511</td>\n",
       "    </tr>\n",
       "    <tr>\n",
       "      <th>22</th>\n",
       "      <td>Itália</td>\n",
       "      <td>60461826</td>\n",
       "    </tr>\n",
       "  </tbody>\n",
       "</table>\n",
       "</div>"
      ],
      "text/plain": [
       "              País   População\n",
       "1            China  1426391281\n",
       "2   Estados Unidos   346353341\n",
       "5          Nigéria   223899057\n",
       "8           Rússia   146140931\n",
       "9           México   134127189\n",
       "11           Japão   124127899\n",
       "18        Alemanha    83783942\n",
       "20     Reino Unido    69505718\n",
       "21          França    65273511\n",
       "22          Itália    60461826"
      ]
     },
     "execution_count": 31,
     "metadata": {},
     "output_type": "execute_result"
    }
   ],
   "source": [
    "# corringindo a coluna de populaçao retirando o espaço em branco dentro do numero e transformando a coluna para tipo numerico\n",
    "populacao['População'] = populacao['População'].str.replace(' ','').astype(int)\n",
    "populacao.head(10)"
   ]
  },
  {
   "cell_type": "code",
   "execution_count": 0,
   "metadata": {
    "application/vnd.databricks.v1+cell": {
     "cellMetadata": {
      "byteLimit": 2048000,
      "rowLimit": 10000
     },
     "inputWidgets": {},
     "nuid": "85bc9cfd-0de9-4de2-868d-e20b29db3df4",
     "showTitle": false,
     "tableResultSettingsMap": {},
     "title": ""
    }
   },
   "outputs": [
    {
     "output_type": "execute_result",
     "data": {
      "text/html": [
       "<div>\n",
       "<style scoped>\n",
       "    .dataframe tbody tr th:only-of-type {\n",
       "        vertical-align: middle;\n",
       "    }\n",
       "\n",
       "    .dataframe tbody tr th {\n",
       "        vertical-align: top;\n",
       "    }\n",
       "\n",
       "    .dataframe thead th {\n",
       "        text-align: right;\n",
       "    }\n",
       "</style>\n",
       "<table border=\"1\" class=\"dataframe\">\n",
       "  <thead>\n",
       "    <tr style=\"text-align: right;\">\n",
       "      <th></th>\n",
       "      <th>País</th>\n",
       "      <th>Cotação em Real</th>\n",
       "    </tr>\n",
       "  </thead>\n",
       "  <tbody>\n",
       "    <tr>\n",
       "      <th>0</th>\n",
       "      <td>Lituânia</td>\n",
       "      <td>5.4600</td>\n",
       "    </tr>\n",
       "    <tr>\n",
       "      <th>1</th>\n",
       "      <td>Costa do Marfim</td>\n",
       "      <td>0.0088</td>\n",
       "    </tr>\n",
       "    <tr>\n",
       "      <th>2</th>\n",
       "      <td>Namíbia</td>\n",
       "      <td>0.2800</td>\n",
       "    </tr>\n",
       "    <tr>\n",
       "      <th>3</th>\n",
       "      <td>México</td>\n",
       "      <td>0.2700</td>\n",
       "    </tr>\n",
       "    <tr>\n",
       "      <th>4</th>\n",
       "      <td>Coreia do Sul</td>\n",
       "      <td>0.0040</td>\n",
       "    </tr>\n",
       "    <tr>\n",
       "      <th>5</th>\n",
       "      <td>Hong Kong</td>\n",
       "      <td>0.6100</td>\n",
       "    </tr>\n",
       "    <tr>\n",
       "      <th>6</th>\n",
       "      <td>Bielorrússia</td>\n",
       "      <td>1.5800</td>\n",
       "    </tr>\n",
       "    <tr>\n",
       "      <th>7</th>\n",
       "      <td>Japão</td>\n",
       "      <td>0.0380</td>\n",
       "    </tr>\n",
       "    <tr>\n",
       "      <th>8</th>\n",
       "      <td>Portugal</td>\n",
       "      <td>5.4600</td>\n",
       "    </tr>\n",
       "    <tr>\n",
       "      <th>9</th>\n",
       "      <td>Singapura</td>\n",
       "      <td>3.4100</td>\n",
       "    </tr>\n",
       "  </tbody>\n",
       "</table>\n",
       "</div>"
      ],
      "text/plain": [
       "              País  Cotação em Real\n",
       "0         Lituânia           5.4600\n",
       "1  Costa do Marfim           0.0088\n",
       "2          Namíbia           0.2800\n",
       "3           México           0.2700\n",
       "4    Coreia do Sul           0.0040\n",
       "5        Hong Kong           0.6100\n",
       "6     Bielorrússia           1.5800\n",
       "7            Japão           0.0380\n",
       "8         Portugal           5.4600\n",
       "9        Singapura           3.4100"
      ]
     },
     "execution_count": 32,
     "metadata": {},
     "output_type": "execute_result"
    }
   ],
   "source": [
    "# Cotação das moedas em comparação ao real para valores de referentes a Maio de 2024 segundo o https://wise.com/us/currency-converter/\n",
    "cotacoes = {\n",
    "    'Lituânia': 5.46, 'Costa do Marfim': 0.0088, 'Namíbia': 0.28, 'México': 0.27, 'Coreia do Sul': 0.004,\n",
    "    'Hong Kong': 0.61, 'Bielorrússia': 1.58, 'Japão': 0.038, 'Portugal': 5.46, 'Singapura': 3.41,\n",
    "    'República Tcheca': 0.24, 'Canadá': 3.86, 'Estados Unidos': 5.17, 'Suécia': 0.50, 'Austrália': 3.45,\n",
    "    'Irlanda': 5.46, 'Países Baixos': 5.46, 'Noruega': 0.51, 'Eslováquia': 5.46, 'Nova Zelândia': 3.23,\n",
    "    'Áustria': 5.46, 'Reino Unido': 6.45, 'Alemanha': 5.46, 'Dinamarca': 0.73, 'Letônia': 5.46, 'Itália': 5.46,\n",
    "    'Espanha': 5.46, 'Suíça': 5.70, 'França': 5.46, 'Bélgica': 5.46, 'Rússia': 0.065, 'China': 0.72,\n",
    "    'Paraguai': 0.00068, 'Romênia': 1.13, 'Finlândia': 5.46, 'Ucrânia': 0.13, 'Angola': 0.0061,\n",
    "    'Polônia': 0.91, 'Emirados Árabes Unidos': 1.11, 'Nigéria': 0.012\n",
    "}\n",
    "# transformando a o dicionario em dataframe\n",
    "cotacao = pd.DataFrame(list(cotacoes.items()), columns=['País', 'Cotação em Real']).round(6)\n",
    "cotacao.head(10)"
   ]
  },
  {
   "cell_type": "code",
   "execution_count": 0,
   "metadata": {
    "application/vnd.databricks.v1+cell": {
     "cellMetadata": {
      "byteLimit": 2048000,
      "rowLimit": 10000
     },
     "inputWidgets": {},
     "nuid": "879ce41e-d2af-4ba4-b340-f9821d1826fd",
     "showTitle": false,
     "tableResultSettingsMap": {},
     "title": ""
    }
   },
   "outputs": [],
   "source": [
    "# juntando o dados total de Consumo,Importação e Produção  com os dados de Populacao\n",
    "df1 = pd.merge(total_aberto,populacao,on = 'País',how='left')\n",
    "# juntando o dados total de Consumo,Importação, Produção e Populacao com os dados de Cotação\n",
    "dados_externos = pd.merge(df1,cotacao,on = 'País',how ='left')"
   ]
  },
  {
   "cell_type": "code",
   "execution_count": 0,
   "metadata": {
    "application/vnd.databricks.v1+cell": {
     "cellMetadata": {
      "byteLimit": 2048000,
      "rowLimit": 10000
     },
     "inputWidgets": {},
     "nuid": "8358d4ad-fc00-499a-96d7-9b54fd60e011",
     "showTitle": false,
     "tableResultSettingsMap": {},
     "title": ""
    }
   },
   "outputs": [
    {
     "output_type": "execute_result",
     "data": {
      "text/html": [
       "<div>\n",
       "<style scoped>\n",
       "    .dataframe tbody tr th:only-of-type {\n",
       "        vertical-align: middle;\n",
       "    }\n",
       "\n",
       "    .dataframe tbody tr th {\n",
       "        vertical-align: top;\n",
       "    }\n",
       "\n",
       "    .dataframe thead th {\n",
       "        text-align: right;\n",
       "    }\n",
       "</style>\n",
       "<table border=\"1\" class=\"dataframe\">\n",
       "  <thead>\n",
       "    <tr style=\"text-align: right;\">\n",
       "      <th></th>\n",
       "      <th>Categoria</th>\n",
       "      <th>País</th>\n",
       "      <th>Consumo Total 15 anos(L)</th>\n",
       "      <th>Importação Total 15 anos(L)</th>\n",
       "      <th>Produção Total 15 anos(L)</th>\n",
       "      <th>Cotação em Real</th>\n",
       "      <th>Consumo Per Capita Média por ano(L)</th>\n",
       "    </tr>\n",
       "  </thead>\n",
       "  <tbody>\n",
       "    <tr>\n",
       "      <th>0</th>\n",
       "      <td>76</td>\n",
       "      <td>Alemanha</td>\n",
       "      <td>3.010620e+10</td>\n",
       "      <td>2.226990e+10</td>\n",
       "      <td>1.314530e+10</td>\n",
       "      <td>5.460</td>\n",
       "      <td>23.955426</td>\n",
       "    </tr>\n",
       "    <tr>\n",
       "      <th>1</th>\n",
       "      <td>209</td>\n",
       "      <td>Reino Unido</td>\n",
       "      <td>1.951400e+10</td>\n",
       "      <td>1.977290e+10</td>\n",
       "      <td>6.980000e+07</td>\n",
       "      <td>6.450</td>\n",
       "      <td>18.716925</td>\n",
       "    </tr>\n",
       "    <tr>\n",
       "      <th>2</th>\n",
       "      <td>210</td>\n",
       "      <td>Estados Unidos</td>\n",
       "      <td>4.649480e+10</td>\n",
       "      <td>1.691680e+10</td>\n",
       "      <td>3.479240e+10</td>\n",
       "      <td>5.170</td>\n",
       "      <td>8.949396</td>\n",
       "    </tr>\n",
       "    <tr>\n",
       "      <th>3</th>\n",
       "      <td>70</td>\n",
       "      <td>França</td>\n",
       "      <td>4.091480e+10</td>\n",
       "      <td>9.762800e+09</td>\n",
       "      <td>6.657170e+10</td>\n",
       "      <td>5.460</td>\n",
       "      <td>41.788059</td>\n",
       "    </tr>\n",
       "    <tr>\n",
       "      <th>4</th>\n",
       "      <td>165</td>\n",
       "      <td>Rússia</td>\n",
       "      <td>1.504420e+10</td>\n",
       "      <td>6.605900e+09</td>\n",
       "      <td>7.741200e+09</td>\n",
       "      <td>0.065</td>\n",
       "      <td>6.862873</td>\n",
       "    </tr>\n",
       "  </tbody>\n",
       "</table>\n",
       "</div>"
      ],
      "text/plain": [
       "   Categoria  ... Consumo Per Capita Média por ano(L)\n",
       "0         76  ...                           23.955426\n",
       "1        209  ...                           18.716925\n",
       "2        210  ...                            8.949396\n",
       "3         70  ...                           41.788059\n",
       "4        165  ...                            6.862873\n",
       "\n",
       "[5 rows x 7 columns]"
      ]
     },
     "execution_count": 34,
     "metadata": {},
     "output_type": "execute_result"
    }
   ],
   "source": [
    "# Criação da coluna de Consumo Per Capita Média por ano(L)\n",
    "dados_externos['Consumo Per Capita Média por ano(L)'] = (dados_externos['Consumo Total 15 anos(L)'] / 15) / dados_externos['População']\n",
    "# Exclusão da coluna População \n",
    "dados_externos.drop('População',axis=1,inplace = True)\n",
    "# Visualização do Dataframe de Dados Externos finalizado \n",
    "dados_externos.head()"
   ]
  },
  {
   "cell_type": "code",
   "execution_count": 0,
   "metadata": {
    "application/vnd.databricks.v1+cell": {
     "cellMetadata": {
      "byteLimit": 2048000,
      "rowLimit": 10000
     },
     "inputWidgets": {},
     "nuid": "1040bd43-4cc1-49c6-9cc1-207632f76689",
     "showTitle": false,
     "tableResultSettingsMap": {},
     "title": ""
    }
   },
   "outputs": [],
   "source": [
    "%python\n",
    "# extraindo apenas o consumo dos top 40 países que mais importaram vinhos\n",
    "mercado_consumo = mercado_top40[mercado_top40['Categoria'] == 'Consumo']\n",
    "# abrindo por ano a base de consumo \n",
    "mercado_consumo = mercado_consumo.pivot(index = 'País',columns='Ano',values='Quantidade(L)')\n",
    "# calculando a taxa de crescimento anual composta de consumo de vinhos para cada país(CARG Consumo)\n",
    "carg_consumo = (mercado_consumo.iloc[:, -1] / mercado_consumo.iloc[:, 0]) ** (1 / (mercado_consumo.shape[1] - 1)) - 1\n",
    "# ordenando os países com maior CARG CONSUMO\n",
    "carg_consumo = carg_consumo.sort_values(ascending=False)\n",
    "# consumo\n",
    "carg_consumo = carg_consumo.reset_index()\n",
    "carg_consumo.columns = ['País', 'Taxa de Crescimento Consumo']"
   ]
  },
  {
   "cell_type": "code",
   "execution_count": 0,
   "metadata": {
    "application/vnd.databricks.v1+cell": {
     "cellMetadata": {
      "byteLimit": 2048000,
      "rowLimit": 10000
     },
     "inputWidgets": {},
     "nuid": "18860f36-8086-408e-ac2b-094e905c686d",
     "showTitle": false,
     "tableResultSettingsMap": {},
     "title": ""
    }
   },
   "outputs": [],
   "source": [
    "%python\n",
    "\n",
    "# extraindo apenas a produção dos top 40 países que mais importaram vinhos\n",
    "mercado_producao = mercado_top40[mercado_top40['Categoria'] == 'Produção']\n",
    "# substituindo os valores NaN por 0 \n",
    "mercado_producao.fillna(0,inplace = True)\n",
    "# abrindo por ano a base de producao\n",
    "mercado_producao = mercado_producao.pivot(index = 'País',columns='Ano',values='Quantidade(L)')\n",
    "# calculando a taxa de crescimento anual composta de produção de vinhos para cada país(CARG Consumo)\n",
    "carg_producao = (mercado_producao.iloc[:, -1] / mercado_producao.iloc[:, 0]) ** (1 / (mercado_producao.shape[1] - 1)) - 1\n",
    "# ordenando os países com menor CARG Producao\n",
    "carg_producao = carg_producao.sort_values(ascending=True)\n",
    "# substituindo os valores 'inf' e '-inf' por NaN\n",
    "carg_producao.replace([np.inf, -np.inf], np.nan, inplace=True)\n",
    "# substituindo os valores NaN por 0 \n",
    "carg_producao.fillna(0,inplace = True)\n",
    "# producao\n",
    "carg_producao = carg_producao.reset_index()\n",
    "carg_producao.columns = ['País', 'Taxa de Crescimento Produção']"
   ]
  },
  {
   "cell_type": "code",
   "execution_count": 0,
   "metadata": {
    "application/vnd.databricks.v1+cell": {
     "cellMetadata": {
      "byteLimit": 2048000,
      "rowLimit": 10000
     },
     "inputWidgets": {},
     "nuid": "db7fd019-82bd-4296-89a8-3ab5c4718908",
     "showTitle": false,
     "tableResultSettingsMap": {},
     "title": ""
    }
   },
   "outputs": [],
   "source": [
    "%python\n",
    "\n",
    "# extraindo apenas a importaram dos top 40 países que mais importaram vinhos\n",
    "mercado_importacao = mercado_top40[mercado_top40['Categoria'] == 'Importação']\n",
    "# substituindo os valores NaN por 0 \n",
    "mercado_importacao.fillna(0,inplace = True)\n",
    "# abrindo por ano a base de importacao\n",
    "mercado_importacao = mercado_importacao.pivot(index = 'País',columns='Ano',values='Quantidade(L)')\n",
    "# calculando a taxa de crescimento anual composta de importacao de vinhos para cada país(CARG Consumo)\n",
    "carg_importacao = (mercado_importacao.iloc[:, -1] / mercado_importacao.iloc[:, 0]) ** (1 / (mercado_importacao.shape[1] - 1)) - 1\n",
    "# ordenando os países com maior CARG Importacao\n",
    "carg_importacao = carg_importacao.sort_values(ascending=False)\n",
    "# substituindo os valores 'inf' e '-inf' por NaN\n",
    "carg_importacao.replace([np.inf, -np.inf], np.nan, inplace=True)\n",
    "# substituindo os valores NaN por 0 \n",
    "carg_importacao.fillna(0,inplace = True)\n",
    "# importacao\n",
    "carg_importacao = carg_importacao.reset_index()\n",
    "carg_importacao.columns = ['País', 'Taxa de Crescimento Importação']"
   ]
  },
  {
   "cell_type": "code",
   "execution_count": 0,
   "metadata": {
    "application/vnd.databricks.v1+cell": {
     "cellMetadata": {
      "byteLimit": 2048000,
      "rowLimit": 10000
     },
     "inputWidgets": {},
     "nuid": "ecd7419f-2f43-4d0a-9184-1eb01f90fdb1",
     "showTitle": false,
     "tableResultSettingsMap": {},
     "title": ""
    }
   },
   "outputs": [],
   "source": [
    "%python\n",
    "\n",
    "# unindo o dataframe com o carg consumo com carg producao\n",
    "df1 = pd.merge(carg_consumo,carg_producao,on='País')\n",
    "# unindo o dataframe com o carg consumo, carg producao com o dataframe carg_importação\n",
    "df2 = pd.merge(df1,carg_importacao,on='País')\n",
    "# unindo o dataframe com os cargs com a base_externa que contem as demais informações\n",
    "dados_externos = pd.merge(df2,dados_externos,on='País')"
   ]
  },
  {
   "cell_type": "code",
   "execution_count": 0,
   "metadata": {
    "application/vnd.databricks.v1+cell": {
     "cellMetadata": {
      "byteLimit": 2048000,
      "rowLimit": 10000
     },
     "inputWidgets": {},
     "nuid": "2dd2bfc7-ad65-4080-813a-d172f9a2b0e4",
     "showTitle": false,
     "tableResultSettingsMap": {},
     "title": ""
    }
   },
   "outputs": [],
   "source": [
    "%python\n",
    "\n",
    "# utilizando o Scikit-Learn para normalizar todas as colunas\n",
    "scaler = MinMaxScaler()\n",
    "cols_to_normalizadas = ['Taxa de Crescimento Consumo', 'Taxa de Crescimento Produção',\n",
    "                        'Taxa de Crescimento Importação', 'Consumo Total 15 anos(L)',\n",
    "                        'Importação Total 15 anos(L)', 'Produção Total 15 anos(L)',\n",
    "                        'Cotação em Real', 'Consumo Per Capita Média por ano(L)']\n",
    "dados_externos[cols_to_normalizadas] = scaler.fit_transform(dados_externos[cols_to_normalizadas])"
   ]
  },
  {
   "cell_type": "code",
   "execution_count": 0,
   "metadata": {
    "application/vnd.databricks.v1+cell": {
     "cellMetadata": {
      "byteLimit": 2048000,
      "rowLimit": 10000
     },
     "inputWidgets": {},
     "nuid": "64d5db14-e1f4-4c24-9270-eb26198079ca",
     "showTitle": false,
     "tableResultSettingsMap": {},
     "title": ""
    }
   },
   "outputs": [
    {
     "output_type": "execute_result",
     "data": {
      "text/html": [
       "<div>\n",
       "<style scoped>\n",
       "    .dataframe tbody tr th:only-of-type {\n",
       "        vertical-align: middle;\n",
       "    }\n",
       "\n",
       "    .dataframe tbody tr th {\n",
       "        vertical-align: top;\n",
       "    }\n",
       "\n",
       "    .dataframe thead th {\n",
       "        text-align: right;\n",
       "    }\n",
       "</style>\n",
       "<table border=\"1\" class=\"dataframe\">\n",
       "  <thead>\n",
       "    <tr style=\"text-align: right;\">\n",
       "      <th></th>\n",
       "      <th>País</th>\n",
       "      <th>Taxa de Crescimento Consumo</th>\n",
       "      <th>Taxa de Crescimento Produção</th>\n",
       "      <th>Taxa de Crescimento Importação</th>\n",
       "      <th>Categoria</th>\n",
       "      <th>Consumo Total 15 anos(L)</th>\n",
       "      <th>Importação Total 15 anos(L)</th>\n",
       "      <th>Produção Total 15 anos(L)</th>\n",
       "      <th>Cotação em Real</th>\n",
       "      <th>Consumo Per Capita Média por ano(L)</th>\n",
       "    </tr>\n",
       "  </thead>\n",
       "  <tbody>\n",
       "    <tr>\n",
       "      <th>0</th>\n",
       "      <td>Namíbia</td>\n",
       "      <td>1.000000</td>\n",
       "      <td>0.563046</td>\n",
       "      <td>0.911785</td>\n",
       "      <td>137</td>\n",
       "      <td>0.006328</td>\n",
       "      <td>0.002238</td>\n",
       "      <td>1.000000</td>\n",
       "      <td>0.042817</td>\n",
       "      <td>0.236945</td>\n",
       "    </tr>\n",
       "    <tr>\n",
       "      <th>1</th>\n",
       "      <td>Coreia do Sul</td>\n",
       "      <td>0.683315</td>\n",
       "      <td>0.563046</td>\n",
       "      <td>0.635966</td>\n",
       "      <td>105</td>\n",
       "      <td>0.009596</td>\n",
       "      <td>0.008448</td>\n",
       "      <td>1.000000</td>\n",
       "      <td>0.000000</td>\n",
       "      <td>0.013546</td>\n",
       "    </tr>\n",
       "    <tr>\n",
       "      <th>2</th>\n",
       "      <td>México</td>\n",
       "      <td>0.671582</td>\n",
       "      <td>0.667857</td>\n",
       "      <td>0.591355</td>\n",
       "      <td>127</td>\n",
       "      <td>0.028558</td>\n",
       "      <td>0.020310</td>\n",
       "      <td>0.991612</td>\n",
       "      <td>0.041266</td>\n",
       "      <td>0.013013</td>\n",
       "    </tr>\n",
       "    <tr>\n",
       "      <th>3</th>\n",
       "      <td>Costa do Marfim</td>\n",
       "      <td>0.668277</td>\n",
       "      <td>0.563046</td>\n",
       "      <td>0.648288</td>\n",
       "      <td>54</td>\n",
       "      <td>0.009162</td>\n",
       "      <td>0.006942</td>\n",
       "      <td>1.000000</td>\n",
       "      <td>0.000745</td>\n",
       "      <td>0.027661</td>\n",
       "    </tr>\n",
       "    <tr>\n",
       "      <th>4</th>\n",
       "      <td>Lituânia</td>\n",
       "      <td>0.597560</td>\n",
       "      <td>0.867211</td>\n",
       "      <td>0.682487</td>\n",
       "      <td>115</td>\n",
       "      <td>0.007475</td>\n",
       "      <td>0.040303</td>\n",
       "      <td>0.998938</td>\n",
       "      <td>0.846416</td>\n",
       "      <td>0.249083</td>\n",
       "    </tr>\n",
       "    <tr>\n",
       "      <th>5</th>\n",
       "      <td>Polônia</td>\n",
       "      <td>0.507527</td>\n",
       "      <td>0.563046</td>\n",
       "      <td>0.502620</td>\n",
       "      <td>158</td>\n",
       "      <td>0.032469</td>\n",
       "      <td>0.060855</td>\n",
       "      <td>0.999931</td>\n",
       "      <td>0.140552</td>\n",
       "      <td>0.059549</td>\n",
       "    </tr>\n",
       "    <tr>\n",
       "      <th>6</th>\n",
       "      <td>Bielorrússia</td>\n",
       "      <td>0.485052</td>\n",
       "      <td>0.507269</td>\n",
       "      <td>0.486530</td>\n",
       "      <td>17</td>\n",
       "      <td>0.023363</td>\n",
       "      <td>0.018415</td>\n",
       "      <td>0.994087</td>\n",
       "      <td>0.244493</td>\n",
       "      <td>0.182002</td>\n",
       "    </tr>\n",
       "    <tr>\n",
       "      <th>7</th>\n",
       "      <td>Singapura</td>\n",
       "      <td>0.480577</td>\n",
       "      <td>0.563046</td>\n",
       "      <td>0.443396</td>\n",
       "      <td>181</td>\n",
       "      <td>0.001622</td>\n",
       "      <td>0.000805</td>\n",
       "      <td>1.000000</td>\n",
       "      <td>0.528390</td>\n",
       "      <td>0.047831</td>\n",
       "    </tr>\n",
       "    <tr>\n",
       "      <th>8</th>\n",
       "      <td>Hong Kong</td>\n",
       "      <td>0.473598</td>\n",
       "      <td>0.563046</td>\n",
       "      <td>0.375997</td>\n",
       "      <td>40</td>\n",
       "      <td>0.007096</td>\n",
       "      <td>0.012809</td>\n",
       "      <td>1.000000</td>\n",
       "      <td>0.094012</td>\n",
       "      <td>0.085432</td>\n",
       "    </tr>\n",
       "    <tr>\n",
       "      <th>9</th>\n",
       "      <td>Japão</td>\n",
       "      <td>0.462391</td>\n",
       "      <td>0.521098</td>\n",
       "      <td>0.474002</td>\n",
       "      <td>99</td>\n",
       "      <td>0.100225</td>\n",
       "      <td>0.149283</td>\n",
       "      <td>0.984207</td>\n",
       "      <td>0.005275</td>\n",
       "      <td>0.052755</td>\n",
       "    </tr>\n",
       "    <tr>\n",
       "      <th>10</th>\n",
       "      <td>Portugal</td>\n",
       "      <td>0.460667</td>\n",
       "      <td>0.501428</td>\n",
       "      <td>0.570656</td>\n",
       "      <td>159</td>\n",
       "      <td>0.154628</td>\n",
       "      <td>0.123857</td>\n",
       "      <td>0.867292</td>\n",
       "      <td>0.846416</td>\n",
       "      <td>1.000000</td>\n",
       "    </tr>\n",
       "    <tr>\n",
       "      <th>11</th>\n",
       "      <td>Estados Unidos</td>\n",
       "      <td>0.439959</td>\n",
       "      <td>0.514525</td>\n",
       "      <td>0.514156</td>\n",
       "      <td>210</td>\n",
       "      <td>1.000000</td>\n",
       "      <td>0.755027</td>\n",
       "      <td>0.519660</td>\n",
       "      <td>0.801427</td>\n",
       "      <td>0.190430</td>\n",
       "    </tr>\n",
       "    <tr>\n",
       "      <th>12</th>\n",
       "      <td>Canadá</td>\n",
       "      <td>0.428704</td>\n",
       "      <td>0.500214</td>\n",
       "      <td>0.417536</td>\n",
       "      <td>35</td>\n",
       "      <td>0.155137</td>\n",
       "      <td>0.249229</td>\n",
       "      <td>0.987126</td>\n",
       "      <td>0.598200</td>\n",
       "      <td>0.276378</td>\n",
       "    </tr>\n",
       "    <tr>\n",
       "      <th>13</th>\n",
       "      <td>República Tcheca</td>\n",
       "      <td>0.412312</td>\n",
       "      <td>0.680400</td>\n",
       "      <td>0.384259</td>\n",
       "      <td>53</td>\n",
       "      <td>0.064864</td>\n",
       "      <td>0.089054</td>\n",
       "      <td>0.987312</td>\n",
       "      <td>0.036612</td>\n",
       "      <td>0.418625</td>\n",
       "    </tr>\n",
       "    <tr>\n",
       "      <th>14</th>\n",
       "      <td>Nigéria</td>\n",
       "      <td>0.398194</td>\n",
       "      <td>0.563046</td>\n",
       "      <td>0.367948</td>\n",
       "      <td>146</td>\n",
       "      <td>0.005841</td>\n",
       "      <td>0.000000</td>\n",
       "      <td>1.000000</td>\n",
       "      <td>0.001241</td>\n",
       "      <td>0.000000</td>\n",
       "    </tr>\n",
       "    <tr>\n",
       "      <th>15</th>\n",
       "      <td>Austrália</td>\n",
       "      <td>0.395368</td>\n",
       "      <td>0.546922</td>\n",
       "      <td>0.497859</td>\n",
       "      <td>10</td>\n",
       "      <td>0.172816</td>\n",
       "      <td>0.040322</td>\n",
       "      <td>0.743947</td>\n",
       "      <td>0.534595</td>\n",
       "      <td>0.456517</td>\n",
       "    </tr>\n",
       "    <tr>\n",
       "      <th>16</th>\n",
       "      <td>Nova Zelândia</td>\n",
       "      <td>0.381658</td>\n",
       "      <td>0.352377</td>\n",
       "      <td>0.376632</td>\n",
       "      <td>143</td>\n",
       "      <td>0.026995</td>\n",
       "      <td>0.007107</td>\n",
       "      <td>0.944649</td>\n",
       "      <td>0.500465</td>\n",
       "      <td>0.409317</td>\n",
       "    </tr>\n",
       "    <tr>\n",
       "      <th>17</th>\n",
       "      <td>Irlanda</td>\n",
       "      <td>0.378064</td>\n",
       "      <td>0.563046</td>\n",
       "      <td>0.434076</td>\n",
       "      <td>95</td>\n",
       "      <td>0.021855</td>\n",
       "      <td>0.034368</td>\n",
       "      <td>1.000000</td>\n",
       "      <td>0.846416</td>\n",
       "      <td>0.330292</td>\n",
       "    </tr>\n",
       "    <tr>\n",
       "      <th>18</th>\n",
       "      <td>Espanha</td>\n",
       "      <td>0.377440</td>\n",
       "      <td>0.564262</td>\n",
       "      <td>0.315323</td>\n",
       "      <td>188</td>\n",
       "      <td>0.322088</td>\n",
       "      <td>0.028968</td>\n",
       "      <td>0.230353</td>\n",
       "      <td>0.846416</td>\n",
       "      <td>0.460637</td>\n",
       "    </tr>\n",
       "    <tr>\n",
       "      <th>19</th>\n",
       "      <td>Suécia</td>\n",
       "      <td>0.376577</td>\n",
       "      <td>0.563046</td>\n",
       "      <td>0.381988</td>\n",
       "      <td>193</td>\n",
       "      <td>0.068630</td>\n",
       "      <td>0.123985</td>\n",
       "      <td>1.000000</td>\n",
       "      <td>0.076947</td>\n",
       "      <td>0.468910</td>\n",
       "    </tr>\n",
       "    <tr>\n",
       "      <th>20</th>\n",
       "      <td>Países Baixos</td>\n",
       "      <td>0.376166</td>\n",
       "      <td>0.563046</td>\n",
       "      <td>0.393975</td>\n",
       "      <td>140</td>\n",
       "      <td>0.110946</td>\n",
       "      <td>0.258084</td>\n",
       "      <td>0.999890</td>\n",
       "      <td>0.846416</td>\n",
       "      <td>0.439943</td>\n",
       "    </tr>\n",
       "    <tr>\n",
       "      <th>21</th>\n",
       "      <td>Noruega</td>\n",
       "      <td>0.368137</td>\n",
       "      <td>0.563046</td>\n",
       "      <td>0.407984</td>\n",
       "      <td>149</td>\n",
       "      <td>0.022577</td>\n",
       "      <td>0.040317</td>\n",
       "      <td>1.000000</td>\n",
       "      <td>0.078498</td>\n",
       "      <td>0.309492</td>\n",
       "    </tr>\n",
       "    <tr>\n",
       "      <th>22</th>\n",
       "      <td>Áustria</td>\n",
       "      <td>0.368118</td>\n",
       "      <td>0.618580</td>\n",
       "      <td>0.362579</td>\n",
       "      <td>11</td>\n",
       "      <td>0.077078</td>\n",
       "      <td>0.031416</td>\n",
       "      <td>0.950683</td>\n",
       "      <td>0.846416</td>\n",
       "      <td>0.588650</td>\n",
       "    </tr>\n",
       "    <tr>\n",
       "      <th>23</th>\n",
       "      <td>Reino Unido</td>\n",
       "      <td>0.366511</td>\n",
       "      <td>0.015906</td>\n",
       "      <td>0.369187</td>\n",
       "      <td>209</td>\n",
       "      <td>0.418077</td>\n",
       "      <td>0.885730</td>\n",
       "      <td>0.999036</td>\n",
       "      <td>1.000000</td>\n",
       "      <td>0.401076</td>\n",
       "    </tr>\n",
       "    <tr>\n",
       "      <th>24</th>\n",
       "      <td>Letônia</td>\n",
       "      <td>0.364577</td>\n",
       "      <td>0.636126</td>\n",
       "      <td>1.000000</td>\n",
       "      <td>109</td>\n",
       "      <td>0.000000</td>\n",
       "      <td>0.025673</td>\n",
       "      <td>0.999526</td>\n",
       "      <td>0.846416</td>\n",
       "      <td>0.096442</td>\n",
       "    </tr>\n",
       "    <tr>\n",
       "      <th>25</th>\n",
       "      <td>Alemanha</td>\n",
       "      <td>0.354235</td>\n",
       "      <td>0.599593</td>\n",
       "      <td>0.327353</td>\n",
       "      <td>76</td>\n",
       "      <td>0.646530</td>\n",
       "      <td>1.000000</td>\n",
       "      <td>0.818517</td>\n",
       "      <td>0.846416</td>\n",
       "      <td>0.514049</td>\n",
       "    </tr>\n",
       "    <tr>\n",
       "      <th>26</th>\n",
       "      <td>Dinamarca</td>\n",
       "      <td>0.353688</td>\n",
       "      <td>0.563046</td>\n",
       "      <td>0.300323</td>\n",
       "      <td>55</td>\n",
       "      <td>0.047391</td>\n",
       "      <td>0.109812</td>\n",
       "      <td>0.999975</td>\n",
       "      <td>0.112628</td>\n",
       "      <td>0.575081</td>\n",
       "    </tr>\n",
       "    <tr>\n",
       "      <th>27</th>\n",
       "      <td>Eslováquia</td>\n",
       "      <td>0.350281</td>\n",
       "      <td>0.636126</td>\n",
       "      <td>0.424920</td>\n",
       "      <td>182</td>\n",
       "      <td>0.020382</td>\n",
       "      <td>0.026048</td>\n",
       "      <td>0.993315</td>\n",
       "      <td>0.846416</td>\n",
       "      <td>0.280489</td>\n",
       "    </tr>\n",
       "    <tr>\n",
       "      <th>28</th>\n",
       "      <td>Itália</td>\n",
       "      <td>0.327126</td>\n",
       "      <td>0.543406</td>\n",
       "      <td>0.358880</td>\n",
       "      <td>97</td>\n",
       "      <td>0.727747</td>\n",
       "      <td>0.129523</td>\n",
       "      <td>0.000000</td>\n",
       "      <td>0.846416</td>\n",
       "      <td>0.802871</td>\n",
       "    </tr>\n",
       "    <tr>\n",
       "      <th>29</th>\n",
       "      <td>Suíça</td>\n",
       "      <td>0.313038</td>\n",
       "      <td>0.588579</td>\n",
       "      <td>0.318449</td>\n",
       "      <td>194</td>\n",
       "      <td>0.084622</td>\n",
       "      <td>0.108426</td>\n",
       "      <td>0.980182</td>\n",
       "      <td>0.883649</td>\n",
       "      <td>0.670790</td>\n",
       "    </tr>\n",
       "    <tr>\n",
       "      <th>30</th>\n",
       "      <td>França</td>\n",
       "      <td>0.312217</td>\n",
       "      <td>0.538063</td>\n",
       "      <td>0.357313</td>\n",
       "      <td>70</td>\n",
       "      <td>0.879650</td>\n",
       "      <td>0.427640</td>\n",
       "      <td>0.080918</td>\n",
       "      <td>0.846416</td>\n",
       "      <td>0.898628</td>\n",
       "    </tr>\n",
       "    <tr>\n",
       "      <th>31</th>\n",
       "      <td>Bélgica</td>\n",
       "      <td>0.264211</td>\n",
       "      <td>0.000000</td>\n",
       "      <td>0.359607</td>\n",
       "      <td>18</td>\n",
       "      <td>0.085679</td>\n",
       "      <td>0.197000</td>\n",
       "      <td>0.999778</td>\n",
       "      <td>0.846416</td>\n",
       "      <td>0.506344</td>\n",
       "    </tr>\n",
       "    <tr>\n",
       "      <th>32</th>\n",
       "      <td>Rússia</td>\n",
       "      <td>0.246753</td>\n",
       "      <td>0.678077</td>\n",
       "      <td>0.203277</td>\n",
       "      <td>165</td>\n",
       "      <td>0.321672</td>\n",
       "      <td>0.283171</td>\n",
       "      <td>0.893126</td>\n",
       "      <td>0.009463</td>\n",
       "      <td>0.145432</td>\n",
       "    </tr>\n",
       "    <tr>\n",
       "      <th>33</th>\n",
       "      <td>China</td>\n",
       "      <td>0.244909</td>\n",
       "      <td>0.875622</td>\n",
       "      <td>0.568902</td>\n",
       "      <td>43</td>\n",
       "      <td>0.505868</td>\n",
       "      <td>0.282059</td>\n",
       "      <td>0.768623</td>\n",
       "      <td>0.111077</td>\n",
       "      <td>0.021199</td>\n",
       "    </tr>\n",
       "    <tr>\n",
       "      <th>34</th>\n",
       "      <td>Romênia</td>\n",
       "      <td>0.144299</td>\n",
       "      <td>0.663904</td>\n",
       "      <td>0.448022</td>\n",
       "      <td>164</td>\n",
       "      <td>0.129059</td>\n",
       "      <td>0.011807</td>\n",
       "      <td>0.912254</td>\n",
       "      <td>0.174682</td>\n",
       "      <td>0.454336</td>\n",
       "    </tr>\n",
       "    <tr>\n",
       "      <th>35</th>\n",
       "      <td>Ucrânia</td>\n",
       "      <td>0.116841</td>\n",
       "      <td>1.000000</td>\n",
       "      <td>0.296108</td>\n",
       "      <td>207</td>\n",
       "      <td>0.053176</td>\n",
       "      <td>0.007583</td>\n",
       "      <td>0.964600</td>\n",
       "      <td>0.019547</td>\n",
       "      <td>0.082750</td>\n",
       "    </tr>\n",
       "    <tr>\n",
       "      <th>36</th>\n",
       "      <td>Finlândia</td>\n",
       "      <td>0.110334</td>\n",
       "      <td>0.563046</td>\n",
       "      <td>0.399555</td>\n",
       "      <td>69</td>\n",
       "      <td>0.013668</td>\n",
       "      <td>0.028204</td>\n",
       "      <td>1.000000</td>\n",
       "      <td>0.846416</td>\n",
       "      <td>0.195570</td>\n",
       "    </tr>\n",
       "    <tr>\n",
       "      <th>37</th>\n",
       "      <td>Angola</td>\n",
       "      <td>0.000000</td>\n",
       "      <td>0.563046</td>\n",
       "      <td>0.000000</td>\n",
       "      <td>5</td>\n",
       "      <td>0.023020</td>\n",
       "      <td>0.037114</td>\n",
       "      <td>1.000000</td>\n",
       "      <td>0.000326</td>\n",
       "      <td>0.043951</td>\n",
       "    </tr>\n",
       "  </tbody>\n",
       "</table>\n",
       "</div>"
      ],
      "text/plain": [
       "                País  ...  Consumo Per Capita Média por ano(L)\n",
       "0            Namíbia  ...                             0.236945\n",
       "1      Coreia do Sul  ...                             0.013546\n",
       "2             México  ...                             0.013013\n",
       "3    Costa do Marfim  ...                             0.027661\n",
       "4           Lituânia  ...                             0.249083\n",
       "5            Polônia  ...                             0.059549\n",
       "6       Bielorrússia  ...                             0.182002\n",
       "7          Singapura  ...                             0.047831\n",
       "8          Hong Kong  ...                             0.085432\n",
       "9              Japão  ...                             0.052755\n",
       "10          Portugal  ...                             1.000000\n",
       "11    Estados Unidos  ...                             0.190430\n",
       "12            Canadá  ...                             0.276378\n",
       "13  República Tcheca  ...                             0.418625\n",
       "14           Nigéria  ...                             0.000000\n",
       "15         Austrália  ...                             0.456517\n",
       "16     Nova Zelândia  ...                             0.409317\n",
       "17           Irlanda  ...                             0.330292\n",
       "18           Espanha  ...                             0.460637\n",
       "19            Suécia  ...                             0.468910\n",
       "20     Países Baixos  ...                             0.439943\n",
       "21           Noruega  ...                             0.309492\n",
       "22           Áustria  ...                             0.588650\n",
       "23       Reino Unido  ...                             0.401076\n",
       "24           Letônia  ...                             0.096442\n",
       "25          Alemanha  ...                             0.514049\n",
       "26         Dinamarca  ...                             0.575081\n",
       "27        Eslováquia  ...                             0.280489\n",
       "28            Itália  ...                             0.802871\n",
       "29             Suíça  ...                             0.670790\n",
       "30            França  ...                             0.898628\n",
       "31           Bélgica  ...                             0.506344\n",
       "32            Rússia  ...                             0.145432\n",
       "33             China  ...                             0.021199\n",
       "34           Romênia  ...                             0.454336\n",
       "35           Ucrânia  ...                             0.082750\n",
       "36         Finlândia  ...                             0.195570\n",
       "37            Angola  ...                             0.043951\n",
       "\n",
       "[38 rows x 10 columns]"
      ]
     },
     "execution_count": 40,
     "metadata": {},
     "output_type": "execute_result"
    }
   ],
   "source": [
    "%python\n",
    "\n",
    "# como o objetivo é inversamente proporcional a taxa de crescimento da produção e produção total iremos usar o complento em relação a 1 pos normalização\n",
    "dados_externos['Taxa de Crescimento Produção'] = 1 - dados_externos['Taxa de Crescimento Produção']\n",
    "dados_externos['Produção Total 15 anos(L)'] = 1 - dados_externos['Produção Total 15 anos(L)']\n",
    "dados_externos"
   ]
  },
  {
   "cell_type": "code",
   "execution_count": 0,
   "metadata": {
    "application/vnd.databricks.v1+cell": {
     "cellMetadata": {
      "byteLimit": 2048000,
      "rowLimit": 10000
     },
     "inputWidgets": {},
     "nuid": "9c084388-cb4a-4434-8fc8-a5a2065778bb",
     "showTitle": false,
     "tableResultSettingsMap": {},
     "title": ""
    }
   },
   "outputs": [],
   "source": [
    "%python\n",
    "\n",
    "dados_externos.columns = ['País', 'Taxa de Crescimento Consumo', 'Taxa de Decrescimento Produção',\n",
    "                            'Taxa de Crescimento Importação','Categoria' ,'Consumo Total 15 anos(L)',\n",
    "                            'Importação Total 15 anos(L)', 'Produção Total 15 anos(L)',\n",
    "                            'Cotação em Real', 'Consumo Per Capita Média por ano(L)']"
   ]
  },
  {
   "cell_type": "code",
   "execution_count": 0,
   "metadata": {
    "application/vnd.databricks.v1+cell": {
     "cellMetadata": {
      "byteLimit": 2048000,
      "rowLimit": 10000
     },
     "inputWidgets": {},
     "nuid": "66c52a1e-6a3b-4aab-b8a7-3a53054d6cbe",
     "showTitle": false,
     "tableResultSettingsMap": {},
     "title": ""
    }
   },
   "outputs": [],
   "source": [
    "%python\n",
    "\n",
    "# atribuindo peso as colunas\n",
    "peso_consumo = 0.1\n",
    "peso_importacao = 0.1\n",
    "peso_producao = 0.05\n",
    "peso_per_capita = 0.05\n",
    "peso_cotacao = 0.1\n",
    "peso_consumo_total = 0.2\n",
    "peso_importacao_total = 0.2\n",
    "peso_producao_total = 0.2"
   ]
  },
  {
   "cell_type": "code",
   "execution_count": 0,
   "metadata": {
    "application/vnd.databricks.v1+cell": {
     "cellMetadata": {
      "byteLimit": 2048000,
      "rowLimit": 10000
     },
     "inputWidgets": {},
     "nuid": "fe6b5d26-3e34-479b-b421-c416cdcbb9b3",
     "showTitle": false,
     "tableResultSettingsMap": {},
     "title": ""
    }
   },
   "outputs": [],
   "source": [
    "%python\n",
    "\n",
    "# calculando a pontuação composta segundo nosso modelo matemático\n",
    "dados_externos['Pontuacao_Composta'] = (\n",
    "    dados_externos['Taxa de Crescimento Consumo'] * peso_consumo +\n",
    "    dados_externos['Taxa de Crescimento Importação'] * peso_importacao +\n",
    "    dados_externos['Taxa de Decrescimento Produção'] * peso_producao +\n",
    "    dados_externos['Consumo Per Capita Média por ano(L)'] * peso_per_capita +\n",
    "    dados_externos['Cotação em Real'] * peso_cotacao +\n",
    "    dados_externos['Consumo Total 15 anos(L)'] * peso_consumo_total +\n",
    "    dados_externos['Importação Total 15 anos(L)'] * peso_importacao_total +\n",
    "    dados_externos['Produção Total 15 anos(L)'] * peso_producao_total\n",
    ")\n",
    "# Ordenando os países com base na pontuação composta\n",
    "dados_externos.sort_values(by='Pontuacao_Composta', ascending=False, inplace=True)"
   ]
  },
  {
   "cell_type": "code",
   "execution_count": 0,
   "metadata": {
    "application/vnd.databricks.v1+cell": {
     "cellMetadata": {
      "byteLimit": 2048000,
      "rowLimit": 10000
     },
     "inputWidgets": {},
     "nuid": "121a8847-3d12-4593-88bf-f7770b036790",
     "showTitle": false,
     "tableResultSettingsMap": {},
     "title": ""
    }
   },
   "outputs": [
    {
     "output_type": "display_data",
     "data": {
      "image/png": "[encoded data removed]",
      "text/plain": [
       "<Figure size 1200x500 with 1 Axes>"
      ]
     },
     "metadata": {},
     "output_type": "display_data"
    }
   ],
   "source": [
    "%python\n",
    "\n",
    "# extraindo o top 10 melhores países para investir segundo o modelo matemático \n",
    "top_10_modelo = dados_externos.head(10)\n",
    "#criando a figura\n",
    "plt.figure(figsize=(12,5))\n",
    "#criando o grafico \n",
    "grafico_modelo_matematico = sns.barplot(data = top_10_modelo, x = 'País',y = 'Pontuacao_Composta',color = '#A1343C')\n",
    "# adicinando o rotulo de dados\n",
    "for p in grafico_modelo_matematico.patches:\n",
    "    grafico_modelo_matematico.annotate(f'{p.get_height():.2f}',\n",
    "                (p.get_x() + p.get_width() / 2., p.get_height()),\n",
    "                ha='center', va='center', xytext=(0, 10),\n",
    "                textcoords='offset points')\n",
    "# chamando a função de costumização \n",
    "grafico_vertical(grafico_modelo_matematico,top_10_modelo['Pontuacao_Composta'],'Ranking dos Melhores Mercados para Exportação')"
   ]
  }
 ],
 "metadata": {
  "application/vnd.databricks.v1+notebook": {
   "computePreferences": null,
   "dashboards": [],
   "environmentMetadata": {
    "base_environment": "",
    "environment_version": "2"
   },
   "inputWidgetPreferences": null,
   "language": "python",
   "notebookMetadata": {
    "mostRecentlyExecutedCommandWithImplicitDF": {
     "commandId": 7384540560371536,
     "dataframes": [
      "_sqldf"
     ]
    },
    "pythonIndentUnit": 4
   },
   "notebookName": "Análise de Exportação de vinhos | Pós Tech Data Analytics Turma 9DTAT | Fiap",
   "widgets": {}
  },
  "language_info": {
   "name": "python"
  }
 },
 "nbformat": 4,
 "nbformat_minor": 0
}