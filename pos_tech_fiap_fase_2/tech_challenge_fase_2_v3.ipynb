{
 "cells": [
  {
   "cell_type": "markdown",
   "metadata": {
    "application/vnd.databricks.v1+cell": {
     "cellMetadata": {},
     "inputWidgets": {},
     "nuid": "44a6e1cf-b2d5-46e2-830b-8a4c2d43aea7",
     "showTitle": false,
     "tableResultSettingsMap": {},
     "title": ""
    }
   },
   "source": [
    "# Importa bibliotecas"
   ]
  },
  {
   "cell_type": "code",
   "execution_count": 0,
   "metadata": {
    "application/vnd.databricks.v1+cell": {
     "cellMetadata": {
      "byteLimit": 2048000,
      "rowLimit": 10000
     },
     "inputWidgets": {},
     "nuid": "8d409fe7-06b5-4831-8760-93099e8db293",
     "showTitle": false,
     "tableResultSettingsMap": {},
     "title": ""
    }
   },
   "outputs": [],
   "source": [
    "# instala antes porque não vem no spark\n",
    "!pip install statsforecast;\n",
    "!pip install catboost;\n",
    "!pip install lightgbm;\n",
    "!pip install xgboost;\n",
    "!pip install pandas_ta;"
   ]
  },
  {
   "cell_type": "code",
   "execution_count": 0,
   "metadata": {
    "application/vnd.databricks.v1+cell": {
     "cellMetadata": {
      "byteLimit": 2048000,
      "rowLimit": 10000
     },
     "inputWidgets": {},
     "nuid": "d2516e18-46c0-448a-a0dc-a7a3d14e4754",
     "showTitle": false,
     "tableResultSettingsMap": {},
     "title": ""
    }
   },
   "outputs": [],
   "source": [
    "%pip install --upgrade threadpoolctl\n"
   ]
  },
  {
   "cell_type": "code",
   "execution_count": 0,
   "metadata": {
    "application/vnd.databricks.v1+cell": {
     "cellMetadata": {
      "byteLimit": 2048000,
      "rowLimit": 10000
     },
     "inputWidgets": {},
     "nuid": "ab2c4f1d-037d-41ae-b98b-17b231341509",
     "showTitle": false,
     "tableResultSettingsMap": {},
     "title": ""
    }
   },
   "outputs": [],
   "source": [
    "# Manipulação de dados\n",
    "import pandas as pd\n",
    "import numpy as np\n",
    "import pandas_ta as ta\n",
    "import calendar\n",
    "from datetime import date\n",
    "\n",
    "# Visualização\n",
    "import matplotlib.pyplot as plt\n",
    "import seaborn as sns\n",
    "\n",
    "# Séries temporais\n",
    "from statsmodels.tsa.seasonal import seasonal_decompose\n",
    "from sklearn.preprocessing import StandardScaler \n",
    "from statsmodels.tsa.stattools import adfuller, acf, pacf\n",
    "from statsmodels.graphics.tsaplots import plot_acf, plot_pacf\n",
    "\n",
    "# Modelagem de séries temporais (forecast)\n",
    "from statsforecast import StatsForecast\n",
    "from statsforecast.models import (\n",
    "    AutoARIMA, ARIMA, Naive, SeasonalNaive,\n",
    "    SeasonalWindowAverage, WindowAverage\n",
    ")\n",
    "from statsforecast.utils import ConformalIntervals\n",
    "\n",
    "# Machine learning - Regressão e Classificação\n",
    "from sklearn.ensemble import RandomForestClassifier\n",
    "from sklearn.linear_model import LogisticRegression \n",
    "from catboost import CatBoostClassifier \n",
    "from lightgbm import LGBMClassifier \n",
    "from xgboost import XGBClassifier \n",
    "from sklearn.svm import SVC \n",
    "\n",
    "# Métricas\n",
    "from sklearn.metrics import mean_squared_error, r2_score, accuracy_score, classification_report, confusion_matrix, roc_curve, roc_auc_score\n",
    "\n",
    "# Importar função especifica de um módulo --> Melhores hiperparametros \n",
    "from sklearn.model_selection import GridSearchCV, RandomizedSearchCV, TimeSeriesSplit, cross_val_score\n",
    "from sklearn.pipeline import Pipeline\n",
    "\n",
    "# Import de configuraçoes\n",
    "import ipywidgets as widgets\n",
    "from IPython.display import display"
   ]
  },
  {
   "cell_type": "markdown",
   "metadata": {
    "application/vnd.databricks.v1+cell": {
     "cellMetadata": {},
     "inputWidgets": {},
     "nuid": "c7772cda-c6a1-488f-b87d-6a9f445ebfb6",
     "showTitle": false,
     "tableResultSettingsMap": {},
     "title": ""
    }
   },
   "source": [
    "# Importa dataset"
   ]
  },
  {
   "cell_type": "code",
   "execution_count": 0,
   "metadata": {
    "application/vnd.databricks.v1+cell": {
     "cellMetadata": {
      "byteLimit": 2048000,
      "rowLimit": 10000
     },
     "inputWidgets": {},
     "nuid": "f8cde950-7592-4e41-86f1-a1e1f80baf19",
     "showTitle": false,
     "tableResultSettingsMap": {},
     "title": ""
    }
   },
   "outputs": [],
   "source": [
    "# Le a tabela\n",
    "df_bovespa = spark.sql(\"SELECT Data As date, `Último` AS close, Abertura AS open, `Máxima` AS high, `Mínima` AS low, `Vol.` AS vol, `Var%`AS var FROM workspace.pos_fiap.dados_historicos_ibovespa ORDER BY Data\")\n",
    "# Converte Spark DataFrame para Pandas\n",
    "df = df_bovespa.toPandas()"
   ]
  },
  {
   "cell_type": "markdown",
   "metadata": {
    "application/vnd.databricks.v1+cell": {
     "cellMetadata": {},
     "inputWidgets": {},
     "nuid": "1f930b83-920a-4f41-9f33-9165bd3cd8c8",
     "showTitle": false,
     "tableResultSettingsMap": {},
     "title": ""
    }
   },
   "source": [
    "# Análise Exploratória"
   ]
  },
  {
   "cell_type": "code",
   "execution_count": 0,
   "metadata": {
    "application/vnd.databricks.v1+cell": {
     "cellMetadata": {
      "byteLimit": 2048000,
      "rowLimit": 10000
     },
     "inputWidgets": {},
     "nuid": "e03df269-3226-40eb-a9e9-c9df136f893f",
     "showTitle": false,
     "tableResultSettingsMap": {},
     "title": ""
    }
   },
   "outputs": [],
   "source": [
    "# Converte informações de casas decimais\n",
    "def convert_to_float(value):\n",
    "    if isinstance(value, str):\n",
    "        value = value.replace('.', '').replace(',', '.')\n",
    "        if 'B' in value:\n",
    "            return float(value.replace('B', '')) * 1_000_000_000\n",
    "        if 'M' in value:\n",
    "            return float(value.replace('M', '')) * 1_000_000\n",
    "        elif 'K' in value:\n",
    "            return float(value.replace('K', '')) * 1_000\n",
    "    return value"
   ]
  },
  {
   "cell_type": "code",
   "execution_count": 0,
   "metadata": {
    "application/vnd.databricks.v1+cell": {
     "cellMetadata": {
      "byteLimit": 2048000,
      "rowLimit": 10000
     },
     "inputWidgets": {},
     "nuid": "ab1e9681-c355-406a-bbd1-c9f4a8f1e066",
     "showTitle": false,
     "tableResultSettingsMap": {},
     "title": ""
    }
   },
   "outputs": [],
   "source": [
    "# Converte informações de percentuais\n",
    "\n",
    "def convert_percentage_to_float(value):\n",
    "    if isinstance(value, str) and '%' in value:\n",
    "        value = value.replace('%', '').replace(',', '.')\n",
    "        if '-' in value:\n",
    "            value = value.replace('-', '')\n",
    "            return float(value) * -1\n",
    "        else:\n",
    "            return float(value)\n",
    "    return value"
   ]
  },
  {
   "cell_type": "code",
   "execution_count": 0,
   "metadata": {
    "application/vnd.databricks.v1+cell": {
     "cellMetadata": {
      "byteLimit": 2048000,
      "rowLimit": 10000
     },
     "inputWidgets": {},
     "nuid": "7cc3b297-5dba-4774-b78a-c445ff25c1ff",
     "showTitle": false,
     "tableResultSettingsMap": {},
     "title": ""
    }
   },
   "outputs": [],
   "source": [
    "# Aplica conversões nos campos de colume e variação percentual\n",
    "df['vol'] = df['vol'].apply(convert_to_float)\n",
    "df['var'] = df['var'].apply(convert_percentage_to_float)\n",
    "print(df.head())"
   ]
  },
  {
   "cell_type": "code",
   "execution_count": 0,
   "metadata": {
    "application/vnd.databricks.v1+cell": {
     "cellMetadata": {
      "byteLimit": 2048000,
      "rowLimit": 10000
     },
     "inputWidgets": {},
     "nuid": "70a6eed7-8fe7-4e2e-9a8c-49e06ba44a75",
     "showTitle": false,
     "tableResultSettingsMap": {},
     "title": ""
    }
   },
   "outputs": [],
   "source": [
    "# Cópia do dataset original\n",
    "df_bovespa_index = df.copy()"
   ]
  },
  {
   "cell_type": "code",
   "execution_count": 0,
   "metadata": {
    "application/vnd.databricks.v1+cell": {
     "cellMetadata": {
      "byteLimit": 2048000,
      "rowLimit": 10000
     },
     "inputWidgets": {},
     "nuid": "8c00b0e0-d261-4872-807c-18db9bd8eca9",
     "showTitle": false,
     "tableResultSettingsMap": {},
     "title": ""
    }
   },
   "outputs": [],
   "source": [
    "# Converte campo date em index e cria campo de ds para aplicar nos modelos\n",
    "df_bovespa_index.index = pd.to_datetime(df_bovespa_index.date, format=\"%Y-%m-%d\")\n",
    "df_bovespa_index = df_bovespa_index.rename(columns={'date': 'ds'})\n",
    "df_bovespa_index.sort_index(inplace=True)\n",
    "df_bovespa_index.head()"
   ]
  },
  {
   "cell_type": "code",
   "execution_count": 0,
   "metadata": {
    "application/vnd.databricks.v1+cell": {
     "cellMetadata": {
      "byteLimit": 2048000,
      "rowLimit": 10000
     },
     "inputWidgets": {},
     "nuid": "5b0871d7-cbb7-4ce3-9304-e667177acc89",
     "showTitle": false,
     "tableResultSettingsMap": {},
     "title": ""
    }
   },
   "outputs": [],
   "source": [
    "# verifica tamanho do dataset\n",
    "df_bovespa_index.shape"
   ]
  },
  {
   "cell_type": "code",
   "execution_count": 0,
   "metadata": {
    "application/vnd.databricks.v1+cell": {
     "cellMetadata": {
      "byteLimit": 2048000,
      "rowLimit": 10000
     },
     "inputWidgets": {},
     "nuid": "8c769fcf-7c0b-4f9d-8dad-decfd67da97a",
     "showTitle": false,
     "tableResultSettingsMap": {},
     "title": ""
    }
   },
   "outputs": [],
   "source": [
    "# Verifica informaçöes do dataset\n",
    "df_bovespa_index.info()"
   ]
  },
  {
   "cell_type": "code",
   "execution_count": 0,
   "metadata": {
    "application/vnd.databricks.v1+cell": {
     "cellMetadata": {
      "byteLimit": 2048000,
      "rowLimit": 10000
     },
     "inputWidgets": {},
     "nuid": "5847d395-bb60-4acc-84e2-7d857a11786e",
     "showTitle": false,
     "tableResultSettingsMap": {},
     "title": ""
    }
   },
   "outputs": [],
   "source": [
    "# Gerando a estatistica descritiva do data frame \n",
    "df_bovespa_index.describe()"
   ]
  },
  {
   "cell_type": "code",
   "execution_count": 0,
   "metadata": {
    "application/vnd.databricks.v1+cell": {
     "cellMetadata": {
      "byteLimit": 2048000,
      "rowLimit": 10000
     },
     "inputWidgets": {},
     "nuid": "fd3d9778-10c8-4b15-b1e6-13deecb957ab",
     "showTitle": false,
     "tableResultSettingsMap": {},
     "title": ""
    }
   },
   "outputs": [],
   "source": [
    "#plota o gráfico de fechamento diário\n",
    "plt.figure(figsize=(15, 6))\n",
    "plt.plot(df_bovespa_index.index, df_bovespa_index['close'], label='Fechamento Diário', color= 'sienna')\n",
    "plt.title('Fechamento - Diário do IBOVESPA')\n",
    "plt.xlabel('Data')\n",
    "plt.ylabel('Fechamento')\n",
    "\n",
    "n_labels = 20  \n",
    "labels = df_bovespa_index.index[::len(df_bovespa_index) // n_labels]\n",
    "\n",
    "plt.xticks(labels, rotation=45)\n",
    "\n",
    "plt.legend()\n",
    "plt.show()"
   ]
  },
  {
   "cell_type": "code",
   "execution_count": 0,
   "metadata": {
    "application/vnd.databricks.v1+cell": {
     "cellMetadata": {
      "byteLimit": 2048000,
      "rowLimit": 10000
     },
     "inputWidgets": {},
     "nuid": "372d058e-49d9-46d7-8189-ea7b0b72e2a2",
     "showTitle": false,
     "tableResultSettingsMap": {},
     "title": ""
    }
   },
   "outputs": [],
   "source": [
    "# Agrupa os dados por ano e conta o número de entradas.\n",
    "df_bovespa_index['ds'] = pd.to_datetime(df_bovespa_index.index, format='%d.%m.%Y', dayfirst=True)\n",
    "df_bovespa_index['anual_dias'] = df_bovespa_index['ds'].dt.year\n",
    "\n",
    "days_per_year = df_bovespa_index.groupby('anual_dias').size()\n",
    "\n",
    "print(sum(days_per_year)/20)"
   ]
  },
  {
   "cell_type": "code",
   "execution_count": 0,
   "metadata": {
    "application/vnd.databricks.v1+cell": {
     "cellMetadata": {
      "byteLimit": 2048000,
      "rowLimit": 10000
     },
     "inputWidgets": {},
     "nuid": "8ada9b7f-5739-4b8f-926b-c97af7e50ec4",
     "showTitle": false,
     "tableResultSettingsMap": {},
     "title": ""
    }
   },
   "outputs": [],
   "source": [
    "result = seasonal_decompose(df_bovespa_index['close'], model='multiplicative', period=248) # Assumindo um ano de 248 dias úteis\n"
   ]
  },
  {
   "cell_type": "code",
   "execution_count": 0,
   "metadata": {
    "application/vnd.databricks.v1+cell": {
     "cellMetadata": {
      "byteLimit": 2048000,
      "rowLimit": 10000
     },
     "inputWidgets": {},
     "nuid": "86102c4f-3531-4c9c-9c42-3222bdba6864",
     "showTitle": false,
     "tableResultSettingsMap": {},
     "title": ""
    }
   },
   "outputs": [],
   "source": [
    "# Verifica como a série está se comportando\n",
    "fig, (ax1, ax2, ax3, ax4) = plt.subplots(4, 1, figsize=(15, 12))\n",
    "\n",
    "result.observed.plot(ax=ax1, color='sienna')\n",
    "ax1.set_title(\"Componente Observada\")\n",
    "ax1.set_ylabel(\"Índice BOVESPA\")\n",
    "result.trend.plot(ax=ax2, color='sienna')\n",
    "ax2.set_title(\"Tendência\")\n",
    "ax2.set_ylabel(\"Índice BOVESPA\")\n",
    "result.seasonal.plot(ax=ax3, color='sienna')\n",
    "ax3.set_title(\"Sazonalidade\")\n",
    "ax3.set_ylabel(\"Fator Sazonal\")\n",
    "result.resid.plot(ax=ax4, color='sienna')\n",
    "ax4.set_title(\"Resíduos\")\n",
    "ax4.set_ylabel(\"Erro\")\n",
    "\n",
    "\n",
    "# Eixo X compartilhado (datas)\n",
    "for ax in (ax1, ax2, ax3, ax4):\n",
    "    ax.set_xlabel(\"Data\")\n",
    "\n",
    "plt.tight_layout()"
   ]
  },
  {
   "cell_type": "code",
   "execution_count": 0,
   "metadata": {
    "application/vnd.databricks.v1+cell": {
     "cellMetadata": {
      "byteLimit": 2048000,
      "rowLimit": 10000
     },
     "inputWidgets": {},
     "nuid": "53b9a199-78a5-4894-ae37-77f44ec9c413",
     "showTitle": false,
     "tableResultSettingsMap": {},
     "title": ""
    }
   },
   "outputs": [],
   "source": [
    "X = df_bovespa_index.close.values"
   ]
  },
  {
   "cell_type": "code",
   "execution_count": 0,
   "metadata": {
    "application/vnd.databricks.v1+cell": {
     "cellMetadata": {
      "byteLimit": 2048000,
      "rowLimit": 10000
     },
     "inputWidgets": {},
     "nuid": "54df7d5a-ab5a-40d2-a2b6-8e01315953e8",
     "showTitle": false,
     "tableResultSettingsMap": {},
     "title": ""
    }
   },
   "outputs": [],
   "source": [
    "result = adfuller(X)\n",
    "\n",
    "print(\"Teste ADF\")\n",
    "print(f\"Teste Estatístico: {result[0]}\")\n",
    "print(f\"P-Value: {result[1]}\")\n",
    "print(\"Valores críticos:\")\n",
    "\n",
    "for key, value in result[4].items():\n",
    "  print(f\"\\t{key}: {value}\")"
   ]
  },
  {
   "cell_type": "code",
   "execution_count": 0,
   "metadata": {
    "application/vnd.databricks.v1+cell": {
     "cellMetadata": {
      "byteLimit": 2048000,
      "rowLimit": 10000
     },
     "inputWidgets": {},
     "nuid": "e1a561a2-4b82-4672-92c1-7f352613c872",
     "showTitle": false,
     "tableResultSettingsMap": {},
     "title": ""
    }
   },
   "outputs": [],
   "source": [
    "ma = df_bovespa_index.close.rolling(12).mean()\n",
    "\n",
    "f, ax = plt.subplots()\n",
    "df_bovespa_index.close.plot(ax=ax, legend=False)\n",
    "ma.plot(ax=ax, legend=False, color='r')\n",
    "plt.tight_layout()"
   ]
  },
  {
   "cell_type": "code",
   "execution_count": 0,
   "metadata": {
    "application/vnd.databricks.v1+cell": {
     "cellMetadata": {
      "byteLimit": 2048000,
      "rowLimit": 10000
     },
     "inputWidgets": {},
     "nuid": "6874bd7c-332f-4266-b7f9-2288d659680c",
     "showTitle": false,
     "tableResultSettingsMap": {},
     "title": ""
    }
   },
   "outputs": [],
   "source": [
    "df_log = np.log(df_bovespa_index['close'])\n",
    "ma_log = df_log.rolling(12).mean()\n",
    "\n",
    "f, ax = plt.subplots()\n",
    "df_log.plot(ax=ax, legend=False)\n",
    "ma_log.plot(ax=ax, legend=False, color='r')\n",
    "plt.tight_layout()"
   ]
  },
  {
   "cell_type": "code",
   "execution_count": 0,
   "metadata": {
    "application/vnd.databricks.v1+cell": {
     "cellMetadata": {
      "byteLimit": 2048000,
      "rowLimit": 10000
     },
     "inputWidgets": {},
     "nuid": "c9bca03a-c891-4cc6-b332-af956ab60eb0",
     "showTitle": false,
     "tableResultSettingsMap": {},
     "title": ""
    }
   },
   "outputs": [],
   "source": [
    "df_s = (df_log - ma_log).dropna()\n",
    "\n",
    "ma_s = df_s.rolling(12).mean()\n",
    "\n",
    "std = df_s.rolling(12).std()\n",
    "\n",
    "f, ax = plt.subplots()\n",
    "df_s.plot(ax=ax, legend=False)\n",
    "ma_s.plot(ax=ax, legend=False, color='r')\n",
    "std.plot(ax=ax, legend=False, color='g')\n",
    "plt.tight_layout()\n"
   ]
  },
  {
   "cell_type": "code",
   "execution_count": 0,
   "metadata": {
    "application/vnd.databricks.v1+cell": {
     "cellMetadata": {
      "byteLimit": 2048000,
      "rowLimit": 10000
     },
     "inputWidgets": {},
     "nuid": "37510b65-4db0-4e60-8ea7-c68a59436e84",
     "showTitle": false,
     "tableResultSettingsMap": {},
     "title": ""
    }
   },
   "outputs": [],
   "source": [
    "df_s.head()"
   ]
  },
  {
   "cell_type": "code",
   "execution_count": 0,
   "metadata": {
    "application/vnd.databricks.v1+cell": {
     "cellMetadata": {
      "byteLimit": 2048000,
      "rowLimit": 10000
     },
     "inputWidgets": {},
     "nuid": "228840e5-f292-4f86-ac5a-9338700f9ac2",
     "showTitle": false,
     "tableResultSettingsMap": {},
     "title": ""
    }
   },
   "outputs": [],
   "source": [
    "X_s = df_s.values\n",
    "result_s = adfuller(X_s)\n",
    "\n",
    "print(\"Teste ADF\")\n",
    "print(f\"Teste Estatístico: {result_s[0]}\")\n",
    "print(f\"P-Value: {result_s[1]}\")\n",
    "print(\"Valores críticos:\")\n",
    "\n",
    "for key, value in result_s[4].items():\n",
    "  print(f\"\\t{key}: {value}\")\n"
   ]
  },
  {
   "cell_type": "code",
   "execution_count": 0,
   "metadata": {
    "application/vnd.databricks.v1+cell": {
     "cellMetadata": {
      "byteLimit": 2048000,
      "rowLimit": 10000
     },
     "inputWidgets": {},
     "nuid": "0e90e32b-e2dc-4e7d-9064-79f4bf4eda96",
     "showTitle": false,
     "tableResultSettingsMap": {},
     "title": ""
    }
   },
   "outputs": [],
   "source": [
    "df_diff = df_s.diff(1)\n",
    "ma_diff = df_diff.rolling(12).mean()\n",
    "\n",
    "std_diff = df_diff.rolling(12).std()\n",
    "\n",
    "\n",
    "f, ax = plt.subplots()\n",
    "df_diff.plot(ax=ax, legend=False)\n",
    "ma_diff.plot(ax=ax, legend=False, color='r')\n",
    "std_diff.plot(ax=ax, legend=False, color='g')\n",
    "plt.tight_layout()\n",
    "\n",
    "X_diff = df_diff.dropna().values\n",
    "result_diff = adfuller(X_diff)\n",
    "\n",
    "print(\"Teste ADF\")\n",
    "print(f\"Teste Estatístico: {result_diff[0]}\")\n",
    "print(f\"P-Value: {result_diff[1]}\")\n",
    "print(\"Valores críticos:\")\n",
    "\n",
    "for key, value in result_diff[4].items():\n",
    "  print(f\"\\t{key}: {value}\")"
   ]
  },
  {
   "cell_type": "code",
   "execution_count": 0,
   "metadata": {
    "application/vnd.databricks.v1+cell": {
     "cellMetadata": {
      "byteLimit": 2048000,
      "rowLimit": 10000
     },
     "inputWidgets": {},
     "nuid": "84f5912b-0c6b-4a64-a96e-0acdbbf1949b",
     "showTitle": false,
     "tableResultSettingsMap": {},
     "title": ""
    }
   },
   "outputs": [],
   "source": [
    "lag_acf = acf(df_diff.dropna(), nlags=25)\n",
    "lag_pacf = pacf(df_diff.dropna(), nlags=25)"
   ]
  },
  {
   "cell_type": "code",
   "execution_count": 0,
   "metadata": {
    "application/vnd.databricks.v1+cell": {
     "cellMetadata": {
      "byteLimit": 2048000,
      "rowLimit": 10000
     },
     "inputWidgets": {},
     "nuid": "efc66800-483c-43be-9553-13549d001674",
     "showTitle": false,
     "tableResultSettingsMap": {},
     "title": ""
    }
   },
   "outputs": [],
   "source": [
    "plt.plot(lag_acf)\n",
    "\n",
    "plt.axhline(y= -1.96/(np.sqrt((len(df_diff) -1))), linestyle='--', color='gray',linewidth=0.7)\n",
    "plt.axhline(y=0, linestyle='--', color='gray',linewidth=0.7)\n",
    "plt.axhline(y= 1.96/(np.sqrt((len(df_diff) -1))), linestyle='--', color='gray',linewidth=0.7)\n",
    "\n",
    "plt.title(\"ACF\")\n",
    "plt.show()\n",
    "\n",
    "plt.plot(lag_pacf)\n",
    "\n",
    "plt.axhline(y= -1.96/(np.sqrt((len(df_diff) -1))), linestyle='--', color='gray',linewidth=0.7)\n",
    "plt.axhline(y=0, linestyle='--', color='gray',linewidth=0.7)\n",
    "plt.axhline(y= 1.96/(np.sqrt((len(df_diff) -1))), linestyle='--', color='gray',linewidth=0.7)\n",
    "\n",
    "plt.title(\"PACF\")\n",
    "plt.show()"
   ]
  },
  {
   "cell_type": "code",
   "execution_count": 0,
   "metadata": {
    "application/vnd.databricks.v1+cell": {
     "cellMetadata": {
      "byteLimit": 2048000,
      "rowLimit": 10000
     },
     "inputWidgets": {},
     "nuid": "0058fbfe-b05d-4ba9-8052-dded893f6600",
     "showTitle": false,
     "tableResultSettingsMap": {},
     "title": ""
    }
   },
   "outputs": [],
   "source": [
    "# Verifica ACF e PACF\n",
    "fig, (ax1, ax2) = plt.subplots(2, 1, figsize=(15, 12))\n",
    "\n",
    "# ACF\n",
    "acf_plot = plot_acf(df_bovespa_index['close'], ax=ax1, lags=50)\n",
    "ax1.set_title(\"Autocorrelação (ACF)\")\n",
    "ax1.set_ylabel(\"Correlação\")\n",
    "ax1.set_xlabel(\"Defasagem\")\n",
    "\n",
    "# PACF\n",
    "pacf_plot = plot_pacf(df_bovespa_index['close'], ax=ax2, lags=50)\n",
    "ax2.set_title(\"Autocorrelação Parcial (PACF)\")\n",
    "ax2.set_ylabel(\"Correlação\")\n",
    "ax2.set_xlabel(\"Defasagem\")\n",
    "\n",
    "plt.tight_layout()"
   ]
  },
  {
   "cell_type": "code",
   "execution_count": 0,
   "metadata": {
    "application/vnd.databricks.v1+cell": {
     "cellMetadata": {
      "byteLimit": 2048000,
      "rowLimit": 10000
     },
     "inputWidgets": {},
     "nuid": "5ee4b93b-4704-4740-8c0c-d5994beacc33",
     "showTitle": false,
     "tableResultSettingsMap": {},
     "title": ""
    }
   },
   "outputs": [],
   "source": [
    "\n",
    "df_bovespa_index['Data'] = pd.to_datetime(df_bovespa_index.index, format='%d.%m.%Y', dayfirst=True)\n",
    "df_bovespa_index['Dia'] = df_bovespa_index['Data'].dt.day\n",
    "df_bovespa_index['Mês'] = df_bovespa_index['Data'].dt.month\n",
    "df_bovespa_index['Ano'] = df_bovespa_index['Data'].dt.year\n",
    "df_bovespa_index['Trimestre'] = df_bovespa_index['Data'].dt.quarter\n",
    "df_bovespa_index['Dia_da_Semana'] = df_bovespa_index['Data'].dt.dayofweek\n",
    "df_bovespa_index['Fim_de_Semana'] = df_bovespa_index['Dia_da_Semana'].apply(lambda x: 1 if x >= 5 else 0)"
   ]
  },
  {
   "cell_type": "code",
   "execution_count": 0,
   "metadata": {
    "application/vnd.databricks.v1+cell": {
     "cellMetadata": {
      "byteLimit": 2048000,
      "rowLimit": 10000
     },
     "inputWidgets": {},
     "nuid": "5af8e0d9-2dcb-4bdc-aa9b-e8b8c282a239",
     "showTitle": false,
     "tableResultSettingsMap": {},
     "title": ""
    }
   },
   "outputs": [],
   "source": [
    "# Criação de lags: Lags são valores defasados de uma série temporal, ou seja, os valores anteriores a um ponto no tempo. Eles são usados para capturar dependências temporais nos dados. \n",
    "# Na modelagem de séries temporais, os lags ajudam a prever o valor atual com base nos valores passados. \n",
    "\n",
    "df_bovespa_index['Lag_1'] = df_bovespa_index['close'].shift(1)  # shift() desloca a série temporal em n períodos, criando novas colunas.\n",
    "df_bovespa_index['Lag_5'] = df_bovespa_index['close'].shift(5)\n",
    "df_bovespa_index['Lag_10'] = df_bovespa_index['close'].shift(10)\n",
    "\n",
    "# Criação de médias móveis\n",
    "\n",
    "df_bovespa_index['MA_5'] = df_bovespa_index['close'].rolling(window=5).mean()\n",
    "df_bovespa_index['MA_10'] = df_bovespa_index['close'].rolling(window=10).mean()\n",
    "df_bovespa_index['MA_20'] = df_bovespa_index['close'].rolling(window=20).mean()"
   ]
  },
  {
   "cell_type": "code",
   "execution_count": 0,
   "metadata": {
    "application/vnd.databricks.v1+cell": {
     "cellMetadata": {
      "byteLimit": 2048000,
      "rowLimit": 10000
     },
     "inputWidgets": {},
     "nuid": "cc74bcbd-d40b-4f2b-a5fa-9b9d9d859467",
     "showTitle": false,
     "tableResultSettingsMap": {},
     "title": ""
    }
   },
   "outputs": [],
   "source": [
    "# Média Móvel Exponencial\n",
    "df_bovespa_index['EMA_10'] = df_bovespa_index['close'].ewm(span=10, adjust=False).mean()\n",
    "df_bovespa_index['EMA_20'] = df_bovespa_index['close'].ewm(span=20, adjust=False).mean()"
   ]
  },
  {
   "cell_type": "code",
   "execution_count": 0,
   "metadata": {
    "application/vnd.databricks.v1+cell": {
     "cellMetadata": {
      "byteLimit": 2048000,
      "rowLimit": 10000
     },
     "inputWidgets": {},
     "nuid": "419f9b98-f6f9-4c81-8b70-e550c203e43d",
     "showTitle": false,
     "tableResultSettingsMap": {},
     "title": ""
    }
   },
   "outputs": [],
   "source": [
    "def calcular_RSI(data, window):\n",
    "    delta = data.diff(1) # diff(1): Calcula a diferença entre o preço atual e o preço anterior\n",
    "    gain = delta.where(delta > 0, 0) # Mantém as diferenças positivas e define as negativas como 0.\n",
    "    loss = -delta.where(delta < 0, 0) # Mantém as diferenças negativas (como valores positivos) e define as positivas como 0.\n",
    "    \n",
    "    avg_gain = gain.rolling(window=window, min_periods=1).mean() # Calcula a média móvel dos ganhos e perdas.\n",
    "    avg_loss = loss.rolling(window=window, min_periods=1).mean()\n",
    "    \n",
    "    rs = avg_gain / avg_loss # Relativa Força: ratio de ganho médio para perda média\n",
    "    rsi = 100 - (100 / (1 + rs))\n",
    "    return rsi"
   ]
  },
  {
   "cell_type": "code",
   "execution_count": 0,
   "metadata": {
    "application/vnd.databricks.v1+cell": {
     "cellMetadata": {
      "byteLimit": 2048000,
      "rowLimit": 10000
     },
     "inputWidgets": {},
     "nuid": "09285bca-d7c5-4792-8152-03d577388c62",
     "showTitle": false,
     "tableResultSettingsMap": {},
     "title": ""
    }
   },
   "outputs": [],
   "source": [
    "df_bovespa_index['RSI_14'] = calcular_RSI(df_bovespa_index['close'], 14)"
   ]
  },
  {
   "cell_type": "code",
   "execution_count": 0,
   "metadata": {
    "application/vnd.databricks.v1+cell": {
     "cellMetadata": {
      "byteLimit": 2048000,
      "rowLimit": 10000
     },
     "inputWidgets": {},
     "nuid": "5d6e5674-9014-4433-8221-fe76b6c3f05f",
     "showTitle": false,
     "tableResultSettingsMap": {},
     "title": ""
    }
   },
   "outputs": [],
   "source": [
    "df_bovespa_index.head()"
   ]
  },
  {
   "cell_type": "code",
   "execution_count": 0,
   "metadata": {
    "application/vnd.databricks.v1+cell": {
     "cellMetadata": {
      "byteLimit": 2048000,
      "rowLimit": 10000
     },
     "inputWidgets": {},
     "nuid": "87ba35cb-09c2-41e0-b3d0-ef51b1f26a30",
     "showTitle": false,
     "tableResultSettingsMap": {},
     "title": ""
    }
   },
   "outputs": [],
   "source": [
    "plt.figure(figsize=(14, 7))\n",
    "\n",
    "# Preço de fechamento\n",
    "plt.subplot(2, 1, 1)\n",
    "plt.plot(df_bovespa_index['close'], label='Fechamento')\n",
    "plt.title('Preço de Fechamento')\n",
    "plt.xlabel('Data')\n",
    "plt.ylabel('Preço')\n",
    "plt.legend()\n",
    "\n",
    "# RSI\n",
    "plt.subplot(2, 1, 2)\n",
    "plt.plot(df_bovespa_index['RSI_14'], label='RSI 14', color='orange')\n",
    "plt.axhline(y=70, color='red', linestyle='--', label='Sobrecompra (70)')\n",
    "plt.axhline(y=30, color='green', linestyle='--', label='Sobrevenda (30)')\n",
    "plt.title('Índice de Força Relativa (RSI)')\n",
    "plt.xlabel('Data')\n",
    "plt.ylabel('RSI')\n",
    "plt.legend()\n",
    "\n",
    "plt.tight_layout()\n",
    "plt.show()"
   ]
  },
  {
   "cell_type": "code",
   "execution_count": 0,
   "metadata": {
    "application/vnd.databricks.v1+cell": {
     "cellMetadata": {
      "byteLimit": 2048000,
      "rowLimit": 10000
     },
     "inputWidgets": {},
     "nuid": "fa6ec6da-5e8b-486c-b660-2a5c938706b9",
     "showTitle": false,
     "tableResultSettingsMap": {},
     "title": ""
    }
   },
   "outputs": [],
   "source": [
    "\n",
    "def calcular_bollinger_bands(data, window):\n",
    "    MA = data.rolling(window=window).mean() # Calcula a média móvel simples.\n",
    "    std = data.rolling(window=window).std() # Calcula o desvio padrão móvel\n",
    "    upper_band = MA + (std * 2)\n",
    "    lower_band = MA - (std * 2)\n",
    "    return upper_band, lower_band\n"
   ]
  },
  {
   "cell_type": "code",
   "execution_count": 0,
   "metadata": {
    "application/vnd.databricks.v1+cell": {
     "cellMetadata": {
      "byteLimit": 2048000,
      "rowLimit": 10000
     },
     "inputWidgets": {},
     "nuid": "bd569613-1736-451b-97d9-e8abd2be2850",
     "showTitle": false,
     "tableResultSettingsMap": {},
     "title": ""
    }
   },
   "outputs": [],
   "source": [
    "df_bovespa_index['Upper_BB'], df_bovespa_index['Lower_BB'] = calcular_bollinger_bands(df_bovespa_index['close'], 20)"
   ]
  },
  {
   "cell_type": "code",
   "execution_count": 0,
   "metadata": {
    "application/vnd.databricks.v1+cell": {
     "cellMetadata": {
      "byteLimit": 2048000,
      "rowLimit": 10000
     },
     "inputWidgets": {},
     "nuid": "563eccf9-f4cd-4ff0-9f4f-a2fbca8f4466",
     "showTitle": false,
     "tableResultSettingsMap": {},
     "title": ""
    }
   },
   "outputs": [],
   "source": [
    "plt.figure(figsize=(14, 7))\n",
    "plt.plot(df_bovespa_index['close'], label='Fechamento')\n",
    "plt.plot(df_bovespa_index['Upper_BB'], label='Banda Superior', linestyle='--')\n",
    "plt.plot(df_bovespa_index['Lower_BB'], label='Banda Inferior', linestyle='--')\n",
    "plt.fill_between(df_bovespa_index.index, df_bovespa_index['Upper_BB'], df_bovespa_index['Lower_BB'], color='gray', alpha=0.2)\n",
    "plt.title('Fechamento Diário e Bandas de Bollinger')\n",
    "plt.xlabel('Data')\n",
    "plt.ylabel('Preço')\n",
    "plt.legend()\n",
    "plt.show()\n",
    "\n",
    "# As Bandas de Bollinger fornecem uma faixa de preço dentro da qual o ativo geralmente oscila, ajudando a identificar pontos de sobrecompra e sobrevenda. \n",
    "# Quando o preço se aproxima ou ultrapassa as bandas, pode sinalizar uma possível reversão ou continuação da tendência."
   ]
  },
  {
   "cell_type": "code",
   "execution_count": 0,
   "metadata": {
    "application/vnd.databricks.v1+cell": {
     "cellMetadata": {
      "byteLimit": 2048000,
      "rowLimit": 10000
     },
     "inputWidgets": {},
     "nuid": "6e47762d-bc76-48ae-99ef-d8c884096bf1",
     "showTitle": false,
     "tableResultSettingsMap": {},
     "title": ""
    }
   },
   "outputs": [],
   "source": [
    "df_bovespa_index['var'] = df_bovespa_index['close'].pct_change() * 100 # Calcula a mudança percentual entre o preço atual e o preço anterior.\n",
    "\n",
    "# A variação percentual diária mostra a mudança percentual no preço de fechamento de um dia para o próximo. É útil para medir a amplitude das mudanças diárias."
   ]
  },
  {
   "cell_type": "code",
   "execution_count": 0,
   "metadata": {
    "application/vnd.databricks.v1+cell": {
     "cellMetadata": {
      "byteLimit": 2048000,
      "rowLimit": 10000
     },
     "inputWidgets": {},
     "nuid": "d8c70d5b-56b0-499f-81e1-15b896f5e96d",
     "showTitle": false,
     "tableResultSettingsMap": {},
     "title": ""
    }
   },
   "outputs": [],
   "source": [
    "df_bovespa_index['Volatilidade_10'] = df_bovespa_index['var'].rolling(window=10).std() # Calcula o desvio padrão móvel para os últimos 10 dias, representando a volatilidade.\n",
    "df_bovespa_index['Volatilidade_20'] = df_bovespa_index['var'].rolling(window=20).std()\n",
    "\n",
    "# A volatilidade mede a variação do preço de um ativo ao longo do tempo. Ela indica o quão estável ou instável é o preço do ativo. Altos valores de volatilidade significam grandes \n",
    "# flutuações no preço, enquanto baixos valores indicam flutuações menores.\n"
   ]
  },
  {
   "cell_type": "code",
   "execution_count": 0,
   "metadata": {
    "application/vnd.databricks.v1+cell": {
     "cellMetadata": {
      "byteLimit": 2048000,
      "rowLimit": 10000
     },
     "inputWidgets": {},
     "nuid": "e3864aab-0a2d-4e3c-8bc7-741aa17146c5",
     "showTitle": false,
     "tableResultSettingsMap": {},
     "title": ""
    }
   },
   "outputs": [],
   "source": [
    "plt.figure(figsize=(14, 7))\n",
    "plt.plot(df_bovespa_index['var'], label='Variação Percentual Diária')\n",
    "plt.title('Variação Percentual Diária')\n",
    "plt.xlabel('Data')\n",
    "plt.ylabel('Variação (%)')\n",
    "plt.legend()\n",
    "plt.show()\n"
   ]
  },
  {
   "cell_type": "code",
   "execution_count": 0,
   "metadata": {
    "application/vnd.databricks.v1+cell": {
     "cellMetadata": {
      "byteLimit": 2048000,
      "rowLimit": 10000
     },
     "inputWidgets": {},
     "nuid": "2231ebfb-0274-40e2-8777-7c29cd0f4ad4",
     "showTitle": false,
     "tableResultSettingsMap": {},
     "title": ""
    }
   },
   "outputs": [],
   "source": [
    "plt.figure(figsize=(14, 7))\n",
    "\n",
    "# Volatilidade de 10 dias\n",
    "plt.subplot(2, 1, 1)\n",
    "plt.plot(df_bovespa_index['Volatilidade_10'], label='Volatilidade 10 dias', color='blue')\n",
    "plt.title('Volatilidade de 10 dias')\n",
    "plt.xlabel('Data')\n",
    "plt.ylabel('Volatilidade')\n",
    "plt.legend()\n",
    "\n",
    "# Volatilidade de 20 dias\n",
    "plt.subplot(2, 1, 2)\n",
    "plt.plot(df_bovespa_index['Volatilidade_20'], label='Volatilidade 20 dias', color='red')\n",
    "plt.title('Volatilidade de 20 dias')\n",
    "plt.xlabel('Data')\n",
    "plt.ylabel('Volatilidade')\n",
    "plt.legend()\n",
    "\n",
    "plt.tight_layout()\n",
    "plt.show()"
   ]
  },
  {
   "cell_type": "code",
   "execution_count": 0,
   "metadata": {
    "application/vnd.databricks.v1+cell": {
     "cellMetadata": {
      "byteLimit": 2048000,
      "rowLimit": 10000
     },
     "inputWidgets": {},
     "nuid": "b947d000-c343-41f3-89dc-14661317442d",
     "showTitle": false,
     "tableResultSettingsMap": {},
     "title": ""
    }
   },
   "outputs": [],
   "source": [
    "df_bovespa_index = df_bovespa_index.dropna()"
   ]
  },
  {
   "cell_type": "code",
   "execution_count": 0,
   "metadata": {
    "application/vnd.databricks.v1+cell": {
     "cellMetadata": {
      "byteLimit": 2048000,
      "rowLimit": 10000
     },
     "inputWidgets": {},
     "nuid": "461028c5-7dd5-4ae4-b74d-38b7d70a79f3",
     "showTitle": false,
     "tableResultSettingsMap": {},
     "title": ""
    }
   },
   "outputs": [],
   "source": [
    "df_bovespa_index.head()"
   ]
  },
  {
   "cell_type": "code",
   "execution_count": 0,
   "metadata": {
    "application/vnd.databricks.v1+cell": {
     "cellMetadata": {
      "byteLimit": 2048000,
      "rowLimit": 10000
     },
     "inputWidgets": {},
     "nuid": "bc255ee5-5c27-4706-96a3-5b0ba388c205",
     "showTitle": false,
     "tableResultSettingsMap": {},
     "title": ""
    }
   },
   "outputs": [],
   "source": [
    "# Criar a variavel Target (Alvo) --> 1 para sobe e 0 para desce \n",
    "# Avaliamos o valor atual com o valor do proximo dia e dessa forma conseguimos definir se o dia seguinte subiu (1) ou desceu (0)\n",
    "\n",
    "df_bovespa_index['target'] = (df_bovespa_index[\"close\"].shift(-1) > df_bovespa_index[\"close\"]).astype(int)\n",
    "df_bovespa_index.tail()"
   ]
  },
  {
   "cell_type": "code",
   "execution_count": 0,
   "metadata": {
    "application/vnd.databricks.v1+cell": {
     "cellMetadata": {
      "byteLimit": 2048000,
      "rowLimit": 10000
     },
     "inputWidgets": {},
     "nuid": "0042dd96-37d1-4ae3-a20c-ee1cb8c9d20c",
     "showTitle": false,
     "tableResultSettingsMap": {},
     "title": ""
    }
   },
   "outputs": [],
   "source": [
    "# Copia base de dados para treinar modelos\n",
    "df_bovespa_index_1 = df_bovespa_index.copy()"
   ]
  },
  {
   "cell_type": "markdown",
   "metadata": {
    "application/vnd.databricks.v1+cell": {
     "cellMetadata": {},
     "inputWidgets": {},
     "nuid": "ab28ce36-1c08-45ae-9937-bf6d1e6d74e8",
     "showTitle": false,
     "tableResultSettingsMap": {},
     "title": ""
    }
   },
   "source": [
    "# Treinamento dos Modelos:\n"
   ]
  },
  {
   "cell_type": "markdown",
   "metadata": {
    "application/vnd.databricks.v1+cell": {
     "cellMetadata": {},
     "inputWidgets": {},
     "nuid": "5ae606c6-36bf-48ef-a0fc-f5bc0bf88646",
     "showTitle": false,
     "tableResultSettingsMap": {},
     "title": ""
    }
   },
   "source": [
    "# Modelos de séries temporais"
   ]
  },
  {
   "cell_type": "code",
   "execution_count": 0,
   "metadata": {
    "application/vnd.databricks.v1+cell": {
     "cellMetadata": {
      "byteLimit": 2048000,
      "rowLimit": 10000
     },
     "inputWidgets": {},
     "nuid": "6e8c5d9f-2288-4121-8146-8889fd4ced47",
     "showTitle": false,
     "tableResultSettingsMap": {},
     "title": ""
    }
   },
   "outputs": [],
   "source": [
    "# DF para modelos de séries temporais\n",
    "df_bovespa_series_temp = df_bovespa_index_1[['ds', 'close']].copy()"
   ]
  },
  {
   "cell_type": "code",
   "execution_count": 0,
   "metadata": {
    "application/vnd.databricks.v1+cell": {
     "cellMetadata": {
      "byteLimit": 2048000,
      "rowLimit": 10000
     },
     "inputWidgets": {},
     "nuid": "7c44be1b-6659-4646-a34c-2208af6f789e",
     "showTitle": false,
     "tableResultSettingsMap": {},
     "title": ""
    }
   },
   "outputs": [],
   "source": [
    "df_bovespa_series_temp.head()"
   ]
  },
  {
   "cell_type": "code",
   "execution_count": 0,
   "metadata": {
    "application/vnd.databricks.v1+cell": {
     "cellMetadata": {
      "byteLimit": 2048000,
      "rowLimit": 10000
     },
     "inputWidgets": {},
     "nuid": "3b494634-40af-4781-a731-f0d093884fe3",
     "showTitle": false,
     "tableResultSettingsMap": {},
     "title": ""
    }
   },
   "outputs": [],
   "source": [
    "\n",
    "df_bovespa_series_temp['unique_id'] = 'serie_unica'\n",
    "df_bovespa_series_temp=df_bovespa_series_temp.rename(columns={'close':'y'})\n",
    "df_bovespa_series_temp.head()"
   ]
  },
  {
   "cell_type": "code",
   "execution_count": 0,
   "metadata": {
    "application/vnd.databricks.v1+cell": {
     "cellMetadata": {
      "byteLimit": 2048000,
      "rowLimit": 10000
     },
     "inputWidgets": {},
     "nuid": "af1374f0-dd83-410c-a47c-1695b2a58e7f",
     "showTitle": false,
     "tableResultSettingsMap": {},
     "title": ""
    }
   },
   "outputs": [],
   "source": [
    "df_bovespa_series_temp = df_bovespa_series_temp.dropna()"
   ]
  },
  {
   "cell_type": "code",
   "execution_count": 0,
   "metadata": {
    "application/vnd.databricks.v1+cell": {
     "cellMetadata": {
      "byteLimit": 2048000,
      "rowLimit": 10000
     },
     "inputWidgets": {},
     "nuid": "e0deb1ca-3acf-498a-bdc6-00a972397686",
     "showTitle": false,
     "tableResultSettingsMap": {},
     "title": ""
    }
   },
   "outputs": [],
   "source": [
    "treino = df_bovespa_series_temp.loc[df_bovespa_series_temp['ds'] < '2025-06-04']\n",
    "valid = df_bovespa_series_temp.loc[(df_bovespa_series_temp['ds'] >= '2025-06-04') & (df_bovespa_series_temp['ds'] < '2025-07-17')]\n",
    "h = valid['ds'].nunique()"
   ]
  },
  {
   "cell_type": "code",
   "execution_count": 0,
   "metadata": {
    "application/vnd.databricks.v1+cell": {
     "cellMetadata": {
      "byteLimit": 2048000,
      "rowLimit": 10000
     },
     "inputWidgets": {},
     "nuid": "4ac3a0b6-0019-40f3-afc6-3892ba03a769",
     "showTitle": false,
     "tableResultSettingsMap": {},
     "title": ""
    }
   },
   "outputs": [],
   "source": [
    "h"
   ]
  },
  {
   "cell_type": "code",
   "execution_count": 0,
   "metadata": {
    "application/vnd.databricks.v1+cell": {
     "cellMetadata": {
      "byteLimit": 2048000,
      "rowLimit": 10000
     },
     "inputWidgets": {},
     "nuid": "7562f040-6cc0-4c58-aa75-cb63a8cbfc0f",
     "showTitle": false,
     "tableResultSettingsMap": {},
     "title": ""
    }
   },
   "outputs": [],
   "source": [
    "def wmape(y_true, y_pred):\n",
    "    return np.abs(y_true-y_pred).sum() / np.abs(y_true).sum()"
   ]
  },
  {
   "cell_type": "markdown",
   "metadata": {
    "application/vnd.databricks.v1+cell": {
     "cellMetadata": {},
     "inputWidgets": {},
     "nuid": "68398907-b106-4f89-9539-4828d405d747",
     "showTitle": false,
     "tableResultSettingsMap": {},
     "title": ""
    }
   },
   "source": [
    "## Naive"
   ]
  },
  {
   "cell_type": "code",
   "execution_count": 0,
   "metadata": {
    "application/vnd.databricks.v1+cell": {
     "cellMetadata": {
      "byteLimit": 2048000,
      "rowLimit": 10000
     },
     "inputWidgets": {},
     "nuid": "28d8847a-a1d8-4210-b766-fcfbea16b2e4",
     "showTitle": false,
     "tableResultSettingsMap": {},
     "title": ""
    }
   },
   "outputs": [],
   "source": [
    "treino.tail()"
   ]
  },
  {
   "cell_type": "code",
   "execution_count": 0,
   "metadata": {
    "application/vnd.databricks.v1+cell": {
     "cellMetadata": {
      "byteLimit": 2048000,
      "rowLimit": 10000
     },
     "inputWidgets": {},
     "nuid": "7acbe498-3f7f-4937-95f8-49f2ae09ece4",
     "showTitle": false,
     "tableResultSettingsMap": {},
     "title": ""
    }
   },
   "outputs": [],
   "source": [
    "\n",
    "model = StatsForecast(models=[Naive()], freq='D', n_jobs=-1)\n",
    "model.fit(treino)\n",
    "\n",
    "forecast_df = model.predict(h=h, level=[90])\n",
    "forecast_df = forecast_df.reset_index(drop=True).merge(valid, on=['ds', 'unique_id'], how='left')\n",
    "forecast_df = forecast_df.dropna(subset=['y'])  # remove onde y é NaN\n",
    "\n",
    "\n",
    "wmape1 = wmape(forecast_df['y'].values, forecast_df['Naive'].values)\n",
    "print(f\"WMAPE: {wmape1:.2%}\")\n",
    "print(f'Percentual de acerto {1- wmape1:.2%}')\n",
    "\n",
    "model.plot(treino, forecast_df, level=[90], engine ='matplotlib', max_insample_length=90)\n"
   ]
  },
  {
   "cell_type": "markdown",
   "metadata": {
    "application/vnd.databricks.v1+cell": {
     "cellMetadata": {},
     "inputWidgets": {},
     "nuid": "317b6d83-6a8b-4a25-a83d-11a110acc3c1",
     "showTitle": false,
     "tableResultSettingsMap": {},
     "title": ""
    }
   },
   "source": [
    "## Arima\n"
   ]
  },
  {
   "cell_type": "code",
   "execution_count": 0,
   "metadata": {
    "application/vnd.databricks.v1+cell": {
     "cellMetadata": {
      "byteLimit": 2048000,
      "rowLimit": 10000
     },
     "inputWidgets": {},
     "nuid": "0c9af572-3730-410c-a0b9-f93c12de3b81",
     "showTitle": false,
     "tableResultSettingsMap": {},
     "title": ""
    }
   },
   "outputs": [],
   "source": [
    "model_a = StatsForecast(models=[AutoARIMA(season_length=7)], freq='D', n_jobs=-1)\n",
    "model_a.fit(treino)\n",
    "\n",
    "forecast_arima = model_a.predict(h=h, level=[90])\n",
    "forecast_arima = forecast_arima.reset_index(drop=True).merge(valid, on=['ds', 'unique_id'], how='inner')\n",
    "\n",
    "wmape_arima = wmape(forecast_arima['y'].values, forecast_arima['AutoARIMA'].values)\n",
    "print(f'wmape: {wmape_arima:.2%}')\n",
    "print(f'Percentual de acerto {1- wmape_arima:.2%}')\n",
    "\n",
    "model_a.plot(treino, forecast_arima, level=[90], engine ='matplotlib', max_insample_length=90)"
   ]
  },
  {
   "cell_type": "markdown",
   "metadata": {
    "application/vnd.databricks.v1+cell": {
     "cellMetadata": {
      "byteLimit": 2048000,
      "rowLimit": 10000
     },
     "inputWidgets": {},
     "nuid": "ad0a5109-5044-406e-a034-ad5c5ac4fa78",
     "showTitle": false,
     "tableResultSettingsMap": {},
     "title": ""
    }
   },
   "source": [
    "## SeasonalNaive"
   ]
  },
  {
   "cell_type": "code",
   "execution_count": 0,
   "metadata": {
    "application/vnd.databricks.v1+cell": {
     "cellMetadata": {
      "byteLimit": 2048000,
      "rowLimit": 10000
     },
     "inputWidgets": {},
     "nuid": "226701e8-1cb7-4f11-a179-f10a16799050",
     "showTitle": false,
     "tableResultSettingsMap": {},
     "title": ""
    }
   },
   "outputs": [],
   "source": [
    "model_s = StatsForecast(models=[SeasonalNaive(season_length=7)], freq='D', n_jobs=-1)\n",
    "model_s.fit(treino)\n",
    "\n",
    "forecast_dfs = model_s.predict(h=h, level=[90])\n",
    "forecast_dfs = forecast_dfs.reset_index(drop=True).merge(valid, on=['ds', 'unique_id'], how='inner')\n",
    "\n",
    "wmape2 = wmape(forecast_dfs['y'].values, forecast_dfs['SeasonalNaive'].values)\n",
    "print(f\"WMAPE: {wmape2:.2%}\")\n",
    "print(f'Percentual de acerto {1- wmape2:.2%}')\n",
    "\n",
    "model_s.plot(treino, forecast_dfs, level=[90],engine ='matplotlib', max_insample_length=90)"
   ]
  },
  {
   "cell_type": "markdown",
   "metadata": {
    "application/vnd.databricks.v1+cell": {
     "cellMetadata": {},
     "inputWidgets": {},
     "nuid": "48cde13b-9538-4a95-b561-a1f608a0ab77",
     "showTitle": false,
     "tableResultSettingsMap": {},
     "title": ""
    }
   },
   "source": [
    "## SeasonalWindowAverage"
   ]
  },
  {
   "cell_type": "code",
   "execution_count": 0,
   "metadata": {
    "application/vnd.databricks.v1+cell": {
     "cellMetadata": {
      "byteLimit": 2048000,
      "rowLimit": 10000
     },
     "inputWidgets": {},
     "nuid": "9f808847-1003-43ad-b03b-24a7c9d7298a",
     "showTitle": false,
     "tableResultSettingsMap": {},
     "title": ""
    }
   },
   "outputs": [],
   "source": [
    "intervals = ConformalIntervals(h=h, n_windows=2)\n",
    "\n",
    "model_sm = StatsForecast(models=[SeasonalWindowAverage(season_length=7, window_size=2, prediction_intervals=intervals)], freq='D', n_jobs=-1)\n",
    "model_sm.fit(treino)\n",
    "\n",
    "forecast_dfsm = model_sm.predict(h=h, level=[90])\n",
    "forecast_dfsm = forecast_dfsm.reset_index(drop=True).merge(valid, on=['ds', 'unique_id'], how='inner')\n",
    "\n",
    "wmape3 = wmape(forecast_dfsm['y'].values, forecast_dfsm['SeasWA'].values)\n",
    "print(f\"WMAPE: {wmape3:.2%}\")\n",
    "print(f'Percentual de acerto {1- wmape3:.2%}')\n",
    "\n",
    "model_sm.plot(treino, forecast_dfsm, level=[90], engine='matplotlib', max_insample_length=90)"
   ]
  },
  {
   "cell_type": "markdown",
   "metadata": {
    "application/vnd.databricks.v1+cell": {
     "cellMetadata": {},
     "inputWidgets": {},
     "nuid": "c87c29fc-4d2a-4269-87cf-d4ca0b0f027a",
     "showTitle": false,
     "tableResultSettingsMap": {},
     "title": ""
    }
   },
   "source": [
    "# Demais modelos"
   ]
  },
  {
   "cell_type": "code",
   "execution_count": 0,
   "metadata": {
    "application/vnd.databricks.v1+cell": {
     "cellMetadata": {
      "byteLimit": 2048000,
      "rowLimit": 10000
     },
     "inputWidgets": {},
     "nuid": "21f9ed28-5d61-4403-a8a2-e7b1bd60c726",
     "showTitle": false,
     "tableResultSettingsMap": {},
     "title": ""
    }
   },
   "outputs": [],
   "source": [
    "# DF para demais modelos\n",
    "df_bovespa_model = df_bovespa_index.copy()"
   ]
  },
  {
   "cell_type": "code",
   "execution_count": 0,
   "metadata": {
    "application/vnd.databricks.v1+cell": {
     "cellMetadata": {
      "byteLimit": 2048000,
      "rowLimit": 10000
     },
     "inputWidgets": {},
     "nuid": "380590a7-b536-4d7f-b4b5-31eb7dca5e3f",
     "showTitle": false,
     "tableResultSettingsMap": {},
     "title": ""
    }
   },
   "outputs": [],
   "source": [
    "df_bovespa_model.head()"
   ]
  },
  {
   "cell_type": "code",
   "execution_count": 0,
   "metadata": {
    "application/vnd.databricks.v1+cell": {
     "cellMetadata": {
      "byteLimit": 2048000,
      "rowLimit": 10000
     },
     "inputWidgets": {},
     "nuid": "3392005b-e19a-4c6f-87de-b0993a0c9fb8",
     "showTitle": false,
     "tableResultSettingsMap": {},
     "title": ""
    }
   },
   "outputs": [],
   "source": [
    "# Separa os dados para treino e teste \n",
    "\n",
    "lista = [\"ds\",\"open\", \"high\", \"low\",\"target\", \"vol\", \"var\", \"anual_dias\", \"Data\", \"Dia\", \"Mês\", \"Ano\", \"Trimestre\", \"Dia_da_Semana\", \"Fim_de_Semana\"]\n",
    "\n",
    "x = df_bovespa_model.drop(columns=lista)\n",
    "y = df_bovespa_model[\"target\"].copy()\n",
    "\n",
    "print(\"Features (x):\")\n",
    "display(x.tail())\n",
    "\n",
    "print(\"\\nAlvo (y):\")\n",
    "display(y.tail())"
   ]
  },
  {
   "cell_type": "code",
   "execution_count": 0,
   "metadata": {
    "application/vnd.databricks.v1+cell": {
     "cellMetadata": {
      "byteLimit": 2048000,
      "rowLimit": 10000
     },
     "inputWidgets": {},
     "nuid": "97b543b9-5c6e-43f6-9583-b1d61b4cad47",
     "showTitle": false,
     "tableResultSettingsMap": {},
     "title": ""
    }
   },
   "outputs": [],
   "source": [
    "# Separa a base em treino e teste\n",
    "\n",
    "x_train = x[x.index < '2015-06-04']\n",
    "y_train = y[y.index < '2015-06-04']\n",
    "\n",
    "x_test = x[(x.index >= '2025-06-04') & (x.index < '2025-07-17')]\n",
    "y_test = y[(y.index >= '2025-06-04') & (y.index < '2025-07-17')]"
   ]
  },
  {
   "cell_type": "code",
   "execution_count": 0,
   "metadata": {
    "application/vnd.databricks.v1+cell": {
     "cellMetadata": {
      "byteLimit": 2048000,
      "rowLimit": 10000
     },
     "inputWidgets": {},
     "nuid": "1d4c7189-1735-47e3-9603-d9dbafd8af75",
     "showTitle": false,
     "tableResultSettingsMap": {},
     "title": ""
    }
   },
   "outputs": [],
   "source": [
    "# Prepara o TimeSeriesSplit\n",
    "\n",
    "tscv = TimeSeriesSplit(n_splits=5)"
   ]
  },
  {
   "cell_type": "code",
   "execution_count": 0,
   "metadata": {
    "application/vnd.databricks.v1+cell": {
     "cellMetadata": {
      "byteLimit": 2048000,
      "rowLimit": 10000
     },
     "inputWidgets": {},
     "nuid": "63028136-c33b-4331-bf62-c4bb3403c70e",
     "showTitle": false,
     "tableResultSettingsMap": {},
     "title": ""
    }
   },
   "outputs": [],
   "source": [
    "# Normaliza os dados\n",
    "\n",
    "scaler = StandardScaler()\n",
    "scaler.fit(x_train)\n",
    "\n",
    "x_train_scaled = scaler.transform(x_train)\n",
    "x_test_scaled = scaler.transform(x_test)"
   ]
  },
  {
   "cell_type": "code",
   "execution_count": 0,
   "metadata": {
    "application/vnd.databricks.v1+cell": {
     "cellMetadata": {
      "byteLimit": 2048000,
      "rowLimit": 10000
     },
     "inputWidgets": {},
     "nuid": "a6582eae-eb5d-4c9e-9028-9eb79a87a2d1",
     "showTitle": false,
     "tableResultSettingsMap": {},
     "title": ""
    }
   },
   "outputs": [],
   "source": [
    "# Regressao Logistica\n",
    "\n",
    "usar_grid = \"Não\"\n",
    "\n",
    "if usar_grid == \"Sim\":\n",
    "\n",
    "    pipe_lr = Pipeline(\n",
    "        [('scaler', StandardScaler()), ('clf', LogisticRegression(solver='liblinear'))]\n",
    "    )\n",
    "\n",
    "    param_grid_lr = {\n",
    "        'clf__C': np.logspace(-4, 3, 8),  # regularização\n",
    "        'clf__penalty': ['l1', 'l2'],  # tipo de penalização\n",
    "        'clf__solver': ['liblinear'],  # necessário para suportar l1\n",
    "    }\n",
    "\n",
    "    modelo_rl = GridSearchCV(pipe_lr, param_grid_lr, cv=tscv)\n",
    "    modelo_rl.fit(x_train, y_train)\n",
    "    modelo_rl = modelo_rl.predict(x_test)\n",
    "\n",
    "else: \n",
    "    modelo_rl = LogisticRegression(random_state=42)\n",
    "    modelo_rl.fit(x_train_scaled,y_train.ravel())\n",
    "    previsao_rl = modelo_rl.predict(x_test_scaled)"
   ]
  },
  {
   "cell_type": "code",
   "execution_count": 0,
   "metadata": {
    "application/vnd.databricks.v1+cell": {
     "cellMetadata": {
      "byteLimit": 2048000,
      "rowLimit": 10000
     },
     "inputWidgets": {},
     "nuid": "a1aa149b-e558-439d-b17d-eb2b17d9453a",
     "showTitle": false,
     "tableResultSettingsMap": {},
     "title": ""
    }
   },
   "outputs": [],
   "source": [
    "# Random Forest \n",
    "\n",
    "modelo_rf = RandomForestClassifier(n_estimators=100, random_state=42)\n",
    "modelo_rf.fit(x_train_scaled, y_train)\n",
    "previsao_rf = modelo_rf.predict(x_test_scaled)"
   ]
  },
  {
   "cell_type": "code",
   "execution_count": 0,
   "metadata": {
    "application/vnd.databricks.v1+cell": {
     "cellMetadata": {
      "byteLimit": 2048000,
      "rowLimit": 10000
     },
     "inputWidgets": {},
     "nuid": "7c00fca2-f63a-40fa-bca5-31b89b95bc27",
     "showTitle": false,
     "tableResultSettingsMap": {},
     "title": ""
    }
   },
   "outputs": [],
   "source": [
    "# XGBoost\n",
    "\n",
    "usar_grid = \"Não\"\n",
    "\n",
    "if usar_grid == \"Sim\":\n",
    "\n",
    "    pipe_xgb = Pipeline(\n",
    "        [\n",
    "            ('scaler', StandardScaler()),\n",
    "            ('clf', XGBClassifier()),\n",
    "        ]\n",
    "    )\n",
    "\n",
    "    param_grid_xgb = {\n",
    "        'clf__n_estimators': [50, 100, 200],  # número de árvores\n",
    "        'clf__max_depth': [3, 5, 7],  # profundidade da árvore\n",
    "        'clf__learning_rate': [0.01, 0.05, 0.1, 0.3],  # taxa de aprendizado\n",
    "        'clf__subsample': [0.6, 0.8, 1.0],  # fração das amostras usadas em cada árvore\n",
    "        'clf__colsample_bytree': [0.6, 0.8, 1.0],  # fração de colunas usadas por árvore\n",
    "        'clf__gamma': [0, 0.1, 0.5, 1.0],  # regularização mínima para divisão\n",
    "        'clf__reg_alpha': [0, 0.1, 1],  # L1 regularization\n",
    "        'clf__reg_lambda': [0.1, 1, 10],  # L2 regularization\n",
    "    }\n",
    "\n",
    "    modelo_xgb = RandomizedSearchCV(pipe_xgb, param_grid_xgb, cv=tscv)\n",
    "    modelo_xgb.fit(x_train, y_train)\n",
    "    previsao_xgb = modelo_xgb.predict(x_test)\n",
    "\n",
    "else:\n",
    "    modelo_xgb = XGBClassifier(random_state=42)\n",
    "    modelo_xgb.fit(x_train_scaled, y_train)\n",
    "    previsao_xgb = modelo_xgb.predict(x_test_scaled)"
   ]
  },
  {
   "cell_type": "code",
   "execution_count": 0,
   "metadata": {
    "application/vnd.databricks.v1+cell": {
     "cellMetadata": {
      "byteLimit": 2048000,
      "rowLimit": 10000
     },
     "inputWidgets": {},
     "nuid": "56c5e337-5c8c-489a-bdd6-208d98fdc8f8",
     "showTitle": false,
     "tableResultSettingsMap": {},
     "title": ""
    }
   },
   "outputs": [],
   "source": [
    "# LightGBM\n",
    "\n",
    "modelo_lgbm = LGBMClassifier(random_state=42, verbose = -1)\n",
    "modelo_lgbm.fit(x_train_scaled, y_train)\n",
    "\n",
    "#previsao_lgbm = modelo_lgbm.predict(x_test_scaled)\n",
    "previsao_lgbm = modelo_lgbm.predict(pd.DataFrame(x_test_scaled, columns=x_train.columns)) # --> Gerado o predict dessa forma para não gerar o Warning"
   ]
  },
  {
   "cell_type": "code",
   "execution_count": 0,
   "metadata": {
    "application/vnd.databricks.v1+cell": {
     "cellMetadata": {
      "byteLimit": 2048000,
      "rowLimit": 10000
     },
     "inputWidgets": {},
     "nuid": "9cc02bab-44e4-4d0c-a8db-8176f5b14c45",
     "showTitle": false,
     "tableResultSettingsMap": {},
     "title": ""
    }
   },
   "outputs": [],
   "source": [
    "# CatBoost\n",
    "\n",
    "modelo_cat = CatBoostClassifier(random_state=42, verbose=0)\n",
    "modelo_cat.fit(x_train_scaled, y_train)\n",
    "previsao_cat = modelo_cat.predict(x_test_scaled)\n"
   ]
  },
  {
   "cell_type": "code",
   "execution_count": 0,
   "metadata": {
    "application/vnd.databricks.v1+cell": {
     "cellMetadata": {
      "byteLimit": 2048000,
      "rowLimit": 10000
     },
     "inputWidgets": {},
     "nuid": "8ec8a8e5-e942-41c8-96f1-929fac26eb38",
     "showTitle": false,
     "tableResultSettingsMap": {},
     "title": ""
    }
   },
   "outputs": [],
   "source": [
    "# SVM \n",
    "\n",
    "modelo_svm = SVC(kernel='rbf', C=1.0, probability=True, random_state=42)\n",
    "modelo_svm.fit(x_train_scaled, y_train)\n",
    "previsao_svm = modelo_svm.predict(x_test_scaled)"
   ]
  },
  {
   "cell_type": "code",
   "execution_count": 0,
   "metadata": {
    "application/vnd.databricks.v1+cell": {
     "cellMetadata": {
      "byteLimit": 2048000,
      "rowLimit": 10000
     },
     "inputWidgets": {},
     "nuid": "1f5cdfba-c4f8-49da-92fe-fa1c23e6ad2f",
     "showTitle": false,
     "tableResultSettingsMap": {},
     "title": ""
    }
   },
   "outputs": [],
   "source": [
    "from sklearn.metrics import classification_report, accuracy_score\n",
    "import pandas as pd\n",
    "import numpy as np\n",
    "\n",
    "def converte_direcao_binaria(y_real, y_pred):\n",
    "    if len(y_real) <= 1 or len(y_pred) <= 1:\n",
    "        return None, None\n",
    "    \n",
    "    y_real_bin = (np.diff(y_real) > 0).astype(int)\n",
    "    y_pred_bin = (np.diff(y_pred) > 0).astype(int)\n",
    "    \n",
    "    if len(y_real_bin) != len(y_pred_bin):\n",
    "        print(\"Erro: vetores binários de tamanhos diferentes\")\n",
    "        return None, None\n",
    "    \n",
    "    return y_real_bin, y_pred_bin\n",
    "\n",
    "def calcula_metricas_direcao(df_forecast, col_predicao, col_real='y'):\n",
    "    if col_predicao in df_forecast.columns:\n",
    "        df_valid = df_forecast.dropna(subset=[col_predicao])\n",
    "        y_real = df_valid[col_real].values\n",
    "        y_pred = df_valid[col_predicao].values\n",
    "        \n",
    "        y_real_bin, y_pred_bin = converte_direcao_binaria(y_real, y_pred)\n",
    "        \n",
    "        if y_real_bin is not None and y_pred_bin is not None:\n",
    "            acc = accuracy_score(y_real_bin, y_pred_bin)\n",
    "            report = classification_report(y_real_bin, y_pred_bin, output_dict=True, zero_division=0)\n",
    "            print(f\"Acurácia direção {col_predicao}: {acc:.2%}\")\n",
    "            return report\n",
    "        else:\n",
    "            print(f\"Poucos dados para calcular direção em {col_predicao}.\")\n",
    "    else:\n",
    "        print(f\"Coluna '{col_predicao}' não encontrada.\")\n",
    "    # Se não der para calcular, retorna zeros\n",
    "    return {\n",
    "        \"accuracy\": 0,\n",
    "        \"weighted avg\": {\"precision\": 0, \"recall\": 0, \"f1-score\": 0}\n",
    "    }\n",
    "\n",
    "# ====================\n",
    "# Calcular para cada modelo temporal\n",
    "# Substitua forecast_dfarima, forecast_dfsm, forecast_dfnaive pelos seus dataframes correspondentes\n",
    "# ====================\n",
    "\n",
    "report_arima = calcula_metricas_direcao(forecast_arima, col_predicao='AutoARIMA')\n",
    "report_seasnaive = calcula_metricas_direcao(forecast_dfs, col_predicao='SeasonalNaive')\n",
    "report_naive = calcula_metricas_direcao(forecast_df, col_predicao='Naive')\n",
    "report_seaswa = calcula_metricas_direcao(forecast_dfsm, col_predicao='SeasWA')  # já vimos esse\n",
    "\n",
    "# ====================\n",
    "# Avaliação dos classificadores tradicionais\n",
    "# ====================\n",
    "\n",
    "modelos_avaliados = {\n",
    "    \"Regressão Logística\":                      {\"modelo\": modelo_rl, \"previsoes\": previsao_rl},\n",
    "    \"Random Forest\":                            {\"modelo\": modelo_rf, \"previsoes\": previsao_rf},\n",
    "    \"XGBoost\":                                  {\"modelo\": modelo_xgb, \"previsoes\": previsao_xgb},\n",
    "    \"LightGBM\":                                 {\"modelo\": modelo_lgbm, \"previsoes\": previsao_lgbm},\n",
    "    \"CatBoost\":                                 {\"modelo\": modelo_cat, \"previsoes\": previsao_cat},\n",
    "    \"SVM\":                                      {\"modelo\": modelo_svm, \"previsoes\": previsao_svm},\n",
    "}\n",
    "\n",
    "performance = pd.DataFrame(columns=[\"Modelo\", \"Acurácia\", \"Precisão\", \"Recall\", \"F1-Score\"])\n",
    "\n",
    "for nome, dados in modelos_avaliados.items():\n",
    "    report = classification_report(y_test, dados[\"previsoes\"], output_dict=True, zero_division=0)\n",
    "    performance.loc[performance.shape[0]] = {\n",
    "        \"Modelo\": nome,\n",
    "        \"Acurácia\": report[\"accuracy\"],\n",
    "        \"Precisão\": report[\"weighted avg\"][\"precision\"],\n",
    "        \"Recall\": report[\"weighted avg\"][\"recall\"],\n",
    "        \"F1-Score\": report[\"weighted avg\"][\"f1-score\"],\n",
    "    }\n",
    "\n",
    "# ====================\n",
    "# Adicionar os modelos temporais\n",
    "# ====================\n",
    "\n",
    "performance.loc[performance.shape[0]] = {\n",
    "    \"Modelo\": \"AutoARIMA\",\n",
    "    \"Acurácia\": report_arima[\"accuracy\"],\n",
    "    \"Precisão\": report_arima[\"weighted avg\"][\"precision\"],\n",
    "    \"Recall\": report_arima[\"weighted avg\"][\"recall\"],\n",
    "    \"F1-Score\": report_arima[\"weighted avg\"][\"f1-score\"],\n",
    "}\n",
    "\n",
    "performance.loc[performance.shape[0]] = {\n",
    "    \"Modelo\": \"SeasonalNaive\",\n",
    "    \"Acurácia\": report_seasnaive[\"accuracy\"],\n",
    "    \"Precisão\": report_seasnaive[\"weighted avg\"][\"precision\"],\n",
    "    \"Recall\": report_seasnaive[\"weighted avg\"][\"recall\"],\n",
    "    \"F1-Score\": report_seasnaive[\"weighted avg\"][\"f1-score\"],\n",
    "}\n",
    "\n",
    "performance.loc[performance.shape[0]] = {\n",
    "    \"Modelo\": \"Naive\",\n",
    "    \"Acurácia\": report_naive[\"accuracy\"],\n",
    "    \"Precisão\": report_naive[\"weighted avg\"][\"precision\"],\n",
    "    \"Recall\": report_naive[\"weighted avg\"][\"recall\"],\n",
    "    \"F1-Score\": report_naive[\"weighted avg\"][\"f1-score\"],\n",
    "}\n",
    "\n",
    "performance.loc[performance.shape[0]] = {\n",
    "    \"Modelo\": \"SeasonalWindowAverage\",\n",
    "    \"Acurácia\": report_seaswa[\"accuracy\"],\n",
    "    \"Precisão\": report_seaswa[\"weighted avg\"][\"precision\"],\n",
    "    \"Recall\": report_seaswa[\"weighted avg\"][\"recall\"],\n",
    "    \"F1-Score\": report_seaswa[\"weighted avg\"][\"f1-score\"],\n",
    "}\n",
    "\n",
    "# ====================\n",
    "# Formatação final\n",
    "# ====================\n",
    "\n",
    "performance.set_index(\"Modelo\", inplace=True)\n",
    "performance_formatada = performance.sort_values(by=\"Acurácia\", ascending=False)\n",
    "performance_formatada = performance_formatada.applymap(lambda x: f\"{(100 * x):.2f} %\")\n",
    "\n",
    "display(performance_formatada)\n"
   ]
  }
 ],
 "metadata": {
  "application/vnd.databricks.v1+notebook": {
   "computePreferences": null,
   "dashboards": [],
   "environmentMetadata": {
    "base_environment": "",
    "environment_version": "2"
   },
   "inputWidgetPreferences": null,
   "language": "python",
   "notebookMetadata": {
    "pythonIndentUnit": 4
   },
   "notebookName": "tech_challenge_fase_2_v3",
   "widgets": {}
  },
  "language_info": {
   "name": "python"
  }
 },
 "nbformat": 4,
 "nbformat_minor": 0
}
