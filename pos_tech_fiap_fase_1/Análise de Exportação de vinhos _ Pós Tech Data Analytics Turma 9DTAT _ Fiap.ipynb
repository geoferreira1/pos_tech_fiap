{
 "cells": [
  {
   "cell_type": "markdown",
   "metadata": {
    "application/vnd.databricks.v1+cell": {
     "cellMetadata": {},
     "inputWidgets": {},
     "nuid": "68ed967e-c68e-4508-ab52-fc54b8811461",
     "showTitle": false,
     "tableResultSettingsMap": {},
     "title": ""
    }
   },
   "source": [
    "## Configura tabelas e importa libs"
   ]
  },
  {
   "cell_type": "code",
   "execution_count": 0,
   "metadata": {
    "application/vnd.databricks.v1+cell": {
     "cellMetadata": {},
     "inputWidgets": {},
     "nuid": "daa5c5a4-30ca-42c0-9158-e0fb223c1489",
     "showTitle": true,
     "tableResultSettingsMap": {},
     "title": "Cria tabelas que serão utilizadas para análise"
    },
    "jupyter": {
     "source_hidden": true
    }
   },
   "outputs": [],
   "source": [
    "%python\n",
    "# Lista de arquivos e tabelas\n",
    "tabelas = [\n",
    "    (\"df_comercio\", \"/FileStore/tables/df_comercio-4.csv\"),\n",
    "    (\"df_exportacao\", \"/FileStore/tables/df_exportacao-6.csv\"),\n",
    "    (\"df_importacao\", \"/FileStore/tables/df_importacao-2.csv\"),\n",
    "    (\"df_processamento\", \"/FileStore/tables/df_processamento-3.csv\"),\n",
    "    (\"df_producao\", \"/FileStore/tables/df_producao-3.csv\")\n",
    "]\n",
    "\n",
    "# Parâmetros comuns de leitura\n",
    "file_type = 'csv'\n",
    "infer_schema = 'true'\n",
    "first_row_is_header = 'true'\n",
    "delimiter = ','\n",
    "thousands = '.'\n",
    "decimal = ','\n",
    "\n",
    "\n",
    "# Loop para processar cada tabela\n",
    "for table_name, file_location in tabelas:\n",
    "    # Remove a tabela do metastore (se existir)\n",
    "    spark.sql(f\"DROP TABLE IF EXISTS default.{table_name}\")\n",
    "    \n",
    "    # Remove o diretório físico da tabela (se existir)\n",
    "    dbutils.fs.rm(f\"dbfs:/user/hive/warehouse/{table_name}\", recurse=True)\n",
    "\n",
    "# Loop para processar cada tabela\n",
    "for table_name, file_location in tabelas:\n",
    "    df = spark.read.format(file_type) \\\n",
    "        .option('inferSchema', infer_schema) \\\n",
    "        .option('header', first_row_is_header) \\\n",
    "        .option('sep', delimiter) \\\n",
    "        .option('multiLine', 'true') \\\n",
    "        .option('quote', '\"') \\\n",
    "        .option('escape', '\"') \\\n",
    "        .option('thousands', thousands) \\\n",
    "        .option('decimal', decimal) \\\n",
    "        .load(file_location)\n",
    "\n",
    "    # Salva como tabela no metastore do Databricks\n",
    "    df.write.mode(\"overwrite\").format(\"parquet\").saveAsTable(f\"default.{table_name}\")\n"
   ]
  },
  {
   "cell_type": "code",
   "execution_count": 0,
   "metadata": {
    "application/vnd.databricks.v1+cell": {
     "cellMetadata": {
      "byteLimit": 2048000,
      "rowLimit": 10000
     },
     "inputWidgets": {},
     "nuid": "cbde60ff-2005-40d9-a36a-eea86236e542",
     "showTitle": false,
     "tableResultSettingsMap": {},
     "title": ""
    },
    "jupyter": {
     "outputs_hidden": true
    }
   },
   "outputs": [],
   "source": [
    "%python\n",
    "pip install openpyxl"
   ]
  },
  {
   "cell_type": "code",
   "execution_count": 0,
   "metadata": {
    "application/vnd.databricks.v1+cell": {
     "cellMetadata": {
      "byteLimit": 2048000,
      "rowLimit": 10000
     },
     "inputWidgets": {},
     "nuid": "26c72f15-d986-4d77-b565-9085aacf5c27",
     "showTitle": false,
     "tableResultSettingsMap": {},
     "title": ""
    },
    "jupyter": {
     "outputs_hidden": true
    }
   },
   "outputs": [],
   "source": [
    "%python\n",
    "pip install lxml"
   ]
  },
  {
   "cell_type": "code",
   "execution_count": 0,
   "metadata": {
    "application/vnd.databricks.v1+cell": {
     "cellMetadata": {
      "byteLimit": 2048000,
      "rowLimit": 10000
     },
     "inputWidgets": {},
     "nuid": "13867b4c-074f-4cdb-85ff-48ac3d21f8dc",
     "showTitle": true,
     "tableResultSettingsMap": {},
     "title": "libs"
    },
    "jupyter": {
     "source_hidden": true
    }
   },
   "outputs": [],
   "source": [
    "%python\n",
    "# Bibliotecas padrão\n",
    "import pandas as pd\n",
    "import numpy as np\n",
    "import matplotlib.pyplot as plt\n",
    "import seaborn as sns\n",
    "import matplotlib.ticker as ticker\n",
    "import requests\n",
    "from pyspark.sql import functions as F\n",
    "from sklearn.preprocessing import MinMaxScaler\n",
    "\n",
    "import warnings\n",
    "\n",
    "# Desabilitar todos os warnings\n",
    "warnings.filterwarnings(\"ignore\")\n"
   ]
  },
  {
   "cell_type": "code",
   "execution_count": 0,
   "metadata": {
    "application/vnd.databricks.v1+cell": {
     "cellMetadata": {
      "byteLimit": 2048000,
      "rowLimit": 10000
     },
     "inputWidgets": {},
     "nuid": "6ce0f4d5-b7c7-4bab-86c5-ab7ff1d1db67",
     "showTitle": true,
     "tableResultSettingsMap": {},
     "title": "Importa mercado"
    },
    "jupyter": {
     "source_hidden": true
    }
   },
   "outputs": [],
   "source": [
    "%python\n",
    "# importando a base de dados de mercado\n",
    "mercado = pd.read_excel('https://github.com/victorcbarros/Analise-Exportacao-de-Vinhos/raw/main/data-dados/raw-iniciais/dadosvinhos.xlsx')"
   ]
  },
  {
   "cell_type": "code",
   "execution_count": 0,
   "metadata": {
    "application/vnd.databricks.v1+cell": {
     "cellMetadata": {
      "byteLimit": 2048000,
      "rowLimit": 10000
     },
     "inputWidgets": {},
     "nuid": "4e3eda47-bc31-43f9-9336-efec30497702",
     "showTitle": true,
     "tableResultSettingsMap": {},
     "title": "Importa população"
    },
    "jupyter": {
     "source_hidden": true
    }
   },
   "outputs": [],
   "source": [
    "%python\n",
    "# importando a base de dados de população\n",
    "# extraindo a url\n",
    "url = 'https://pt.wikipedia.org/wiki/Lista_de_pa%C3%ADses_por_popula%C3%A7%C3%A3o'\n",
    "\n",
    "# Fazendo a requisição usando requests\n",
    "response = requests.get(url)\n",
    "\n",
    "# Verifica se a requisição foi bem sucedida\n",
    "if response.status_code == 200:\n",
    "    # Lendo o HTML para um DataFrame\n",
    "    populacao = pd.read_html(response.text)[0]\n",
    "    populacao.head()\n",
    "else:\n",
    "    print(\"Falha ao acessar o site. Status code:\", response.status_code)"
   ]
  },
  {
   "cell_type": "code",
   "execution_count": 0,
   "metadata": {
    "application/vnd.databricks.v1+cell": {
     "cellMetadata": {
      "byteLimit": 2048000,
      "rowLimit": 10000
     },
     "inputWidgets": {},
     "nuid": "b7063d17-acc6-4ea2-bcbf-0d5c817a9ac7",
     "showTitle": true,
     "tableResultSettingsMap": {},
     "title": "Configura visualizaçoes de gráficos verticais"
    },
    "jupyter": {
     "source_hidden": true
    }
   },
   "outputs": [],
   "source": [
    "%python\n",
    "# criando um função de costumização para usar nos graficos verticais\n",
    "def grafico_vertical(ax,valor,titulo):\n",
    "    # Removendo a caixa ao redor do gráfico\n",
    "    ax.spines['top'].set_visible(False)\n",
    "    ax.spines['right'].set_visible(False)\n",
    "    ax.spines['left'].set_visible(False)\n",
    "    ax.spines['bottom'].set_visible(False)\n",
    "    # Ajustando a altura do eixo y\n",
    "    ax.set_ylim(0, valor.max() * 1.1)  # aumenta o limite superior e inferior em 10%\n",
    "    #removendo o tick do eixo x\n",
    "    ax.xaxis.set_ticks_position('none')\n",
    "    # Removendo o label do eixo y\n",
    "    ax.set_ylabel('',fontsize=10)\n",
    "    # Removendo o label do eixo x\n",
    "    ax.set_xlabel('',fontsize=10)\n",
    "    # Removendo os valores do eixo y\n",
    "    ax.yaxis.set_ticks([])  # Remove as marcações do eixo y\n",
    "    ax.yaxis.set_ticklabels([])  # Remove os rótulos do eixo y\n",
    "    # Ajustando o tamanho das fontes dos ticks\n",
    "    ax.tick_params(axis='both', which='major', labelsize=10)\n",
    "    # Definindo o título do gráfico em negrito e tamanho 12\n",
    "    ax.set_title(titulo, fontweight='bold', fontsize=12)\n",
    "    # ajustando as porporções\n",
    "    plt.tight_layout()"
   ]
  },
  {
   "cell_type": "code",
   "execution_count": 0,
   "metadata": {
    "application/vnd.databricks.v1+cell": {
     "cellMetadata": {
      "byteLimit": 2048000,
      "rowLimit": 10000
     },
     "inputWidgets": {},
     "nuid": "958aa0ab-3346-4e6c-acb1-548da32c7660",
     "showTitle": true,
     "tableResultSettingsMap": {},
     "title": "Configura visualizaçoes de gráficos horizontais"
    },
    "jupyter": {
     "source_hidden": true
    }
   },
   "outputs": [],
   "source": [
    "%python\n",
    "# criando um função de costumização para usar nos graficos horizontais\n",
    "def grafico_horizontal(ax,valor,titulo):\n",
    "    # Removendo a caixa ao redor do gráfico\n",
    "    ax.spines['top'].set_visible(False)\n",
    "    ax.spines['right'].set_visible(False)\n",
    "    ax.spines['left'].set_visible(False)\n",
    "    ax.spines['bottom'].set_visible(False)\n",
    "    # Ajustando a altura do eixo y\n",
    "    ax.set_xlim(0, valor.max() * 1.1)  # aumenta o limite superior em 10%\n",
    "    #removendo o tick do eixo y\n",
    "    ax.yaxis.set_ticks_position('none')\n",
    "    # Removendo o label do eixo y\n",
    "    ax.set_ylabel('',fontsize=10)\n",
    "    # Removendo o label do eixo x\n",
    "    ax.set_xlabel('',fontsize=10)\n",
    "    # Removendo os valores do eixo y\n",
    "    ax.xaxis.set_ticks([])  # Remove as marcações do eixo x\n",
    "    ax.xaxis.set_ticklabels([])  # Remove os rótulos do eixo x\n",
    "    # Ajustando o tamanho das fontes dos ticks\n",
    "    ax.tick_params(axis='both', which='major', labelsize=10)\n",
    "    # Definindo o título do gráfico em negrito e tamanho 12\n",
    "    ax.set_title(titulo, fontweight='bold', fontsize=12)\n",
    "    # ajustando as porporções\n",
    "    plt.tight_layout()"
   ]
  },
  {
   "cell_type": "markdown",
   "metadata": {
    "application/vnd.databricks.v1+cell": {
     "cellMetadata": {},
     "inputWidgets": {},
     "nuid": "da818199-d6bc-410d-88a1-6f6e51e2242c",
     "showTitle": false,
     "tableResultSettingsMap": {},
     "title": ""
    }
   },
   "source": [
    "## Análises"
   ]
  },
  {
   "cell_type": "code",
   "execution_count": 0,
   "metadata": {
    "application/vnd.databricks.v1+cell": {
     "cellMetadata": {
      "byteLimit": 2048000,
      "rowLimit": 10000
     },
     "inputWidgets": {},
     "nuid": "2851d992-6ad4-43f1-aa84-7dfc813e7a10",
     "showTitle": false,
     "tableResultSettingsMap": {},
     "title": ""
    }
   },
   "outputs": [],
   "source": [
    "%python\n",
    "\n",
    "# Consulta Spark SQL\n",
    "df_producao = spark.sql(\"SELECT * FROM workspace.pos_fiap.producao\")\n",
    "\n",
    "\n",
    "# Aplica o filtro corretamente em PySpark\n",
    "df_filtrado = df_producao.filter(\n",
    "    (~df_producao.produto.isin('VINHO FINO DE MESA (VINIFERA)', 'VINHO DE MESA', 'SUCO', 'DERIVADOS')) &\n",
    "    (F.lower(df_producao.categoria_produto).startswith('vinho'))\n",
    ")\n"
   ]
  },
  {
   "cell_type": "code",
   "execution_count": 0,
   "metadata": {
    "application/vnd.databricks.v1+cell": {
     "cellMetadata": {
      "byteLimit": 2048000,
      "rowLimit": 10000
     },
     "inputWidgets": {},
     "nuid": "19e471ea-e1b8-4bb9-a43b-a8a105523bdc",
     "showTitle": false,
     "tableResultSettingsMap": {},
     "title": ""
    }
   },
   "outputs": [],
   "source": [
    "%python\n",
    "\n",
    "# Converte Spark DataFrame para Pandas\n",
    "df_filtrado_pd = df_filtrado.toPandas()\n",
    "\n",
    "# calculando a quantidade de vinhos produzidas \n",
    "quantidade_produzida = df_filtrado_pd.groupby('categoria_produto')['quantidade_produzida'].sum()\n",
    "# ordenando os valores em ordem decrescente\n",
    "quantidade_produzida.sort_values(ascending=False,inplace = True)\n",
    "# dividindo os valores por bilhão para ficar melhor a visualização\n",
    "quantidade_produzida = quantidade_produzida / 1_000_000_000"
   ]
  },
  {
   "cell_type": "code",
   "execution_count": 0,
   "metadata": {
    "application/vnd.databricks.v1+cell": {
     "cellMetadata": {
      "byteLimit": 2048000,
      "rowLimit": 10000
     },
     "inputWidgets": {},
     "nuid": "9ea211c1-7bd0-4038-bbaa-c01422e6d5ec",
     "showTitle": false,
     "tableResultSettingsMap": {},
     "title": ""
    }
   },
   "outputs": [],
   "source": [
    "%python\n",
    "# definindo o tamanho da figura\n",
    "plt.figure(figsize=(8,6))\n",
    "# criando o grafico de quantidade de vinhos produzida\n",
    "ax = sns.barplot(x = quantidade_produzida.index,y = quantidade_produzida.values, color = 'tan')\n",
    "# criando rotulo de dados no grafico \n",
    "for p in ax.patches:\n",
    "    ax.annotate(f'{p.get_height():.2f} Bi',\n",
    "                (p.get_x() + p.get_width() / 2., p.get_height()),\n",
    "                ha='center', va='center', xytext=(0, 10),\n",
    "                textcoords='offset points')\n",
    "# adicionando o titulo no grafico \n",
    "grafico_vertical(ax,quantidade_produzida,'Categorias de vinhos mais produzidas (Litros)')"
   ]
  },
  {
   "cell_type": "code",
   "execution_count": 0,
   "metadata": {
    "application/vnd.databricks.v1+cell": {
     "cellMetadata": {
      "byteLimit": 2048000,
      "rowLimit": 10000
     },
     "inputWidgets": {},
     "nuid": "41129668-efa3-48dc-9613-3915100c7c6e",
     "showTitle": false,
     "tableResultSettingsMap": {},
     "title": ""
    }
   },
   "outputs": [],
   "source": [
    "%python\n",
    "\n",
    "# Converte Spark DataFrame para Pandas\n",
    "df_filtrado_pd = df_filtrado.toPandas()\n",
    "\n",
    "\n",
    "# criando uma variavel para analisar a produção de vinhos por ano \n",
    "producao_por_ano = df_filtrado_pd.groupby('ano')['quantidade_produzida'].sum()\n",
    "# dividindo o valor por milhão para facilitar a vizualização \n",
    "producao_por_ano = producao_por_ano / 1_000_000\n",
    "#criando um dataframe \n",
    "producao_por_ano = producao_por_ano.reset_index()\n",
    "# criando uma coluna com a Média\n",
    "producao_por_ano['Média'] = producao_por_ano['quantidade_produzida'].mean()\n",
    "# Arredondando os valores\n",
    "producao_por_ano = producao_por_ano.round(0)\n"
   ]
  },
  {
   "cell_type": "code",
   "execution_count": 0,
   "metadata": {
    "application/vnd.databricks.v1+cell": {
     "cellMetadata": {
      "byteLimit": 2048000,
      "rowLimit": 10000
     },
     "inputWidgets": {},
     "nuid": "01838eb6-031e-4758-a849-d7e49ee5a3ed",
     "showTitle": false,
     "tableResultSettingsMap": {},
     "title": ""
    }
   },
   "outputs": [],
   "source": [
    "%python\n",
    "\n",
    "#Ajusta type da coluna de ano\n",
    "producao_por_ano['ano'] = producao_por_ano['ano'].astype(str)\n",
    "\n",
    "#criando o grafico 1 \n",
    "plt.figure(figsize=(15,5))\n",
    "ax = sns.barplot(data = producao_por_ano, x =  'ano', y = 'quantidade_produzida' ,color = 'tan' )\n",
    "# criando rotulo de dados no grafico \n",
    "for p in ax.patches:\n",
    "    ax.annotate(f'{p.get_height():.0f} Mi',\n",
    "                (p.get_x() + p.get_width() / 2., p.get_height()),\n",
    "                ha='center', va='center', xytext=(0, 10),\n",
    "                textcoords='offset points')\n",
    "\n",
    "# criando o grafico 2 \n",
    "sns.lineplot(data = producao_por_ano, x =  'ano', y = 'Média' ,color = 'sienna', marker = 'o',linestyle = '--')\n",
    "\n",
    "\n",
    "# Adicionando legendas para cada gráfico\n",
    "line = plt.Line2D([], [], color='sienna', marker='o', linestyle='--', label='Media Produção')\n",
    "bar = plt.Rectangle((0, 0), 1, 1, fc='tan', edgecolor='none', label='Produção')\n",
    "plt.legend(handles=[bar, line], loc='upper right')\n",
    "# chamando nossa função de grafico \n",
    "grafico_vertical(ax,producao_por_ano['quantidade_produzida'],'Produção por ano (Litros)')\n",
    "plt.show()"
   ]
  },
  {
   "cell_type": "code",
   "execution_count": 0,
   "metadata": {
    "application/vnd.databricks.v1+cell": {
     "cellMetadata": {
      "byteLimit": 2048000,
      "rowLimit": 10000
     },
     "inputWidgets": {},
     "nuid": "9f008aa2-1f5e-473b-bc5a-c94b70b9232f",
     "showTitle": false,
     "tableResultSettingsMap": {},
     "title": ""
    }
   },
   "outputs": [],
   "source": [
    "%python\n",
    "# Converte Spark DataFrame para Pandas\n",
    "df_filtrado_pd = df_filtrado.toPandas()\n",
    "# calculando a produção entre 2008 e 2015\n",
    "producao_2008_2015 =  (df_filtrado_pd.groupby('ano')['quantidade_produzida'].sum()[:8].sum() / 1_000_000_000).round(1)\n",
    "# calculando a produção entre 2016 e 2022\n",
    "producao_2016_2023 =  (df_filtrado_pd.groupby('ano')['quantidade_produzida'].sum()[8:].sum() / 1_000_000_000).round(1)\n",
    "# criando um dataframe com esse intervalo \n",
    "intervalo = {'2008 - 2015': producao_2008_2015, '2016 - 2023': producao_2016_2023} \n",
    "df_intervalo = pd.DataFrame(list(intervalo.items()),columns =['Periodo','Valor'])"
   ]
  },
  {
   "cell_type": "code",
   "execution_count": 0,
   "metadata": {
    "application/vnd.databricks.v1+cell": {
     "cellMetadata": {
      "byteLimit": 2048000,
      "rowLimit": 10000
     },
     "inputWidgets": {},
     "nuid": "c4c36d49-cdd4-40dc-b48f-fe91ca3a473f",
     "showTitle": false,
     "tableResultSettingsMap": {},
     "title": ""
    }
   },
   "outputs": [],
   "source": [
    "%python\n",
    "# definindo o tamanho da figura\n",
    "plt.figure(figsize=(10,8))\n",
    "# criando o grafico do período\n",
    "grafico_periodo = sns.barplot(data = df_intervalo , x = 'Periodo', y = 'Valor',color = 'tan')\n",
    "# adicionando o rotulo de dados\n",
    "for p in grafico_periodo.patches:\n",
    "    grafico_periodo.annotate(f'{p.get_height():.1f} Bi',\n",
    "                (p.get_x() + p.get_width() / 2., p.get_height()),\n",
    "                ha='center', va='center', xytext=(0, 10),\n",
    "                textcoords='offset points')\n",
    "# chamando a função que costumiza o gráfico\n",
    "grafico_vertical(grafico_periodo,df_intervalo['Valor'],'Produção por ano')\n",
    "# exibindo o gráfico \n",
    "plt.show()"
   ]
  },
  {
   "cell_type": "code",
   "execution_count": 0,
   "metadata": {
    "application/vnd.databricks.v1+cell": {
     "cellMetadata": {
      "byteLimit": 2048000,
      "rowLimit": 10000
     },
     "inputWidgets": {},
     "nuid": "d0adabf4-70d0-4a7b-9356-26028ba90f80",
     "showTitle": false,
     "tableResultSettingsMap": {},
     "title": ""
    }
   },
   "outputs": [],
   "source": [
    "%python\n",
    "estados = {\n",
    "    'Rio Grande do Sul': 46.97,\n",
    "    'São Paulo': 8.44,\n",
    "    'Pernambuco': 8.26,\n",
    "    'Paraná': 4.00,\n",
    "    'Bahia': 2.07,\n",
    "    'Minas Gerais': 1.35,\n",
    "    'Espírito Santo': 0.20,\n",
    "    'Paraíba': 0.11,\n",
    "    'Goiás': 0.11,\n",
    "    'Distrito Federal': 0.06\n",
    "}\n",
    "\n",
    "area = pd.DataFrame(list(estados.items()), columns=['Estado', 'Area'])"
   ]
  },
  {
   "cell_type": "code",
   "execution_count": 0,
   "metadata": {
    "application/vnd.databricks.v1+cell": {
     "cellMetadata": {
      "byteLimit": 2048000,
      "rowLimit": 10000
     },
     "inputWidgets": {},
     "nuid": "251e243c-7152-4714-93ef-3a48b8048d99",
     "showTitle": false,
     "tableResultSettingsMap": {},
     "title": ""
    }
   },
   "outputs": [],
   "source": [
    "%python\n",
    "# modificando o tamanho da figura\n",
    "plt.figure(figsize=(12,5))\n",
    "# criando o gráfico\n",
    "grafico_area = sns.barplot(data = area , x = 'Estado' , y = 'Area', color = 'sienna')\n",
    "# adicionando o rotulo de dados\n",
    "for p in grafico_area.patches:\n",
    "    grafico_area.annotate(f'{p.get_height():.2f} Mil',\n",
    "                (p.get_x() + p.get_width() / 2., p.get_height()),\n",
    "                ha='center', va='center', xytext=(0, 10),\n",
    "                textcoords='offset points')\n",
    "# chamando a função que costumiza o gráfico\n",
    "grafico_vertical(grafico_area,area['Area'],'Área por Estado (Hectares)')\n",
    "# exibindo o grafico\n",
    "plt.show()"
   ]
  },
  {
   "cell_type": "code",
   "execution_count": 0,
   "metadata": {
    "application/vnd.databricks.v1+cell": {
     "cellMetadata": {
      "byteLimit": 2048000,
      "rowLimit": 10000
     },
     "inputWidgets": {},
     "nuid": "f0acf904-d8e7-4f39-8c6f-ddeda05a279d",
     "showTitle": false,
     "tableResultSettingsMap": {},
     "title": ""
    }
   },
   "outputs": [],
   "source": [
    "%python\n",
    "\n",
    "# Consulta Spark SQL\n",
    "df_comercio = spark.sql(\"SELECT * FROM workspace.pos_fiap.comercio\")"
   ]
  },
  {
   "cell_type": "code",
   "execution_count": 0,
   "metadata": {
    "application/vnd.databricks.v1+cell": {
     "cellMetadata": {
      "byteLimit": 2048000,
      "rowLimit": 10000
     },
     "inputWidgets": {},
     "nuid": "a6be83ab-bc6d-4da0-b337-62648a35d476",
     "showTitle": false,
     "tableResultSettingsMap": {},
     "title": ""
    }
   },
   "outputs": [],
   "source": [
    "%python\n",
    "# Converte Spark DataFrame para Pandas\n",
    "df_comercio = df_comercio.toPandas()\n",
    "comercio_vinhos  = df_comercio[(df_comercio['categoria_produto'] == 'vinho de mesa') | (df_comercio['categoria_produto'] == 'vinho fino vinífera')]\n"
   ]
  },
  {
   "cell_type": "code",
   "execution_count": 0,
   "metadata": {
    "application/vnd.databricks.v1+cell": {
     "cellMetadata": {
      "byteLimit": 2048000,
      "rowLimit": 10000
     },
     "inputWidgets": {},
     "nuid": "2f4123ed-30c4-42c0-b37c-f5578e5fb367",
     "showTitle": false,
     "tableResultSettingsMap": {},
     "title": ""
    }
   },
   "outputs": [],
   "source": [
    "%python\n",
    "# calculando o total comercializado de vinhos por tipo\n",
    "quantidade_comercializada = comercio_vinhos.groupby('categoria_produto')['quantidade_comercializada'].sum()\n",
    "# ordenando os valores em ordem decrescente\n",
    "quantidade_comercializada.sort_values(ascending=False,inplace = True)\n",
    "# dividindo os valores por bilhão para ficar melhor a visualização\n",
    "quantidade_comercializada = quantidade_comercializada / 1_000_000_000"
   ]
  },
  {
   "cell_type": "code",
   "execution_count": 0,
   "metadata": {
    "application/vnd.databricks.v1+cell": {
     "cellMetadata": {
      "byteLimit": 2048000,
      "rowLimit": 10000
     },
     "inputWidgets": {},
     "nuid": "1acc4c42-e1bd-4cbc-ab1e-4fa9571c38a4",
     "showTitle": false,
     "tableResultSettingsMap": {},
     "title": ""
    }
   },
   "outputs": [],
   "source": [
    "%python\n",
    "# definindo o tamanho da figura\n",
    "plt.figure(figsize=(10,8))\n",
    "# criando o grafico de quantidade de vinhos produzida\n",
    "ax = sns.barplot(x = quantidade_comercializada.index,y = quantidade_comercializada.values, color = 'tan')\n",
    "# criando rotulo de dados no grafico \n",
    "for p in ax.patches:\n",
    "    ax.annotate(f'{p.get_height():.2f} Bi',\n",
    "                (p.get_x() + p.get_width() / 2., p.get_height()),\n",
    "                ha='center', va='center', xytext=(0, 10),\n",
    "                textcoords='offset points')\n",
    "# chamando a função de modificar o grafico\n",
    "grafico_vertical(ax,quantidade_comercializada,'Vinhos mais Comercializados')\n",
    "plt.show()"
   ]
  },
  {
   "cell_type": "code",
   "execution_count": 0,
   "metadata": {
    "application/vnd.databricks.v1+cell": {
     "cellMetadata": {
      "byteLimit": 2048000,
      "rowLimit": 10000
     },
     "inputWidgets": {},
     "nuid": "b474ab43-9807-4569-941f-ab7d6d0e69e2",
     "showTitle": false,
     "tableResultSettingsMap": {},
     "title": ""
    }
   },
   "outputs": [],
   "source": [
    "%python\n",
    "# criando uma variavel para analisar a comercialização de vinhos por ano \n",
    "comercializacao_por_ano = comercio_vinhos.groupby('ano')['quantidade_comercializada'].sum()\n",
    "# dividindo o valor por milhão para facilitar a vizualização \n",
    "comercializacao_por_ano = comercializacao_por_ano / 1_000_000\n",
    "#criando um dataframe \n",
    "comercializacao_por_ano = comercializacao_por_ano.reset_index()\n",
    "# criando uma coluna com a Média\n",
    "comercializacao_por_ano['Média'] = comercializacao_por_ano['quantidade_comercializada'].mean()\n",
    "# Arredondando os valores\n",
    "comercializacao_por_ano = comercializacao_por_ano.round(0)"
   ]
  },
  {
   "cell_type": "code",
   "execution_count": 0,
   "metadata": {
    "application/vnd.databricks.v1+cell": {
     "cellMetadata": {
      "byteLimit": 2048000,
      "rowLimit": 10000
     },
     "inputWidgets": {},
     "nuid": "224f80af-d192-45b3-9cbd-8259a421dd35",
     "showTitle": false,
     "tableResultSettingsMap": {},
     "title": ""
    }
   },
   "outputs": [],
   "source": [
    "%python\n",
    "\n",
    "#Ajusta type da coluna de ano\n",
    "comercializacao_por_ano['ano'] = comercializacao_por_ano['ano'].astype(str)\n",
    "\n",
    "#criando o grafico 1 \n",
    "plt.figure(figsize=(15,5))\n",
    "ax = sns.barplot(data = comercializacao_por_ano, x =  'ano', y = 'quantidade_comercializada' ,color = 'tan' )\n",
    "# criando rotulo de dados no grafico \n",
    "for p in ax.patches:\n",
    "    ax.annotate(f'{p.get_height():.0f} Mi',\n",
    "                (p.get_x() + p.get_width() / 2., p.get_height()),\n",
    "                ha='center', va='center', xytext=(0, 10),\n",
    "                textcoords='offset points')\n",
    "\n",
    "# criando o grafico 2 \n",
    "sns.lineplot(data = comercializacao_por_ano, x =  'ano', y = 'Média' ,color = 'sienna', marker = 'o',linestyle = '--')\n",
    "\n",
    "\n",
    "# Adicionando legendas para cada gráfico\n",
    "line = plt.Line2D([], [], color='sienna', marker='o', linestyle='--', label='Media Comercialização')\n",
    "bar = plt.Rectangle((0, 0), 1, 1, fc='tan', edgecolor='none', label='Comercialização')\n",
    "plt.legend(handles=[bar, line], loc='upper right')\n",
    "# chamando nossa função de grafico \n",
    "grafico_vertical(ax,comercializacao_por_ano['quantidade_comercializada'],'Comercialização por ano (Litros)')\n",
    "plt.show()"
   ]
  },
  {
   "cell_type": "code",
   "execution_count": 0,
   "metadata": {
    "application/vnd.databricks.v1+cell": {
     "cellMetadata": {
      "byteLimit": 2048000,
      "rowLimit": 10000
     },
     "inputWidgets": {},
     "nuid": "5ed8f132-2ecc-4285-b788-834370df1344",
     "showTitle": false,
     "tableResultSettingsMap": {},
     "title": ""
    }
   },
   "outputs": [],
   "source": [
    "%python\n",
    "# calculando a produção entre 2008 e 2015\n",
    "comercio_2008_2015 =  (comercio_vinhos.groupby('ano')['quantidade_comercializada'].sum()[:8].sum() / 1_000_000_000).round(1)\n",
    "# calculando a produção entre 2016 e 2022\n",
    "comercio_2016_2023 =  (comercio_vinhos.groupby('ano')['quantidade_comercializada'].sum()[8:].sum() / 1_000_000_000).round(1)\n",
    "# criando um dataframe com esse intervalo \n",
    "intervalo = {'2008 - 2015': comercio_2008_2015, '2016 - 2023': comercio_2016_2023} \n",
    "df_intervalo_comercio = pd.DataFrame(list(intervalo.items()),columns =['Periodo','Valor'])"
   ]
  },
  {
   "cell_type": "code",
   "execution_count": 0,
   "metadata": {
    "application/vnd.databricks.v1+cell": {
     "cellMetadata": {
      "byteLimit": 2048000,
      "rowLimit": 10000
     },
     "inputWidgets": {},
     "nuid": "782ce262-5a4d-43d3-8ccd-160604acd498",
     "showTitle": false,
     "tableResultSettingsMap": {},
     "title": ""
    }
   },
   "outputs": [],
   "source": [
    "%python\n",
    "# definindo o tamanho da figura\n",
    "plt.figure(figsize=(10,8))\n",
    "# criando o grafico do período\n",
    "grafico_periodo = sns.barplot(data = df_intervalo_comercio , x = 'Periodo', y = 'Valor',color = 'tan')\n",
    "# adicionando o rotulo de dados\n",
    "for p in grafico_periodo.patches:\n",
    "    grafico_periodo.annotate(f'{p.get_height():.1f} Bi',\n",
    "                (p.get_x() + p.get_width() / 2., p.get_height()),\n",
    "                ha='center', va='center', xytext=(0, 10),\n",
    "                textcoords='offset points')\n",
    "# chamando a função que costumiza o gráfico\n",
    "grafico_vertical(grafico_periodo,df_intervalo_comercio['Valor'],'Comercialização por ano')\n",
    "# exibindo o gráfico \n",
    "plt.show()"
   ]
  },
  {
   "cell_type": "code",
   "execution_count": 0,
   "metadata": {
    "application/vnd.databricks.v1+cell": {
     "cellMetadata": {
      "byteLimit": 2048000,
      "rowLimit": 10000
     },
     "inputWidgets": {},
     "nuid": "57b23e29-68f8-4181-a4ae-7d9660896be6",
     "showTitle": false,
     "tableResultSettingsMap": {},
     "title": ""
    }
   },
   "outputs": [],
   "source": [
    "%python\n",
    "\n",
    "# Consulta Spark SQL\n",
    "df_importacao = spark.sql(\"SELECT * FROM workspace.pos_fiap.importacao\")\n",
    "# Converte Spark DataFrame para Pandas\n",
    "df_importacao = df_importacao.toPandas()"
   ]
  },
  {
   "cell_type": "code",
   "execution_count": 0,
   "metadata": {
    "application/vnd.databricks.v1+cell": {
     "cellMetadata": {
      "byteLimit": 2048000,
      "rowLimit": 10000
     },
     "inputWidgets": {},
     "nuid": "0225b5cc-1ead-41f5-b9fa-8a8562414037",
     "showTitle": false,
     "tableResultSettingsMap": {},
     "title": ""
    }
   },
   "outputs": [],
   "source": [
    "%python\n",
    "df_importacao_filtrado  = df_importacao[(df_importacao['tipo_importacao'] == 'Vinhos')]\n"
   ]
  },
  {
   "cell_type": "code",
   "execution_count": 0,
   "metadata": {
    "application/vnd.databricks.v1+cell": {
     "cellMetadata": {
      "byteLimit": 2048000,
      "rowLimit": 10000
     },
     "inputWidgets": {},
     "nuid": "36422018-60b9-458b-be67-3035fb4f1a94",
     "showTitle": false,
     "tableResultSettingsMap": {},
     "title": ""
    }
   },
   "outputs": [],
   "source": [
    "%python\n",
    "\n",
    "# Calculando a quantidade total importada\n",
    "total_importado = df_importacao_filtrado['quantidade_importada'].sum() / 1_000_000_000\n",
    "# Calculando o valor total importado\n",
    "total_importado_valor = df_importacao_filtrado['valor'].sum() / 1_000_000_000\n",
    "# imprimindo o valor total importado\n",
    "print(f'Total Importado em Dolares (US$) : {total_importado_valor.round(2)} Bilhões')\n",
    "# imprimindo a quantidade total importada\n",
    "print(f'Total Importado em Litros : {total_importado.round(2)} Bilhões')"
   ]
  },
  {
   "cell_type": "code",
   "execution_count": 0,
   "metadata": {
    "application/vnd.databricks.v1+cell": {
     "cellMetadata": {
      "byteLimit": 2048000,
      "rowLimit": 10000
     },
     "inputWidgets": {},
     "nuid": "956cfe09-17d4-4b94-b4c8-cca494126c76",
     "showTitle": false,
     "tableResultSettingsMap": {},
     "title": ""
    }
   },
   "outputs": [],
   "source": [
    "%python\n",
    "# calculando as importações ao longo dos anos\n",
    "importacao_anos = df_importacao_filtrado.groupby('ano')[['quantidade_importada','valor']].sum()\n",
    "# dividindo tudo por 1 Milhão para facilitar a visualização no grafico \n",
    "importacao_anos = importacao_anos / 1_000_000\n",
    "# Redefinindo o índice para que 'Ano' se torne uma coluna novamente\n",
    "importacao_anos = importacao_anos.reset_index()"
   ]
  },
  {
   "cell_type": "code",
   "execution_count": 0,
   "metadata": {
    "application/vnd.databricks.v1+cell": {
     "cellMetadata": {
      "byteLimit": 2048000,
      "rowLimit": 10000
     },
     "inputWidgets": {},
     "nuid": "f370716c-86c6-4e6e-a182-e5ecf451cf24",
     "showTitle": false,
     "tableResultSettingsMap": {},
     "title": ""
    }
   },
   "outputs": [],
   "source": [
    "%python\n",
    "# definindo o tamanho da figura\n",
    "plt.figure(figsize=(12,4))\n",
    "# Criando o gráfico de linha de valor de importação por ano\n",
    "grafico_linha_importacao_valor = sns.lineplot(data=importacao_anos, x='ano', y='valor', marker='o', color='tan', linewidth=3)  # Ajustando a largura da linha\n",
    "\n",
    "# Criando rótulo de dados no gráfico de valor\n",
    "for index, row in importacao_anos.iterrows():\n",
    "    plt.text(row['ano'], row['valor'] + 15, f'{row[\"valor\"]:.0f} M', ha='center', va='bottom', fontsize=9)\n",
    "\n",
    "# Criando o gráfico de linha de quantidade de importação por ano \n",
    "grafico_linha_importacao_quantidade = sns.lineplot(data=importacao_anos, x='ano', y='quantidade_importada', marker='o', color='sienna', linewidth=3) \n",
    "\n",
    "# Criando rótulo de dados no gráfico de quantidade\n",
    "for index, row in importacao_anos.iterrows():\n",
    "    plt.text(row['ano'], row['quantidade_importada'] + 15, f'{row[\"quantidade_importada\"]:.0f} M', ha='center', va='bottom', fontsize=9) \n",
    "\n",
    "# Adicionando legendas para cada gráfico\n",
    "line1 = plt.Line2D([], [], color='tan', marker='o', linestyle='--', label='Valor Importado(US$)')\n",
    "line2 = plt.Line2D([], [], color='sienna', marker='o', linestyle='--', label='Quantidade Importada(Kg)')\n",
    "plt.legend(handles=[line1, line2], loc='upper left')\n",
    "\n",
    "grafico_vertical(grafico_linha_importacao_valor,importacao_anos['valor'],'Importação entre 2008 e 2024')\n",
    "plt.show()"
   ]
  },
  {
   "cell_type": "code",
   "execution_count": 0,
   "metadata": {
    "application/vnd.databricks.v1+cell": {
     "cellMetadata": {
      "byteLimit": 2048000,
      "rowLimit": 10000
     },
     "inputWidgets": {},
     "nuid": "96548d36-73e9-4876-bdbf-c5975b1cfef3",
     "showTitle": false,
     "tableResultSettingsMap": {},
     "title": ""
    }
   },
   "outputs": [],
   "source": [
    "%python\n",
    "# calculando a importacao por país\n",
    "importacao_por_pais = df_importacao_filtrado.groupby('origem')[['quantidade_importada','valor']].sum()\n",
    "# dividindo por 1 milhão \n",
    "importacao_por_pais = (importacao_por_pais / 1_000_000).round(1)\n",
    "#ordenando por quantidade e criando um dataframe por quantidade dos top 10 países\n",
    "importacao_por_pais.sort_values(by = 'quantidade_importada',ascending = False,inplace = True)\n",
    "importacao_por_pais_quantidade = importacao_por_pais.head(10)\n",
    "# transformando 'origem' de índice em coluna\n",
    "importacao_por_pais_quantidade = importacao_por_pais_quantidade.reset_index()\n",
    "\n",
    "#ordenando por valor e criando um dataframe por valor dos top 10 países\n",
    "importacao_por_pais.sort_values(by = 'valor',ascending = False,inplace = True)\n",
    "importacao_por_pais_valor = importacao_por_pais.head(10)\n",
    "# transformando 'origem' de índice em coluna\n",
    "importacao_por_pais_valor = importacao_por_pais_valor.reset_index()"
   ]
  },
  {
   "cell_type": "code",
   "execution_count": 0,
   "metadata": {
    "application/vnd.databricks.v1+cell": {
     "cellMetadata": {
      "byteLimit": 2048000,
      "rowLimit": 10000
     },
     "inputWidgets": {},
     "nuid": "e6bc09e2-e3cc-4259-b41d-e9cb26ed0c43",
     "showTitle": false,
     "tableResultSettingsMap": {},
     "title": ""
    }
   },
   "outputs": [],
   "source": [
    "%python\n",
    "# criando a figura com os dois graficos\n",
    "fig,(ax1,ax2) = plt.subplots(1,2,figsize=(12,6))\n",
    "\n",
    "#criando o grafico de valor importado\n",
    "ax1 = sns.barplot(data = importacao_por_pais_valor,x ='valor',y = 'origem',color = 'tan',ax=ax1)\n",
    "# adicionando o rotulo de dados no grafico de valor importado\n",
    "for p in ax1.patches:\n",
    "    width = p.get_width()\n",
    "    ax1.annotate(f'{width:.1f} Mi',\n",
    "                 (p.get_x() + width, p.get_y() + p.get_height() / 2),\n",
    "                 ha='center', va='center', xytext=(25, 0),\n",
    "                 textcoords='offset points')\n",
    "# chamando a função de costumização para graficos na horizontal\n",
    "grafico_horizontal(ax1,importacao_por_pais_valor['valor'],'Top 10 Países que mais importaram (US$)')\n",
    "\n",
    "\n",
    "#criando o grafico de quantidade importada\n",
    "ax2 = sns.barplot(data = importacao_por_pais_quantidade,x ='quantidade_importada',y = 'origem',color = 'sienna',ax=ax2)\n",
    "# adicionando o rotulo de dados no grafico de quantidade importada\n",
    "for p in ax2.patches:\n",
    "    width = p.get_width()\n",
    "    ax2.annotate(f'{width:.1f} Mi',\n",
    "                 (p.get_x() + width, p.get_y() + p.get_height() / 2),\n",
    "                 ha='center', va='center', xytext=(25, 0),\n",
    "                 textcoords='offset points')\n",
    "# chamando a função de costumização para graficos na horizontal\n",
    "grafico_horizontal(ax2,importacao_por_pais_quantidade['quantidade_importada'],'Top 10 Países que mais importaram (Litros)')"
   ]
  },
  {
   "cell_type": "code",
   "execution_count": 0,
   "metadata": {
    "application/vnd.databricks.v1+cell": {
     "cellMetadata": {
      "byteLimit": 2048000,
      "rowLimit": 10000
     },
     "inputWidgets": {},
     "nuid": "a740ca99-a08e-4def-8144-a7cc8626664f",
     "showTitle": false,
     "tableResultSettingsMap": {},
     "title": ""
    }
   },
   "outputs": [],
   "source": [
    "%python\n",
    "top_importacao_por_pais = importacao_por_pais.head(10)\n",
    "# criando a coluna de valor do litro importado\n",
    "top_importacao_por_pais['Valor do Litro Importado (US$)'] = top_importacao_por_pais['valor'] / top_importacao_por_pais['quantidade_importada']\n",
    "# substituindo os valores 'inf' e '-inf' por NaN\n",
    "top_importacao_por_pais.replace([np.inf, -np.inf], np.nan, inplace=True)\n",
    "# substituindo os valores NaN por 0\n",
    "top_importacao_por_pais.fillna(0,inplace=True)\n",
    "# ordenando os valores de forma decrescente pelo valor do litro\n",
    "top_importacao_por_pais.sort_values(by='Valor do Litro Importado (US$)',ascending=False,inplace=True)\n",
    "# criando um dataframe com o Top10 de valor do litro importado\n",
    "valor_por_litro_importado = top_importacao_por_pais.head(10)\n",
    "# transformando 'origem' de índice em coluna\n",
    "valor_por_litro_importado = valor_por_litro_importado.reset_index()\n",
    "\n"
   ]
  },
  {
   "cell_type": "code",
   "execution_count": 0,
   "metadata": {
    "application/vnd.databricks.v1+cell": {
     "cellMetadata": {
      "byteLimit": 2048000,
      "rowLimit": 10000
     },
     "inputWidgets": {},
     "nuid": "c8fb7c4b-f75e-435a-8d6d-a2c9d6f07fd7",
     "showTitle": false,
     "tableResultSettingsMap": {},
     "title": ""
    }
   },
   "outputs": [],
   "source": [
    "%python\n",
    "# definindo o tamanho da figura\n",
    "plt.figure(figsize=(12,6))\n",
    "# criando o grafico de valor por litro importado\n",
    "grafico_valor_por_litro_importado = sns.barplot(data = valor_por_litro_importado,x = 'Valor do Litro Importado (US$)',y= 'origem',color = 'tan')\n",
    "# adicionando o rotulo de dados no grafico de valor por litro\n",
    "for p in grafico_valor_por_litro_importado.patches:\n",
    "    width = p.get_width()\n",
    "    grafico_valor_por_litro_importado.annotate(f'$ {width:.1f}',\n",
    "                 (p.get_x() + width, p.get_y() + p.get_height() / 2),\n",
    "                 ha='center', va='center', xytext=(25, 0),\n",
    "                 textcoords='offset points')\n",
    "# chamando a função de costumização para graficos na horizontal\n",
    "grafico_horizontal(grafico_valor_por_litro_importado,valor_por_litro_importado['Valor do Litro Importado (US$)'],'Valor do Litro Importado (US$)')"
   ]
  },
  {
   "cell_type": "code",
   "execution_count": 0,
   "metadata": {
    "application/vnd.databricks.v1+cell": {
     "cellMetadata": {
      "byteLimit": 2048000,
      "rowLimit": 10000
     },
     "inputWidgets": {},
     "nuid": "0355c20c-8b17-443f-9e66-0cf2cff809da",
     "showTitle": false,
     "tableResultSettingsMap": {},
     "title": ""
    }
   },
   "outputs": [],
   "source": [
    "%python\n",
    "#criando o dataframe de quantidade de importacao por país e por ano\n",
    "quantidade_importacao = df_importacao_filtrado[['origem','ano','quantidade_importada']]\n",
    "# substituindo os valores NaN por 0\n",
    "quantidade_importacao.fillna(0,inplace=True)\n",
    "# abrindo o dataframe por ano com o pivot\n",
    "quantidade_importacao = quantidade_importacao.pivot(index='origem',columns='ano',values='quantidade_importada')\n"
   ]
  },
  {
   "cell_type": "code",
   "execution_count": 0,
   "metadata": {
    "application/vnd.databricks.v1+cell": {
     "cellMetadata": {
      "byteLimit": 2048000,
      "rowLimit": 10000
     },
     "inputWidgets": {},
     "nuid": "fcd7b8f9-a8fe-4e48-aff2-22c630aff311",
     "showTitle": false,
     "tableResultSettingsMap": {},
     "title": ""
    }
   },
   "outputs": [],
   "source": [
    "%python\n",
    "# calculando a taxa de crescimento anual composta de importacao de vinhos para cada país(CARG Importação)\n",
    "carg_quantidade_importacao = (quantidade_importacao.iloc[:, -1] / quantidade_importacao.iloc[:, 0]) ** (1 / (quantidade_importacao.shape[1] - 1)) - 1\n",
    "# substituindo os valores 'inf' e '-inf' por NaN\n",
    "carg_quantidade_importacao.replace([np.inf, -np.inf], np.nan, inplace=True)\n",
    "# substituindo os valores NaN por 0\n",
    "carg_quantidade_importacao.fillna(0,inplace=True)\n",
    "# ordenando os países com maior CARG Producao\n",
    "carg_quantidade_importacao = carg_quantidade_importacao.sort_values(ascending=False)\n",
    "# selecionando os top 10 com maior taxa de crescimento anual composta de importação de vinho \n",
    "top10_taxa_de_importacao_quantidade = carg_quantidade_importacao.head(10)\n",
    "# transformando o valor em porcentagem \n",
    "top10_taxa_de_importacao_quantidade = (top10_taxa_de_importacao_quantidade * 100).round(2)\n",
    "# criando o dataframe\n",
    "top10_taxa_de_importacao_quantidade = pd.DataFrame(top10_taxa_de_importacao_quantidade, columns=['Taxa de Crescimento anual de Quantidade de Vinho Importada'])\n",
    "# transformando 'origem' de índice em coluna\n",
    "top10_taxa_de_importacao_quantidade = top10_taxa_de_importacao_quantidade.reset_index()"
   ]
  },
  {
   "cell_type": "code",
   "execution_count": 0,
   "metadata": {
    "application/vnd.databricks.v1+cell": {
     "cellMetadata": {
      "byteLimit": 2048000,
      "rowLimit": 10000
     },
     "inputWidgets": {},
     "nuid": "c4bc6c66-b0c5-4734-9f4d-b12a7c780818",
     "showTitle": false,
     "tableResultSettingsMap": {},
     "title": ""
    }
   },
   "outputs": [],
   "source": [
    "%python\n",
    "#criando o dataframe de valor de importacao por país e por ano\n",
    "valor_importacao = df_importacao_filtrado[['origem','ano','valor']]\n",
    "# substituindo os valores NaN por 0\n",
    "valor_importacao.fillna(0,inplace=True)\n",
    "# abrindo o dataframe por ano com o pivot\n",
    "valor_importacao = valor_importacao.pivot(index='origem',columns='ano',values='valor')"
   ]
  },
  {
   "cell_type": "code",
   "execution_count": 0,
   "metadata": {
    "application/vnd.databricks.v1+cell": {
     "cellMetadata": {
      "byteLimit": 2048000,
      "rowLimit": 10000
     },
     "inputWidgets": {},
     "nuid": "8f6be3e9-ee3e-476d-b5ea-142ee39b5e13",
     "showTitle": false,
     "tableResultSettingsMap": {},
     "title": ""
    }
   },
   "outputs": [],
   "source": [
    "%python\n",
    "# calculando a taxa de crescimento anual composta de importacao de vinhos para cada país(CARG Importação)\n",
    "carg_valor_importacao = (valor_importacao.iloc[:, -1] / valor_importacao.iloc[:, 0]) ** (1 / (valor_importacao.shape[1] - 1)) - 1\n",
    "# substituindo os valores 'inf' e '-inf' por NaN\n",
    "carg_valor_importacao.replace([np.inf, -np.inf], np.nan, inplace=True)\n",
    "# substituindo os valores NaN por 0\n",
    "carg_valor_importacao.fillna(0,inplace=True)\n",
    "# ordenando os países com maior CARG Producao\n",
    "carg_valor_importacao = carg_valor_importacao.sort_values(ascending=False)\n",
    "# selecionando os top 10 com maior taxa de crescimento anual composta de importação de vinho \n",
    "top10_taxa_de_importacao_valor = carg_valor_importacao.head(10)\n",
    "# transformando o valor em porcentagem \n",
    "top10_taxa_de_importacao_valor = (top10_taxa_de_importacao_valor * 100).round(2)\n",
    "# criando o dataframe\n",
    "top10_taxa_de_importacao_valor = pd.DataFrame(top10_taxa_de_importacao_valor, columns=['Taxa de Crescimento anual de Valor de Vinho Importada'])\n",
    "# transformando 'origem' de índice em coluna\n",
    "top10_taxa_de_importacao_valor = top10_taxa_de_importacao_valor.reset_index()"
   ]
  },
  {
   "cell_type": "code",
   "execution_count": 0,
   "metadata": {
    "application/vnd.databricks.v1+cell": {
     "cellMetadata": {
      "byteLimit": 2048000,
      "rowLimit": 10000
     },
     "inputWidgets": {},
     "nuid": "8e1df508-c116-4edf-8093-00886ab715ab",
     "showTitle": false,
     "tableResultSettingsMap": {},
     "title": ""
    }
   },
   "outputs": [],
   "source": [
    "%python\n",
    "# criando a figura com os dois graficos\n",
    "fig,(ax1,ax2) = plt.subplots(1,2,figsize=(16,5))\n",
    "\n",
    "#criando o grafico do top 10 com maior crescimento de importação por quantidade importada\n",
    "ax1 = sns.barplot(data = top10_taxa_de_importacao_quantidade,x ='Taxa de Crescimento anual de Quantidade de Vinho Importada',y = 'origem',color = 'tan',ax=ax1)\n",
    "# adicionando o rotulo de dados no grafico de valor importado\n",
    "for p in ax1.patches:\n",
    "    width = p.get_width()\n",
    "    ax1.annotate(f'{width:.2f} %',\n",
    "                 (p.get_x() + width, p.get_y() + p.get_height() / 2),\n",
    "                 ha='center', va='center', xytext=(-25, 0),\n",
    "                 textcoords='offset points')\n",
    "# chamando a função de costumização para graficos na horizontal\n",
    "grafico_horizontal(ax1,top10_taxa_de_importacao_quantidade['Taxa de Crescimento anual de Quantidade de Vinho Importada'],'Países com Maior Crescimento em Quantidade (Litros) Importado \\n no Mercado Brasileiro entre 2008 e 2022')\n",
    "\n",
    "\n",
    "#criando o grafico de quantidade importada\n",
    "ax2 = sns.barplot(data = top10_taxa_de_importacao_valor,x ='Taxa de Crescimento anual de Valor de Vinho Importada',y = 'origem',color = 'sienna',ax=ax2)\n",
    "# adicionando o rotulo de dados no grafico de quantidade importada\n",
    "for p in ax2.patches:\n",
    "    width = p.get_width()\n",
    "    ax2.annotate(f'{width:.2f} %',\n",
    "                 (p.get_x() + width, p.get_y() + p.get_height() / 2),\n",
    "                 ha='center', va='center', xytext=(-25, 0),\n",
    "                 textcoords='offset points')\n",
    "# chamando a função de costumização para graficos na horizontal\n",
    "grafico_horizontal(ax2,top10_taxa_de_importacao_valor['Taxa de Crescimento anual de Valor de Vinho Importada'],'Países com Maior Crescimento em Valor (US$) Importado \\n no Mercado Brasileiro entre 2008 e 2022')\n"
   ]
  },
  {
   "cell_type": "code",
   "execution_count": 0,
   "metadata": {
    "application/vnd.databricks.v1+cell": {
     "cellMetadata": {
      "byteLimit": 2048000,
      "rowLimit": 10000
     },
     "inputWidgets": {},
     "nuid": "920bb5f2-baa2-455f-a070-6826847355d3",
     "showTitle": false,
     "tableResultSettingsMap": {},
     "title": ""
    }
   },
   "outputs": [],
   "source": [
    "%python\n",
    "\n",
    "# Consulta Spark SQL\n",
    "df_exportacao = spark.sql(\"SELECT * FROM workspace.pos_fiap.exportacao\")\n",
    "# Converte Spark DataFrame para Pandas\n",
    "df_exportacao = df_exportacao.toPandas()\n",
    "\n",
    "\n",
    "df_exportacao_filtrado  = df_exportacao[(df_exportacao['tipo_exportacao'] == 'Vinhos')]"
   ]
  },
  {
   "cell_type": "code",
   "execution_count": 0,
   "metadata": {
    "application/vnd.databricks.v1+cell": {
     "cellMetadata": {
      "byteLimit": 2048000,
      "rowLimit": 10000
     },
     "inputWidgets": {},
     "nuid": "30fb322f-22cd-4140-8add-44ceac8c97ef",
     "showTitle": false,
     "tableResultSettingsMap": {},
     "title": ""
    }
   },
   "outputs": [],
   "source": [
    "%python\n",
    "# definindo o index como país para filtrar as colunas de 2008 a 2022\n",
    "exportacao = df_exportacao_filtrado.set_index('destino')\n"
   ]
  },
  {
   "cell_type": "code",
   "execution_count": 0,
   "metadata": {
    "application/vnd.databricks.v1+cell": {
     "cellMetadata": {
      "byteLimit": 2048000,
      "rowLimit": 10000
     },
     "inputWidgets": {},
     "nuid": "41bfbc16-fb5f-41e0-ab18-01383cd38b98",
     "showTitle": false,
     "tableResultSettingsMap": {},
     "title": ""
    }
   },
   "outputs": [],
   "source": [
    "%python\n",
    "exportacao_total_anos = df_exportacao_filtrado.groupby('ano')[['quantidade_exportada','valor']].sum()\n",
    "exportacao_total_anos = exportacao_total_anos / 1_000_000\n",
    "exportacao_total_anos.reset_index(inplace=True)"
   ]
  },
  {
   "cell_type": "code",
   "execution_count": 0,
   "metadata": {
    "application/vnd.databricks.v1+cell": {
     "cellMetadata": {
      "byteLimit": 2048000,
      "rowLimit": 10000
     },
     "inputWidgets": {},
     "nuid": "10c294e6-f1a2-430d-a9b9-c900d5f0f4e2",
     "showTitle": false,
     "tableResultSettingsMap": {},
     "title": ""
    }
   },
   "outputs": [],
   "source": [
    "%python\n",
    "# criando a figura com os dois graficos\n",
    "fig,(ax1,ax2) = plt.subplots(2,1,figsize=(12,4))\n",
    "#criando Exportação por quantidade \n",
    "grafico_exportacao_linha_quantidade = sns.lineplot(data = exportacao_total_anos, x = 'ano',y ='quantidade_exportada',ax = ax1,color = 'tan',marker = 'o')\n",
    "# Criando rótulo de dados no gráfico de linha de quantidade\n",
    "for index, row in exportacao_total_anos.iterrows():\n",
    "    ax1.text(row['ano'], row['quantidade_exportada'] + 2, f'{row[\"quantidade_exportada\"]:.2f} M', \n",
    "             ha='center', va='bottom', fontsize=9)\n",
    "# chamando a função de costumização do grafico\n",
    "grafico_vertical(grafico_exportacao_linha_quantidade,exportacao_total_anos['quantidade_exportada'],'Quantidade Exportada 2009 - 2024')\n",
    "\n",
    "#criando Exportação por quantidade \n",
    "grafico_exportacao_linha_valor = sns.lineplot(data = exportacao_total_anos, x = 'ano',y ='valor',ax = ax2,color = 'sienna',marker = 'o')\n",
    "# Criando rótulo de dados no gráfico de linha de quantidade\n",
    "for index, row in exportacao_total_anos.iterrows():\n",
    "    ax2.text(row['ano'], row['valor'] + 1, f'$ {row[\"valor\"]:.2f} M', \n",
    "             ha='center', va='bottom', fontsize=9)\n",
    "# chamando a função de costumização do grafico\n",
    "grafico_vertical(grafico_exportacao_linha_valor,exportacao_total_anos['valor'],'Valor Exportada 2009 - 2024')\n"
   ]
  },
  {
   "cell_type": "code",
   "execution_count": 0,
   "metadata": {
    "application/vnd.databricks.v1+cell": {
     "cellMetadata": {
      "byteLimit": 2048000,
      "rowLimit": 10000
     },
     "inputWidgets": {},
     "nuid": "75cedfbd-cd53-4410-a861-04b9db189d15",
     "showTitle": false,
     "tableResultSettingsMap": {},
     "title": ""
    }
   },
   "outputs": [],
   "source": [
    "%python\n",
    "\n",
    "# juntando os dataframes\n",
    "importacao_exportacao = pd.merge(df_importacao_filtrado,df_exportacao_filtrado,on =['origem','ano'])"
   ]
  },
  {
   "cell_type": "code",
   "execution_count": 0,
   "metadata": {
    "application/vnd.databricks.v1+cell": {
     "cellMetadata": {
      "byteLimit": 2048000,
      "rowLimit": 10000
     },
     "inputWidgets": {},
     "nuid": "78fc0f28-19e9-4349-9e6f-be29ddbfeeba",
     "showTitle": false,
     "tableResultSettingsMap": {},
     "title": ""
    }
   },
   "outputs": [],
   "source": [
    "%python\n",
    "# criando o dataframe da exportação apenas da Rússia \n",
    "exportacao_russia = importacao_exportacao[importacao_exportacao['destino_y'] == 'Russia']\n",
    "# eliminando coluna de importação\n",
    "exportacao_russia.drop(['quantidade_importada','valor_x'],axis=1,inplace=True)\n",
    "# dividindo os valores por 1 milhão \n",
    "exportacao_russia['quantidade_exportada'] = exportacao_russia['quantidade_exportada'] / 1_000_000\n",
    "exportacao_russia['valor_y'] = exportacao_russia['valor_y'] / 1_000_000\n"
   ]
  },
  {
   "cell_type": "code",
   "execution_count": 0,
   "metadata": {
    "application/vnd.databricks.v1+cell": {
     "cellMetadata": {
      "byteLimit": 2048000,
      "rowLimit": 10000
     },
     "inputWidgets": {},
     "nuid": "a0b1ff39-ca09-4695-932f-3553e8aae8c5",
     "showTitle": false,
     "tableResultSettingsMap": {},
     "title": ""
    }
   },
   "outputs": [],
   "source": [
    "%python\n",
    "print(exportacao_russia['ano'].unique())\n"
   ]
  },
  {
   "cell_type": "code",
   "execution_count": 0,
   "metadata": {
    "application/vnd.databricks.v1+cell": {
     "cellMetadata": {
      "byteLimit": 2048000,
      "rowLimit": 10000
     },
     "inputWidgets": {},
     "nuid": "63e72717-a8ee-4b63-a989-a18ef52afbe6",
     "showTitle": false,
     "tableResultSettingsMap": {},
     "title": ""
    }
   },
   "outputs": [],
   "source": [
    "%python\n",
    "# criando a figura\n",
    "plt.figure(figsize = (12,3))\n",
    "# criando o grafico de quantidade\n",
    "quantidade_russia = sns.lineplot(data = exportacao_russia, x = 'ano' ,y = 'quantidade_exportada', color= '#F1B951',marker='o')\n",
    "\n",
    "# Criando rótulo de dados no gráfico de quantidade da Rússia\n",
    "for index, row in exportacao_russia.iterrows():\n",
    "    plt.text(row['ano'], row['quantidade_exportada'] + 1, f'{row[\"quantidade_exportada\"]:.0f} M', ha='center', va='bottom', fontsize=9) \n",
    "\n",
    "\n",
    "# criando o grafico de valor\n",
    "valor_russia = sns.lineplot(data = exportacao_russia, x = 'ano' ,y = 'valor_y', color= '#5E8EAC',marker='o')\n",
    "\n",
    "# Criando rótulo de dados no gráfico de valor da Rússia\n",
    "for index, row in exportacao_russia.iterrows():\n",
    "    plt.text(row['ano'], row['valor_y'] + 1, f'{row[\"valor_y\"]:.0f} M', ha='center', va='bottom', fontsize=9)\n",
    "\n",
    "# Adicionando legendas para cada gráfico\n",
    "russia_quantidade = plt.Line2D([], [], color='#F1B951', marker='o', linestyle='--', label='Total de Litros')\n",
    "russia_valor = plt.Line2D([], [], color='#5E8EAC', marker='o', linestyle='--', label='Valor (US$)')\n",
    "plt.legend(handles=[russia_quantidade, russia_valor], loc='upper right') \n",
    "# chamando a função de costumização de grafico\n",
    "grafico_vertical(quantidade_russia,exportacao_russia['quantidade_exportada'],'Litros e Valor Exportado - Russia')\n",
    "plt.grid()"
   ]
  },
  {
   "cell_type": "code",
   "execution_count": 0,
   "metadata": {
    "application/vnd.databricks.v1+cell": {
     "cellMetadata": {
      "byteLimit": 2048000,
      "rowLimit": 10000
     },
     "inputWidgets": {},
     "nuid": "08827d8f-e19d-4752-9e0a-82e408e2ad74",
     "showTitle": false,
     "tableResultSettingsMap": {},
     "title": ""
    }
   },
   "outputs": [],
   "source": [
    "%python\n",
    "# calculando a exportacao por país\n",
    "exportacao_por_pais = importacao_exportacao.groupby('destino_y')[['quantidade_exportada','valor_y']].sum()\n",
    "# dividindo por 1 milhão \n",
    "exportacao_por_pais = (exportacao_por_pais / 1_000_000).round(1)\n",
    "#ordenando por quantidade e criando um dataframe por quantidade dos top 10 países\n",
    "exportacao_por_pais.sort_values(by = 'quantidade_exportada',ascending = False,inplace = True)\n",
    "exportacao_por_pais_quantidade = exportacao_por_pais.head(10)\n",
    "exportacao_por_pais_quantidade.reset_index(inplace=True)\n",
    "#ordenando por valor e criando um dataframe por valor dos top 10 países\n",
    "exportacao_por_pais.sort_values(by = 'valor_y',ascending = False,inplace = True)\n",
    "exportacao_por_pais_valor = exportacao_por_pais.head(10)\n",
    "exportacao_por_pais_valor.reset_index(inplace=True)"
   ]
  },
  {
   "cell_type": "code",
   "execution_count": 0,
   "metadata": {
    "application/vnd.databricks.v1+cell": {
     "cellMetadata": {
      "byteLimit": 2048000,
      "rowLimit": 10000
     },
     "inputWidgets": {},
     "nuid": "5d12f79f-2502-4fbf-9087-c2fc02e5af9e",
     "showTitle": false,
     "tableResultSettingsMap": {},
     "title": ""
    }
   },
   "outputs": [],
   "source": [
    "%python\n",
    "# criando a figura com os dois graficos\n",
    "fig,(ax1,ax2) = plt.subplots(1,2,figsize=(10,4))\n",
    "\n",
    "#criando o grafico de valor exportado\n",
    "ax1 = sns.barplot(data = exportacao_por_pais_valor,x ='valor_y',y = 'destino_y',color = 'tan',ax=ax1)\n",
    "# adicionando o rotulo de dados no grafico de valor exportado\n",
    "for p in ax1.patches:\n",
    "    width = p.get_width()\n",
    "    ax1.annotate(f'{width:.1f} Mi',\n",
    "                 (p.get_x() + width, p.get_y() + p.get_height() / 2),\n",
    "                 ha='center', va='center', xytext=(25, 0),\n",
    "                 textcoords='offset points')\n",
    "# chamando a função de costumização para graficos na horizontal\n",
    "grafico_horizontal(ax1,exportacao_por_pais_valor['valor_y'],'Top 10 Países que mais Exportaram (US$)')\n",
    "\n",
    "\n",
    "#criando o grafico de quantidade exportada\n",
    "ax2 = sns.barplot(data = exportacao_por_pais_quantidade,x ='quantidade_exportada',y = 'destino_y',color = 'sienna',ax=ax2)\n",
    "# adicionando o rotulo de dados no grafico de quantidade exportada\n",
    "for p in ax2.patches:\n",
    "    width = p.get_width()\n",
    "    ax2.annotate(f'{width:.1f} Mi',\n",
    "                 (p.get_x() + width, p.get_y() + p.get_height() / 2),\n",
    "                 ha='center', va='center', xytext=(25, 0),\n",
    "                 textcoords='offset points')\n",
    "# chamando a função de costumização para graficos na horizontal\n",
    "grafico_horizontal(ax2,exportacao_por_pais_quantidade['quantidade_exportada'],'Top 10 Países que mais Exportaram (Litros)')"
   ]
  },
  {
   "cell_type": "code",
   "execution_count": 0,
   "metadata": {
    "application/vnd.databricks.v1+cell": {
     "cellMetadata": {
      "byteLimit": 2048000,
      "rowLimit": 10000
     },
     "inputWidgets": {},
     "nuid": "cf8b5fd8-fe38-4185-a4e1-b873f9ef40c6",
     "showTitle": false,
     "tableResultSettingsMap": {},
     "title": ""
    }
   },
   "outputs": [],
   "source": [
    "%python\n",
    "# calculando a exportacao por país para obter valor por litro\n",
    "valor_por_litro_exportado = importacao_exportacao.groupby('destino_y')[['quantidade_exportada','valor_y']].sum()\n",
    "#ordenando por valor exportado\n",
    "valor_por_litro_exportado.sort_values(by='valor_y',ascending=False,inplace=True)\n",
    "# pegando o top 10 de valor exportado\n",
    "valor_por_litro_exportado = valor_por_litro_exportado.head(10)\n",
    "valor_por_litro_exportado.reset_index(inplace=True)\n",
    "#criando a coluna de valor do litro exportado\n",
    "valor_por_litro_exportado['Valor do Litro Exportado(US$)'] = valor_por_litro_exportado['valor_y'] / valor_por_litro_exportado['quantidade_exportada']\n",
    "# ordenando por valor do litro exportado\n",
    "valor_por_litro_exportado.sort_values(by='Valor do Litro Exportado(US$)',ascending=False,inplace=True)"
   ]
  },
  {
   "cell_type": "code",
   "execution_count": 0,
   "metadata": {
    "application/vnd.databricks.v1+cell": {
     "cellMetadata": {
      "byteLimit": 2048000,
      "rowLimit": 10000
     },
     "inputWidgets": {},
     "nuid": "b2bca570-bba4-4220-96a2-8472f17b22cd",
     "showTitle": false,
     "tableResultSettingsMap": {},
     "title": ""
    }
   },
   "outputs": [],
   "source": [
    "%python\n",
    "# definindo o tamanho da figura\n",
    "plt.figure(figsize=(10,4))\n",
    "# criando o grafico de valor por litro exportado\n",
    "grafico_valor_por_litro_exportado = sns.barplot(data = valor_por_litro_exportado,x = 'Valor do Litro Exportado(US$)',y= 'destino_y',color = 'tan')\n",
    "# adicionando o rotulo de dados no grafico de valor por litro\n",
    "for p in grafico_valor_por_litro_exportado.patches:\n",
    "    width = p.get_width()\n",
    "    grafico_valor_por_litro_exportado.annotate(f'$ {width:.1f}',\n",
    "                 (p.get_x() + width, p.get_y() + p.get_height() / 2),\n",
    "                 ha='center', va='center', xytext=(25, 0),\n",
    "                 textcoords='offset points')\n",
    "# chamando a função de costumização para graficos na horizontal\n",
    "grafico_horizontal(grafico_valor_por_litro_exportado,valor_por_litro_exportado['Valor do Litro Exportado(US$)'],'Valor do Litro Exportado (US$)')\n"
   ]
  },
  {
   "cell_type": "code",
   "execution_count": 0,
   "metadata": {
    "application/vnd.databricks.v1+cell": {
     "cellMetadata": {
      "byteLimit": 2048000,
      "rowLimit": 10000
     },
     "inputWidgets": {},
     "nuid": "cef74cc5-cb2e-4ccc-ae01-3dabb1e496a2",
     "showTitle": false,
     "tableResultSettingsMap": {},
     "title": ""
    }
   },
   "outputs": [],
   "source": [
    "%python\n",
    "# calculando a variação da quantidade exportada com relaão ao ano anterior\n",
    "exportacao_total_anos['Variação'] = exportacao_total_anos['quantidade_exportada'].pct_change() * 100\n",
    "exportacao_total_anos.fillna(0,inplace=True)"
   ]
  },
  {
   "cell_type": "code",
   "execution_count": 0,
   "metadata": {
    "application/vnd.databricks.v1+cell": {
     "cellMetadata": {
      "byteLimit": 2048000,
      "rowLimit": 10000
     },
     "inputWidgets": {},
     "nuid": "40385769-f3d8-4a7d-bb0e-2c488a6004b2",
     "showTitle": false,
     "tableResultSettingsMap": {},
     "title": ""
    }
   },
   "outputs": [],
   "source": [
    "%python\n",
    "# criando a tabela de exportacao\n",
    "top_exportacao_brasil = exportacao_por_pais\n",
    "# adicionando a escala de milhar nas colunas \n",
    "top_exportacao_brasil['Quantidade Exportada(Kg)'] = top_exportacao_brasil['quantidade_exportada'].apply(lambda x: f'{x :.2f} Mi')\n",
    "top_exportacao_brasil['Valor Exportado(US$)'] = top_exportacao_brasil['valor_y'].apply(lambda x: f'{x :.2f} Mi')\n",
    "#resetando o index \n",
    "top_exportacao_brasil.reset_index(inplace=True)\n",
    "# adicionando a coluna País de Origem\n",
    "top_exportacao_brasil['País de Origem'] = 'Brasil'\n",
    "# alterando a ordem das colunas \n",
    "top_exportacao_brasil = top_exportacao_brasil.reindex(columns = ['País de Origem','destino_y','quantidade_exportada','valor_y'])\n",
    "# renomeando as colunas\n",
    "top_exportacao_brasil.columns = [['País de Origem','País Destino','Quantidade Exportada(L)','Valor Exportado(US$)']]\n",
    "top_exportacao_brasil.head(10)"
   ]
  },
  {
   "cell_type": "code",
   "execution_count": 0,
   "metadata": {
    "application/vnd.databricks.v1+cell": {
     "cellMetadata": {
      "byteLimit": 2048000,
      "rowLimit": 10000
     },
     "inputWidgets": {},
     "nuid": "6ad99a94-46fc-44f3-81a1-d71f566762b2",
     "showTitle": false,
     "tableResultSettingsMap": {},
     "title": ""
    }
   },
   "outputs": [],
   "source": [
    "\n",
    "%python\n",
    "# criando a lista com os ultimos 5 anos \n",
    "lista_anos = [2020,2021,2022,2023,2024]\n",
    "# filtrando os ultimos 5 anos \n",
    "ultimos_cinco_anos = importacao_exportacao[importacao_exportacao['ano'].isin(lista_anos)]"
   ]
  },
  {
   "cell_type": "code",
   "execution_count": 0,
   "metadata": {
    "application/vnd.databricks.v1+cell": {
     "cellMetadata": {
      "byteLimit": 2048000,
      "rowLimit": 10000
     },
     "inputWidgets": {},
     "nuid": "afe48eaf-9fd2-4d2e-957d-4287e3195011",
     "showTitle": false,
     "tableResultSettingsMap": {},
     "title": ""
    }
   },
   "outputs": [],
   "source": [
    "%python\n",
    "# criando a lista com os ultimos 5 anos \n",
    "lista_anos = [2020,2021,2022,2023,2024]\n",
    "# filtrando os ultimos 5 anos \n",
    "ultimos_cinco_anos = importacao_exportacao[importacao_exportacao['ano'].isin(lista_anos)]\n",
    "# agrupando o valor total dos ultimos 5 anos por país\n",
    "agrupado_ultimos_cinco_anos = ultimos_cinco_anos.groupby('destino_y')[['quantidade_exportada','valor_y']].sum()\n",
    "# ordenando os top 5 países que mais exportaram para o Brasil nos ultimos 5 anos \n",
    "agrupado_ultimos_cinco_anos = agrupado_ultimos_cinco_anos.sort_values(by = 'quantidade_exportada',ascending=False).head()\n",
    "agrupado_ultimos_cinco_anos"
   ]
  },
  {
   "cell_type": "code",
   "execution_count": 0,
   "metadata": {
    "application/vnd.databricks.v1+cell": {
     "cellMetadata": {
      "byteLimit": 2048000,
      "rowLimit": 10000
     },
     "inputWidgets": {},
     "nuid": "9766d2f7-c3a0-41d1-8825-d4c4496a8817",
     "showTitle": false,
     "tableResultSettingsMap": {},
     "title": ""
    }
   },
   "outputs": [],
   "source": [
    "%python\n",
    "#lista dos paises que mais exportaram\n",
    "lista_de_paises_5_anos = agrupado_ultimos_cinco_anos.index.tolist()\n",
    "# filtrando apenas os top 5 paises que mais exportaram\n",
    "top5_ultimos_cinco_anos = importacao_exportacao[importacao_exportacao['destino_y'].isin(lista_de_paises_5_anos)]\n",
    "# filtrando apenas os ultimos 5 anos\n",
    "top5_ultimos_cinco_anos = top5_ultimos_cinco_anos[top5_ultimos_cinco_anos['ano'].isin(lista_anos)]"
   ]
  },
  {
   "cell_type": "code",
   "execution_count": 0,
   "metadata": {
    "application/vnd.databricks.v1+cell": {
     "cellMetadata": {
      "byteLimit": 2048000,
      "rowLimit": 10000
     },
     "inputWidgets": {},
     "nuid": "ba977328-c126-470d-ab85-3c7363325967",
     "showTitle": false,
     "tableResultSettingsMap": {},
     "title": ""
    }
   },
   "outputs": [],
   "source": [
    "%python\n",
    "# criando a figura\n",
    "plt.figure(figsize=(12,4))\n",
    "# criando o grafico\n",
    "grafico_ultimos_5_anos = sns.lineplot(data = top5_ultimos_cinco_anos,x = 'ano',y='quantidade_exportada',hue='destino_y')\n",
    "# chamando a função de costumização\n",
    "grafico_vertical(grafico_ultimos_5_anos,top5_ultimos_cinco_anos['quantidade_exportada'],'Países que mais exportaram nos últimos 5 anos (em Litros)')"
   ]
  },
  {
   "cell_type": "code",
   "execution_count": 0,
   "metadata": {
    "application/vnd.databricks.v1+cell": {
     "cellMetadata": {
      "byteLimit": 2048000,
      "rowLimit": 10000
     },
     "inputWidgets": {},
     "nuid": "46ddea20-0cb5-4387-b927-1a7631d4084e",
     "showTitle": false,
     "tableResultSettingsMap": {},
     "title": ""
    }
   },
   "outputs": [],
   "source": [
    "%python\n",
    "# removendo as duas ultimas linhas do dataframe que não correspondem a dados do dataframe \n",
    "mercado = mercado.iloc[:-2]\n",
    "mercado.head()"
   ]
  },
  {
   "cell_type": "code",
   "execution_count": 0,
   "metadata": {
    "application/vnd.databricks.v1+cell": {
     "cellMetadata": {
      "byteLimit": 2048000,
      "rowLimit": 10000
     },
     "inputWidgets": {},
     "nuid": "a85891a5-fb6d-4d63-9bc4-c7f45a59349e",
     "showTitle": false,
     "tableResultSettingsMap": {},
     "title": ""
    }
   },
   "outputs": [],
   "source": [
    "# alterando o nome das colunas\n",
    "mercado.columns = ['Continente', 'País', 'Produto', 'Categoria', 'Ano', 'Unidade',\n",
    "       'Quantidade']\n",
    "# Visualizando o tipo de dados de cada coluna\n",
    "mercado.info()"
   ]
  },
  {
   "cell_type": "code",
   "execution_count": 0,
   "metadata": {
    "application/vnd.databricks.v1+cell": {
     "cellMetadata": {
      "byteLimit": 2048000,
      "rowLimit": 10000
     },
     "inputWidgets": {},
     "nuid": "e25e4c51-8b7d-4246-beba-cccd99d114bf",
     "showTitle": false,
     "tableResultSettingsMap": {},
     "title": ""
    }
   },
   "outputs": [],
   "source": [
    "%python\n",
    "# Vizualizando o tipo de produto presente na base \n",
    "mercado['Produto'].unique()"
   ]
  },
  {
   "cell_type": "code",
   "execution_count": 0,
   "metadata": {
    "application/vnd.databricks.v1+cell": {
     "cellMetadata": {
      "byteLimit": 2048000,
      "rowLimit": 10000
     },
     "inputWidgets": {},
     "nuid": "a42f9104-3874-44ff-8ec1-52049d5c19e0",
     "showTitle": false,
     "tableResultSettingsMap": {},
     "title": ""
    }
   },
   "outputs": [],
   "source": [
    "%python\n",
    "# removendo as duas ultimas linhas do dataframe que não correspondem a dados do dataframe \n",
    "mercado = mercado.iloc[:-2]"
   ]
  },
  {
   "cell_type": "code",
   "execution_count": 0,
   "metadata": {
    "application/vnd.databricks.v1+cell": {
     "cellMetadata": {
      "byteLimit": 2048000,
      "rowLimit": 10000
     },
     "inputWidgets": {},
     "nuid": "d3c3f594-2e87-41e0-8b9c-162fc3c67bb5",
     "showTitle": false,
     "tableResultSettingsMap": {},
     "title": ""
    }
   },
   "outputs": [],
   "source": [
    "%python\n",
    "# Visualizar o tamanho do dataframe Mercado Global de Vinhos\n",
    "print(f\"Linhas da tabela Mercado Global de Vinhos: {mercado.shape[0]}\")\n",
    "print(f\"Colunas da tabela Mercado Global de Vinhos: {mercado.shape[1]}\")\n",
    "# Visualizar o ano inicial e o ano final da base \n",
    "print(f\"O primeiro ano registrado na tabela é : {mercado['Ano'].min()}\")\n",
    "print(f\"O último ano registrado na tabela é : {mercado['Ano'].max()}\")\n"
   ]
  },
  {
   "cell_type": "code",
   "execution_count": 0,
   "metadata": {
    "application/vnd.databricks.v1+cell": {
     "cellMetadata": {
      "byteLimit": 2048000,
      "rowLimit": 10000
     },
     "inputWidgets": {},
     "nuid": "494a1db2-cc3e-4676-b7fa-1d7125d8f1d8",
     "showTitle": false,
     "tableResultSettingsMap": {},
     "title": ""
    }
   },
   "outputs": [],
   "source": [
    "%python\n",
    "# Excluindo a coluna Produto pois toda a tabela se trata apenas de um produto Vinho \n",
    "mercado.drop('Produto',axis = 1,inplace = True)\n",
    "# visuzalizando os dados referentes a categoria \n",
    "mercado['Categoria'].unique()\n"
   ]
  },
  {
   "cell_type": "code",
   "execution_count": 0,
   "metadata": {
    "application/vnd.databricks.v1+cell": {
     "cellMetadata": {
      "byteLimit": 2048000,
      "rowLimit": 10000
     },
     "inputWidgets": {},
     "nuid": "49183a28-d686-4721-960a-1f799d1ff56f",
     "showTitle": false,
     "tableResultSettingsMap": {},
     "title": ""
    }
   },
   "outputs": [],
   "source": [
    "%python\n",
    "# traduzindo para o portugues a coluna categoria\n",
    "mercado['Categoria'].replace({'Consumption': 'Consumo',\n",
    "                               'Imports': 'Importação', \n",
    "                               'Production': 'Produção',\n",
    "                                'Exports': 'Exportação'},\n",
    "                                inplace=True)\n",
    "mercado['Categoria'].unique()"
   ]
  },
  {
   "cell_type": "code",
   "execution_count": 0,
   "metadata": {
    "application/vnd.databricks.v1+cell": {
     "cellMetadata": {
      "byteLimit": 2048000,
      "rowLimit": 10000
     },
     "inputWidgets": {},
     "nuid": "f10d9c66-8b18-48ab-9d00-ea9ecfcf21ed",
     "showTitle": false,
     "tableResultSettingsMap": {},
     "title": ""
    }
   },
   "outputs": [],
   "source": [
    "%python\n",
    "# Traduzindo para o portugues a coluna de continente\n",
    "mercado['Continente'].replace('Europe','Europa', inplace=True)\n",
    "mercado['Continente'].unique()\n"
   ]
  },
  {
   "cell_type": "code",
   "execution_count": 0,
   "metadata": {
    "application/vnd.databricks.v1+cell": {
     "cellMetadata": {
      "byteLimit": 2048000,
      "rowLimit": 10000
     },
     "inputWidgets": {},
     "nuid": "79303b55-1b3a-4fc4-9e87-f4d380f0b9d9",
     "showTitle": false,
     "tableResultSettingsMap": {},
     "title": ""
    }
   },
   "outputs": [],
   "source": [
    "%python\n",
    "# Corrigindo a escrita da coluna Ano\n",
    "mercado['Ano'] = mercado['Ano'].astype(str)\n",
    "mercado['Ano'] = mercado['Ano'].str[:-2]\n",
    "mercado['Ano'].unique()"
   ]
  },
  {
   "cell_type": "code",
   "execution_count": 0,
   "metadata": {
    "application/vnd.databricks.v1+cell": {
     "cellMetadata": {
      "byteLimit": 2048000,
      "rowLimit": 10000
     },
     "inputWidgets": {},
     "nuid": "d64393bc-271c-40e2-be3d-03af1ad234e6",
     "showTitle": false,
     "tableResultSettingsMap": {},
     "title": ""
    }
   },
   "outputs": [],
   "source": [
    "%python\n",
    "# a coluna Unidade esta em hectolitro ao inves de litro primeiro vamos converter para litro\n",
    "mercado['Unidade'].unique()\n"
   ]
  },
  {
   "cell_type": "code",
   "execution_count": 0,
   "metadata": {
    "application/vnd.databricks.v1+cell": {
     "cellMetadata": {
      "byteLimit": 2048000,
      "rowLimit": 10000
     },
     "inputWidgets": {},
     "nuid": "8e5964a4-1ef1-4594-b1bf-85d1c8e87716",
     "showTitle": false,
     "tableResultSettingsMap": {},
     "title": ""
    }
   },
   "outputs": [],
   "source": [
    "%python\n",
    "# convertendo para litro\n",
    "mercado['Unidade'] = 100_000\n",
    "# agora vamos multiplicar a coluna unidade por quantidade para saber o valor em litro \n",
    "mercado['Quantidade'] = mercado['Unidade'] * mercado['Quantidade']\n",
    "# podemos apagar a coluna Unidade e deixar somente a coluna Quantidade\n",
    "mercado.drop('Unidade',axis= 1,inplace = True)\n",
    "# Renomeando a coluna Quantidade \n",
    "mercado.rename(columns={'Quantidade':'Quantidade(L)'},inplace=True)"
   ]
  },
  {
   "cell_type": "code",
   "execution_count": 0,
   "metadata": {
    "application/vnd.databricks.v1+cell": {
     "cellMetadata": {
      "byteLimit": 2048000,
      "rowLimit": 10000
     },
     "inputWidgets": {},
     "nuid": "656c9c5e-9a2b-4c25-afa1-5137bd87457f",
     "showTitle": false,
     "tableResultSettingsMap": {},
     "title": ""
    }
   },
   "outputs": [],
   "source": [
    "%python\n",
    "# Somando os dados dos 15 anos por país\n",
    "total_por_pais = mercado.groupby(['Continente','País','Categoria'])['Quantidade(L)'].sum().reset_index()\n",
    "total_por_pais.head(10)"
   ]
  },
  {
   "cell_type": "code",
   "execution_count": 0,
   "metadata": {
    "application/vnd.databricks.v1+cell": {
     "cellMetadata": {
      "byteLimit": 2048000,
      "rowLimit": 10000
     },
     "inputWidgets": {},
     "nuid": "81795a85-f755-4f4c-a4a9-d35524d306f3",
     "showTitle": false,
     "tableResultSettingsMap": {},
     "title": ""
    }
   },
   "outputs": [],
   "source": [
    "%python\n",
    "# Abrindo os dados para que cada categoria vire uma coluna \n",
    "total_aberto = total_por_pais.pivot(index='País',columns='Categoria',values='Quantidade(L)')\n",
    "total_aberto.head()"
   ]
  },
  {
   "cell_type": "code",
   "execution_count": 0,
   "metadata": {
    "application/vnd.databricks.v1+cell": {
     "cellMetadata": {
      "byteLimit": 2048000,
      "rowLimit": 10000
     },
     "inputWidgets": {},
     "nuid": "1e5c6638-df93-4bf9-b88a-ab5f509df50d",
     "showTitle": false,
     "tableResultSettingsMap": {},
     "title": ""
    }
   },
   "outputs": [],
   "source": [
    "%python\n",
    "# substituindo os valores nulos por 0\n",
    "total_aberto.fillna(0,inplace=True)\n",
    "# Resetando o index da tabela \n",
    "total_aberto = total_aberto.reset_index()"
   ]
  },
  {
   "cell_type": "code",
   "execution_count": 0,
   "metadata": {
    "application/vnd.databricks.v1+cell": {
     "cellMetadata": {
      "byteLimit": 2048000,
      "rowLimit": 10000
     },
     "inputWidgets": {},
     "nuid": "c72a279f-4002-4fc2-82be-c4bf781cabd7",
     "showTitle": false,
     "tableResultSettingsMap": {},
     "title": ""
    }
   },
   "outputs": [],
   "source": [
    "%python\n",
    "# Ordenando os dados do Mercado Global de Vinhos Total do maior para o menor pela importação\n",
    "total_aberto.sort_values(by = 'Importação',ascending=False,inplace = True)\n",
    "# Retirnado a primeira linha que é referente ao total mundial \n",
    "total_aberto = total_aberto.iloc[1:]\n",
    "# pegando apenas os top 40 que mais importaram vinho nos ultimos 15 anos \n",
    "total_aberto = total_aberto[:40]\n",
    "\n",
    "\n",
    "total_aberto.reset_index(inplace=True)"
   ]
  },
  {
   "cell_type": "code",
   "execution_count": 0,
   "metadata": {
    "application/vnd.databricks.v1+cell": {
     "cellMetadata": {
      "byteLimit": 2048000,
      "rowLimit": 10000
     },
     "inputWidgets": {},
     "nuid": "528fd2a3-e87a-43d9-a674-2130cd7ed2a0",
     "showTitle": false,
     "tableResultSettingsMap": {},
     "title": ""
    }
   },
   "outputs": [],
   "source": [
    "%python\n",
    "# Lista dos 40 países que mais importaram vinhos nos ultimos anos \n",
    "lista_de_paises = total_aberto['País'].unique()\n",
    "print(lista_de_paises)"
   ]
  },
  {
   "cell_type": "code",
   "execution_count": 0,
   "metadata": {
    "application/vnd.databricks.v1+cell": {
     "cellMetadata": {
      "byteLimit": 2048000,
      "rowLimit": 10000
     },
     "inputWidgets": {},
     "nuid": "e8ac5b82-9d8a-4790-a0bd-fb7fd05797cf",
     "showTitle": false,
     "tableResultSettingsMap": {},
     "title": ""
    }
   },
   "outputs": [],
   "source": [
    "%python\n",
    "# criando um dataframe com as categorias em uma coluna apenas com os 40 países que mais importaram \n",
    "mercado_top40 = mercado[mercado['País'].isin(lista_de_paises)]\n",
    "mercado_top40.head()"
   ]
  },
  {
   "cell_type": "code",
   "execution_count": 0,
   "metadata": {
    "application/vnd.databricks.v1+cell": {
     "cellMetadata": {
      "byteLimit": 2048000,
      "rowLimit": 10000
     },
     "inputWidgets": {},
     "nuid": "c6d52276-9c51-4bc9-a2b5-19755000a9d2",
     "showTitle": false,
     "tableResultSettingsMap": {},
     "title": ""
    }
   },
   "outputs": [],
   "source": [
    "%python\n",
    "# Dicionário de tradução dos países para o português\n",
    "paises_traduzidos = {\n",
    "    'Angola': 'Angola', 'Australia': 'Austrália', 'Austria': 'Áustria', 'Belarus': 'Bielorrússia', 'Belgium': 'Bélgica',\n",
    "    'Brazil': 'Brasil', 'Canada': 'Canadá', 'China, Hong Kong SAR': 'Hong Kong', 'China, mainland': 'China', \"Côte d'Ivoire\": 'Costa do Marfim',\n",
    "    'Czech Republic': 'República Tcheca', 'Denmark': 'Dinamarca', 'Finland': 'Finlândia', 'France': 'França', 'Germany': 'Alemanha',\n",
    "    'Ireland': 'Irlanda', 'Italy': 'Itália', 'Japan': 'Japão', 'Korea (the Republic of)': 'Coreia do Sul', 'Latvia': 'Letônia',\n",
    "    'Lithuania': 'Lituânia', 'Mexico': 'México', 'Namibia': 'Namíbia', 'Netherlands': 'Países Baixos', 'New Zealand': 'Nova Zelândia',\n",
    "    'Norway': 'Noruega', 'Paraguay': 'Paraguai', 'Poland': 'Polônia', 'Portugal': 'Portugal', 'Romania': 'Romênia', 'Russia': 'Rússia',\n",
    "    'Singapore': 'Singapura', 'Slovakia': 'Eslováquia', 'Spain': 'Espanha', 'Sweden': 'Suécia', 'Switzerland': 'Suíça', 'Ukraine': 'Ucrânia',\n",
    "    'United Arab Emirates': 'Emirados Árabes Unidos', 'United Kingdom': 'Reino Unido', 'United States of America': 'Estados Unidos',\n",
    "    'Nigeria': 'Nigéria' \n",
    "}\n",
    "# Substituindo o nome dos países \n",
    "mercado_top40['País'] = mercado_top40['País'].replace(paises_traduzidos)\n",
    "# excluindo o Brasil da Lista de Países \n",
    "mercado_top40 = mercado_top40[mercado_top40['País'] != 'Brasil']\n",
    "# verificando se foi alterado o nome dos países\n",
    "mercado_top40['País'].unique()"
   ]
  },
  {
   "cell_type": "code",
   "execution_count": 0,
   "metadata": {
    "application/vnd.databricks.v1+cell": {
     "cellMetadata": {
      "byteLimit": 2048000,
      "rowLimit": 10000
     },
     "inputWidgets": {},
     "nuid": "71b7dbaf-f50e-4c56-b89d-f97a019f3df9",
     "showTitle": false,
     "tableResultSettingsMap": {},
     "title": ""
    }
   },
   "outputs": [],
   "source": [
    "%python\n",
    "# Substituindo o nome dos países no dataframe aberto \n",
    "total_aberto['País'] = total_aberto['País'].replace(paises_traduzidos)\n",
    "# excluindo o Brasil da Lista de Países \n",
    "total_aberto = total_aberto[total_aberto['País'] != 'Brasil']\n",
    "total_aberto"
   ]
  },
  {
   "cell_type": "code",
   "execution_count": 0,
   "metadata": {
    "application/vnd.databricks.v1+cell": {
     "cellMetadata": {
      "byteLimit": 2048000,
      "rowLimit": 10000
     },
     "inputWidgets": {},
     "nuid": "9d6fcb51-6311-4da3-8318-2315c1293068",
     "showTitle": false,
     "tableResultSettingsMap": {},
     "title": ""
    }
   },
   "outputs": [],
   "source": [
    "# excluindo a coluna Exportação do dataframe aberto\n",
    "total_aberto.drop('Exportação',axis=1  ,inplace= True)\n",
    "# Alterando o nome das colunas \n",
    "total_aberto.columns = ['Categoria','País','Consumo Total 15 anos(L)','Importação Total 15 anos(L)','Produção Total 15 anos(L)']"
   ]
  },
  {
   "cell_type": "code",
   "execution_count": 0,
   "metadata": {
    "application/vnd.databricks.v1+cell": {
     "cellMetadata": {
      "byteLimit": 2048000,
      "rowLimit": 10000
     },
     "inputWidgets": {},
     "nuid": "52d403fc-3568-4abf-91e4-30578cb55b3e",
     "showTitle": false,
     "tableResultSettingsMap": {},
     "title": ""
    }
   },
   "outputs": [],
   "source": [
    "\n",
    "# Exibindos as primeiras linhas do dataset\n",
    "populacao.head()"
   ]
  },
  {
   "cell_type": "code",
   "execution_count": 0,
   "metadata": {
    "application/vnd.databricks.v1+cell": {
     "cellMetadata": {
      "byteLimit": 2048000,
      "rowLimit": 10000
     },
     "inputWidgets": {},
     "nuid": "95f743b9-47b9-40c8-a9ae-b9054e174aa9",
     "showTitle": false,
     "tableResultSettingsMap": {},
     "title": ""
    }
   },
   "outputs": [],
   "source": [
    "# excluindo colunas que não seram usadas na analise \n",
    "populacao = populacao.drop(['Unnamed: 0','Posição','Crescimento desde a última estimativa','Estimativa Oficial'],axis=1)\n",
    "# Alterando o nome das colunas \n",
    "populacao.columns = ['País', 'População']"
   ]
  },
  {
   "cell_type": "code",
   "execution_count": 0,
   "metadata": {
    "application/vnd.databricks.v1+cell": {
     "cellMetadata": {
      "byteLimit": 2048000,
      "rowLimit": 10000
     },
     "inputWidgets": {},
     "nuid": "abbd728e-1afb-4aee-85b8-57e498f05196",
     "showTitle": false,
     "tableResultSettingsMap": {},
     "title": ""
    }
   },
   "outputs": [],
   "source": [
    "# obseravando a lista de países no site percebe-se que existe uma diferença na ortografia de alguns países  \n",
    "# Por isso sera feito a correção antes de fazer a união com a outra tabela \n",
    "paises_errados = {'Polónia' :'Polônia', 'Letónia': 'Letônia',  'Hong Kong (China)': 'Hong Kong',\n",
    "                    'Chéquia':'República Tcheca','Roménia': 'Romênia'}\n",
    "# corrigindo o nome dos países no dataframe de população\n",
    "populacao['País'] = populacao['País'].replace(paises_errados)\n",
    "\n",
    "#filtrando apenas os países que usaremos na nossa analise \n",
    "populacao = populacao[populacao['País'].isin(total_aberto['País'].unique().tolist())]"
   ]
  },
  {
   "cell_type": "code",
   "execution_count": 0,
   "metadata": {
    "application/vnd.databricks.v1+cell": {
     "cellMetadata": {
      "byteLimit": 2048000,
      "rowLimit": 10000
     },
     "inputWidgets": {},
     "nuid": "1b37cda1-7205-46d5-b28b-3caf1c61dfdb",
     "showTitle": false,
     "tableResultSettingsMap": {},
     "title": ""
    }
   },
   "outputs": [],
   "source": [
    "# corringindo a coluna de populaçao retirando o espaço em branco dentro do numero e transformando a coluna para tipo numerico\n",
    "populacao['População'] = populacao['População'].str.replace(' ','').astype(int)\n",
    "populacao.head(10)"
   ]
  },
  {
   "cell_type": "code",
   "execution_count": 0,
   "metadata": {
    "application/vnd.databricks.v1+cell": {
     "cellMetadata": {
      "byteLimit": 2048000,
      "rowLimit": 10000
     },
     "inputWidgets": {},
     "nuid": "85bc9cfd-0de9-4de2-868d-e20b29db3df4",
     "showTitle": false,
     "tableResultSettingsMap": {},
     "title": ""
    }
   },
   "outputs": [],
   "source": [
    "# Cotação das moedas em comparação ao real para valores de referentes a Maio de 2024 segundo o https://wise.com/us/currency-converter/\n",
    "cotacoes = {\n",
    "    'Lituânia': 5.46, 'Costa do Marfim': 0.0088, 'Namíbia': 0.28, 'México': 0.27, 'Coreia do Sul': 0.004,\n",
    "    'Hong Kong': 0.61, 'Bielorrússia': 1.58, 'Japão': 0.038, 'Portugal': 5.46, 'Singapura': 3.41,\n",
    "    'República Tcheca': 0.24, 'Canadá': 3.86, 'Estados Unidos': 5.17, 'Suécia': 0.50, 'Austrália': 3.45,\n",
    "    'Irlanda': 5.46, 'Países Baixos': 5.46, 'Noruega': 0.51, 'Eslováquia': 5.46, 'Nova Zelândia': 3.23,\n",
    "    'Áustria': 5.46, 'Reino Unido': 6.45, 'Alemanha': 5.46, 'Dinamarca': 0.73, 'Letônia': 5.46, 'Itália': 5.46,\n",
    "    'Espanha': 5.46, 'Suíça': 5.70, 'França': 5.46, 'Bélgica': 5.46, 'Rússia': 0.065, 'China': 0.72,\n",
    "    'Paraguai': 0.00068, 'Romênia': 1.13, 'Finlândia': 5.46, 'Ucrânia': 0.13, 'Angola': 0.0061,\n",
    "    'Polônia': 0.91, 'Emirados Árabes Unidos': 1.11, 'Nigéria': 0.012\n",
    "}\n",
    "# transformando a o dicionario em dataframe\n",
    "cotacao = pd.DataFrame(list(cotacoes.items()), columns=['País', 'Cotação em Real']).round(6)\n",
    "cotacao.head(10)"
   ]
  },
  {
   "cell_type": "code",
   "execution_count": 0,
   "metadata": {
    "application/vnd.databricks.v1+cell": {
     "cellMetadata": {
      "byteLimit": 2048000,
      "rowLimit": 10000
     },
     "inputWidgets": {},
     "nuid": "879ce41e-d2af-4ba4-b340-f9821d1826fd",
     "showTitle": false,
     "tableResultSettingsMap": {},
     "title": ""
    }
   },
   "outputs": [],
   "source": [
    "# juntando o dados total de Consumo,Importação e Produção  com os dados de Populacao\n",
    "df1 = pd.merge(total_aberto,populacao,on = 'País',how='left')\n",
    "# juntando o dados total de Consumo,Importação, Produção e Populacao com os dados de Cotação\n",
    "dados_externos = pd.merge(df1,cotacao,on = 'País',how ='left')"
   ]
  },
  {
   "cell_type": "code",
   "execution_count": 0,
   "metadata": {
    "application/vnd.databricks.v1+cell": {
     "cellMetadata": {
      "byteLimit": 2048000,
      "rowLimit": 10000
     },
     "inputWidgets": {},
     "nuid": "8358d4ad-fc00-499a-96d7-9b54fd60e011",
     "showTitle": false,
     "tableResultSettingsMap": {},
     "title": ""
    }
   },
   "outputs": [],
   "source": [
    "# Criação da coluna de Consumo Per Capita Média por ano(L)\n",
    "dados_externos['Consumo Per Capita Média por ano(L)'] = (dados_externos['Consumo Total 15 anos(L)'] / 15) / dados_externos['População']\n",
    "# Exclusão da coluna População \n",
    "dados_externos.drop('População',axis=1,inplace = True)\n",
    "# Visualização do Dataframe de Dados Externos finalizado \n",
    "dados_externos.head()"
   ]
  },
  {
   "cell_type": "code",
   "execution_count": 0,
   "metadata": {
    "application/vnd.databricks.v1+cell": {
     "cellMetadata": {
      "byteLimit": 2048000,
      "rowLimit": 10000
     },
     "inputWidgets": {},
     "nuid": "1040bd43-4cc1-49c6-9cc1-207632f76689",
     "showTitle": false,
     "tableResultSettingsMap": {},
     "title": ""
    }
   },
   "outputs": [],
   "source": [
    "%python\n",
    "# extraindo apenas o consumo dos top 40 países que mais importaram vinhos\n",
    "mercado_consumo = mercado_top40[mercado_top40['Categoria'] == 'Consumo']\n",
    "# abrindo por ano a base de consumo \n",
    "mercado_consumo = mercado_consumo.pivot(index = 'País',columns='Ano',values='Quantidade(L)')\n",
    "# calculando a taxa de crescimento anual composta de consumo de vinhos para cada país(CARG Consumo)\n",
    "carg_consumo = (mercado_consumo.iloc[:, -1] / mercado_consumo.iloc[:, 0]) ** (1 / (mercado_consumo.shape[1] - 1)) - 1\n",
    "# ordenando os países com maior CARG CONSUMO\n",
    "carg_consumo = carg_consumo.sort_values(ascending=False)\n",
    "# consumo\n",
    "carg_consumo = carg_consumo.reset_index()\n",
    "carg_consumo.columns = ['País', 'Taxa de Crescimento Consumo']"
   ]
  },
  {
   "cell_type": "code",
   "execution_count": 0,
   "metadata": {
    "application/vnd.databricks.v1+cell": {
     "cellMetadata": {
      "byteLimit": 2048000,
      "rowLimit": 10000
     },
     "inputWidgets": {},
     "nuid": "18860f36-8086-408e-ac2b-094e905c686d",
     "showTitle": false,
     "tableResultSettingsMap": {},
     "title": ""
    }
   },
   "outputs": [],
   "source": [
    "%python\n",
    "\n",
    "# extraindo apenas a produção dos top 40 países que mais importaram vinhos\n",
    "mercado_producao = mercado_top40[mercado_top40['Categoria'] == 'Produção']\n",
    "# substituindo os valores NaN por 0 \n",
    "mercado_producao.fillna(0,inplace = True)\n",
    "# abrindo por ano a base de producao\n",
    "mercado_producao = mercado_producao.pivot(index = 'País',columns='Ano',values='Quantidade(L)')\n",
    "# calculando a taxa de crescimento anual composta de produção de vinhos para cada país(CARG Consumo)\n",
    "carg_producao = (mercado_producao.iloc[:, -1] / mercado_producao.iloc[:, 0]) ** (1 / (mercado_producao.shape[1] - 1)) - 1\n",
    "# ordenando os países com menor CARG Producao\n",
    "carg_producao = carg_producao.sort_values(ascending=True)\n",
    "# substituindo os valores 'inf' e '-inf' por NaN\n",
    "carg_producao.replace([np.inf, -np.inf], np.nan, inplace=True)\n",
    "# substituindo os valores NaN por 0 \n",
    "carg_producao.fillna(0,inplace = True)\n",
    "# producao\n",
    "carg_producao = carg_producao.reset_index()\n",
    "carg_producao.columns = ['País', 'Taxa de Crescimento Produção']"
   ]
  },
  {
   "cell_type": "code",
   "execution_count": 0,
   "metadata": {
    "application/vnd.databricks.v1+cell": {
     "cellMetadata": {
      "byteLimit": 2048000,
      "rowLimit": 10000
     },
     "inputWidgets": {},
     "nuid": "db7fd019-82bd-4296-89a8-3ab5c4718908",
     "showTitle": false,
     "tableResultSettingsMap": {},
     "title": ""
    }
   },
   "outputs": [],
   "source": [
    "%python\n",
    "\n",
    "# extraindo apenas a importaram dos top 40 países que mais importaram vinhos\n",
    "mercado_importacao = mercado_top40[mercado_top40['Categoria'] == 'Importação']\n",
    "# substituindo os valores NaN por 0 \n",
    "mercado_importacao.fillna(0,inplace = True)\n",
    "# abrindo por ano a base de importacao\n",
    "mercado_importacao = mercado_importacao.pivot(index = 'País',columns='Ano',values='Quantidade(L)')\n",
    "# calculando a taxa de crescimento anual composta de importacao de vinhos para cada país(CARG Consumo)\n",
    "carg_importacao = (mercado_importacao.iloc[:, -1] / mercado_importacao.iloc[:, 0]) ** (1 / (mercado_importacao.shape[1] - 1)) - 1\n",
    "# ordenando os países com maior CARG Importacao\n",
    "carg_importacao = carg_importacao.sort_values(ascending=False)\n",
    "# substituindo os valores 'inf' e '-inf' por NaN\n",
    "carg_importacao.replace([np.inf, -np.inf], np.nan, inplace=True)\n",
    "# substituindo os valores NaN por 0 \n",
    "carg_importacao.fillna(0,inplace = True)\n",
    "# importacao\n",
    "carg_importacao = carg_importacao.reset_index()\n",
    "carg_importacao.columns = ['País', 'Taxa de Crescimento Importação']"
   ]
  },
  {
   "cell_type": "code",
   "execution_count": 0,
   "metadata": {
    "application/vnd.databricks.v1+cell": {
     "cellMetadata": {
      "byteLimit": 2048000,
      "rowLimit": 10000
     },
     "inputWidgets": {},
     "nuid": "ecd7419f-2f43-4d0a-9184-1eb01f90fdb1",
     "showTitle": false,
     "tableResultSettingsMap": {},
     "title": ""
    }
   },
   "outputs": [],
   "source": [
    "%python\n",
    "\n",
    "# unindo o dataframe com o carg consumo com carg producao\n",
    "df1 = pd.merge(carg_consumo,carg_producao,on='País')\n",
    "# unindo o dataframe com o carg consumo, carg producao com o dataframe carg_importação\n",
    "df2 = pd.merge(df1,carg_importacao,on='País')\n",
    "# unindo o dataframe com os cargs com a base_externa que contem as demais informações\n",
    "dados_externos = pd.merge(df2,dados_externos,on='País')"
   ]
  },
  {
   "cell_type": "code",
   "execution_count": 0,
   "metadata": {
    "application/vnd.databricks.v1+cell": {
     "cellMetadata": {
      "byteLimit": 2048000,
      "rowLimit": 10000
     },
     "inputWidgets": {},
     "nuid": "2dd2bfc7-ad65-4080-813a-d172f9a2b0e4",
     "showTitle": false,
     "tableResultSettingsMap": {},
     "title": ""
    }
   },
   "outputs": [],
   "source": [
    "%python\n",
    "\n",
    "# utilizando o Scikit-Learn para normalizar todas as colunas\n",
    "scaler = MinMaxScaler()\n",
    "cols_to_normalizadas = ['Taxa de Crescimento Consumo', 'Taxa de Crescimento Produção',\n",
    "                        'Taxa de Crescimento Importação', 'Consumo Total 15 anos(L)',\n",
    "                        'Importação Total 15 anos(L)', 'Produção Total 15 anos(L)',\n",
    "                        'Cotação em Real', 'Consumo Per Capita Média por ano(L)']\n",
    "dados_externos[cols_to_normalizadas] = scaler.fit_transform(dados_externos[cols_to_normalizadas])"
   ]
  },
  {
   "cell_type": "code",
   "execution_count": 0,
   "metadata": {
    "application/vnd.databricks.v1+cell": {
     "cellMetadata": {
      "byteLimit": 2048000,
      "rowLimit": 10000
     },
     "inputWidgets": {},
     "nuid": "64d5db14-e1f4-4c24-9270-eb26198079ca",
     "showTitle": false,
     "tableResultSettingsMap": {},
     "title": ""
    }
   },
   "outputs": [],
   "source": [
    "%python\n",
    "\n",
    "# como o objetivo é inversamente proporcional a taxa de crescimento da produção e produção total iremos usar o complento em relação a 1 pos normalização\n",
    "dados_externos['Taxa de Crescimento Produção'] = 1 - dados_externos['Taxa de Crescimento Produção']\n",
    "dados_externos['Produção Total 15 anos(L)'] = 1 - dados_externos['Produção Total 15 anos(L)']\n",
    "dados_externos"
   ]
  },
  {
   "cell_type": "code",
   "execution_count": 0,
   "metadata": {
    "application/vnd.databricks.v1+cell": {
     "cellMetadata": {
      "byteLimit": 2048000,
      "rowLimit": 10000
     },
     "inputWidgets": {},
     "nuid": "9c084388-cb4a-4434-8fc8-a5a2065778bb",
     "showTitle": false,
     "tableResultSettingsMap": {},
     "title": ""
    }
   },
   "outputs": [],
   "source": [
    "%python\n",
    "\n",
    "dados_externos.columns = ['País', 'Taxa de Crescimento Consumo', 'Taxa de Decrescimento Produção',\n",
    "                            'Taxa de Crescimento Importação','Categoria' ,'Consumo Total 15 anos(L)',\n",
    "                            'Importação Total 15 anos(L)', 'Produção Total 15 anos(L)',\n",
    "                            'Cotação em Real', 'Consumo Per Capita Média por ano(L)']"
   ]
  },
  {
   "cell_type": "code",
   "execution_count": 0,
   "metadata": {
    "application/vnd.databricks.v1+cell": {
     "cellMetadata": {
      "byteLimit": 2048000,
      "rowLimit": 10000
     },
     "inputWidgets": {},
     "nuid": "66c52a1e-6a3b-4aab-b8a7-3a53054d6cbe",
     "showTitle": false,
     "tableResultSettingsMap": {},
     "title": ""
    }
   },
   "outputs": [],
   "source": [
    "%python\n",
    "\n",
    "# atribuindo peso as colunas\n",
    "peso_consumo = 0.1\n",
    "peso_importacao = 0.1\n",
    "peso_producao = 0.05\n",
    "peso_per_capita = 0.05\n",
    "peso_cotacao = 0.1\n",
    "peso_consumo_total = 0.2\n",
    "peso_importacao_total = 0.2\n",
    "peso_producao_total = 0.2"
   ]
  },
  {
   "cell_type": "code",
   "execution_count": 0,
   "metadata": {
    "application/vnd.databricks.v1+cell": {
     "cellMetadata": {
      "byteLimit": 2048000,
      "rowLimit": 10000
     },
     "inputWidgets": {},
     "nuid": "fe6b5d26-3e34-479b-b421-c416cdcbb9b3",
     "showTitle": false,
     "tableResultSettingsMap": {},
     "title": ""
    }
   },
   "outputs": [],
   "source": [
    "%python\n",
    "\n",
    "# calculando a pontuação composta segundo nosso modelo matemático\n",
    "dados_externos['Pontuacao_Composta'] = (\n",
    "    dados_externos['Taxa de Crescimento Consumo'] * peso_consumo +\n",
    "    dados_externos['Taxa de Crescimento Importação'] * peso_importacao +\n",
    "    dados_externos['Taxa de Decrescimento Produção'] * peso_producao +\n",
    "    dados_externos['Consumo Per Capita Média por ano(L)'] * peso_per_capita +\n",
    "    dados_externos['Cotação em Real'] * peso_cotacao +\n",
    "    dados_externos['Consumo Total 15 anos(L)'] * peso_consumo_total +\n",
    "    dados_externos['Importação Total 15 anos(L)'] * peso_importacao_total +\n",
    "    dados_externos['Produção Total 15 anos(L)'] * peso_producao_total\n",
    ")\n",
    "# Ordenando os países com base na pontuação composta\n",
    "dados_externos.sort_values(by='Pontuacao_Composta', ascending=False, inplace=True)"
   ]
  },
  {
   "cell_type": "code",
   "execution_count": 0,
   "metadata": {
    "application/vnd.databricks.v1+cell": {
     "cellMetadata": {
      "byteLimit": 2048000,
      "rowLimit": 10000
     },
     "inputWidgets": {},
     "nuid": "121a8847-3d12-4593-88bf-f7770b036790",
     "showTitle": false,
     "tableResultSettingsMap": {},
     "title": ""
    }
   },
   "outputs": [],
   "source": [
    "%python\n",
    "\n",
    "# extraindo o top 10 melhores países para investir segundo o modelo matemático \n",
    "top_10_modelo = dados_externos.head(10)\n",
    "#criando a figura\n",
    "plt.figure(figsize=(12,5))\n",
    "#criando o grafico \n",
    "grafico_modelo_matematico = sns.barplot(data = top_10_modelo, x = 'País',y = 'Pontuacao_Composta',color = '#A1343C')\n",
    "# adicinando o rotulo de dados\n",
    "for p in grafico_modelo_matematico.patches:\n",
    "    grafico_modelo_matematico.annotate(f'{p.get_height():.2f}',\n",
    "                (p.get_x() + p.get_width() / 2., p.get_height()),\n",
    "                ha='center', va='center', xytext=(0, 10),\n",
    "                textcoords='offset points')\n",
    "# chamando a função de costumização \n",
    "grafico_vertical(grafico_modelo_matematico,top_10_modelo['Pontuacao_Composta'],'Ranking dos Melhores Mercados para Exportação')"
   ]
  }
 ],
 "metadata": {
  "application/vnd.databricks.v1+notebook": {
   "computePreferences": null,
   "dashboards": [],
   "environmentMetadata": {
    "base_environment": "",
    "environment_version": "2"
   },
   "inputWidgetPreferences": null,
   "language": "python",
   "notebookMetadata": {
    "mostRecentlyExecutedCommandWithImplicitDF": {
     "commandId": 7384540560371536,
     "dataframes": [
      "_sqldf"
     ]
    },
    "pythonIndentUnit": 4
   },
   "notebookName": "Análise de Exportação de vinhos _ Pós Tech Data Analytics Turma 9DTAT _ Fiap",
   "widgets": {}
  },
  "language_info": {
   "name": "python"
  }
 },
 "nbformat": 4,
 "nbformat_minor": 0
}
